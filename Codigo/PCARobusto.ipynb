{
  "nbformat": 4,
  "nbformat_minor": 0,
  "metadata": {
    "colab": {
      "name": "PCARobusto.ipynb",
      "provenance": [],
      "collapsed_sections": []
    },
    "kernelspec": {
      "name": "python3",
      "display_name": "Python 3"
    },
    "language_info": {
      "name": "python"
    }
  },
  "cells": [
    {
      "cell_type": "markdown",
      "source": [
        "### Lectura de datos"
      ],
      "metadata": {
        "id": "RA9hbyKF_Dyf"
      }
    },
    {
      "cell_type": "markdown",
      "source": [
        "Definicion Distancia Mahalanobis 'https://www.statology.org/mahalanobis-distance-python/'"
      ],
      "metadata": {
        "id": "ze0boi6L7i4v"
      }
    },
    {
      "cell_type": "code",
      "execution_count": null,
      "metadata": {
        "id": "j3WZKS0Bev6l"
      },
      "outputs": [],
      "source": [
        "import pandas as pd\n",
        "import numpy as np\n",
        "from sklearn.covariance import LedoitWolf\n",
        "from sklearn.decomposition import PCA\n",
        "from sklearn.covariance import MinCovDet"
      ]
    },
    {
      "cell_type": "code",
      "source": [
        "df_datos_limpios = pd.read_csv(\"https://raw.githubusercontent.com/slopezv2/PCARobusto/main/Datos/SaratogaHouses.csv\",header=0)"
      ],
      "metadata": {
        "id": "-QWp11fPe38v"
      },
      "execution_count": null,
      "outputs": []
    },
    {
      "cell_type": "code",
      "source": [
        "df_datos_limpios"
      ],
      "metadata": {
        "colab": {
          "base_uri": "https://localhost:8080/",
          "height": 424
        },
        "id": "4DFjN47-fEF9",
        "outputId": "f4a8decd-74d7-4b4c-bbcf-d4fdad1d2d11"
      },
      "execution_count": null,
      "outputs": [
        {
          "output_type": "execute_result",
          "data": {
            "text/plain": [
              "       price  lotSize  age  landValue  livingArea  pctCollege  bedrooms  \\\n",
              "0     132500     0.09   42      50000         906          35         2   \n",
              "1     181115     0.92    0      22300        1953          51         3   \n",
              "2     109000     0.19  133       7300        1944          51         4   \n",
              "3     155000     0.41   13      18700        1944          51         3   \n",
              "4      86060     0.11    0      15000         840          51         2   \n",
              "...      ...      ...  ...        ...         ...         ...       ...   \n",
              "1723  289000     0.38   32      24200        2310          61         5   \n",
              "1724  285000     0.94   37      36200        2564          61         4   \n",
              "1725  194900     0.39    9      20400        1099          51         2   \n",
              "1726  125000     0.24   48      16800        1225          51         3   \n",
              "1727  111300     0.59   86      26000        1959          51         3   \n",
              "\n",
              "      fireplaces  bathrooms  rooms  heating  fuel  sewer  waterfront  \\\n",
              "0              1        1.0      5        3     2      1           2   \n",
              "1              0        2.5      6        2     1      1           2   \n",
              "2              1        1.0      8        2     1      2           2   \n",
              "3              1        1.5      5        1     1      1           2   \n",
              "4              0        1.0      3        1     1      2           2   \n",
              "...          ...        ...    ...      ...   ...    ...         ...   \n",
              "1723           1        2.5     11        2     1      2           2   \n",
              "1724           1        2.5     11        2     1      2           2   \n",
              "1725           0        1.0      3        1     1      2           2   \n",
              "1726           1        1.0      7        1     1      2           2   \n",
              "1727           0        1.0      6        1     1      1           2   \n",
              "\n",
              "      newConstruction  centralAir  \n",
              "0                   2           2  \n",
              "1                   2           2  \n",
              "2                   2           2  \n",
              "3                   2           2  \n",
              "4                   1           1  \n",
              "...               ...         ...  \n",
              "1723                2           2  \n",
              "1724                2           2  \n",
              "1725                2           2  \n",
              "1726                2           2  \n",
              "1727                2           2  \n",
              "\n",
              "[1728 rows x 16 columns]"
            ],
            "text/html": [
              "\n",
              "  <div id=\"df-517533d7-58d2-44fa-952a-85f1abb7fcbd\">\n",
              "    <div class=\"colab-df-container\">\n",
              "      <div>\n",
              "<style scoped>\n",
              "    .dataframe tbody tr th:only-of-type {\n",
              "        vertical-align: middle;\n",
              "    }\n",
              "\n",
              "    .dataframe tbody tr th {\n",
              "        vertical-align: top;\n",
              "    }\n",
              "\n",
              "    .dataframe thead th {\n",
              "        text-align: right;\n",
              "    }\n",
              "</style>\n",
              "<table border=\"1\" class=\"dataframe\">\n",
              "  <thead>\n",
              "    <tr style=\"text-align: right;\">\n",
              "      <th></th>\n",
              "      <th>price</th>\n",
              "      <th>lotSize</th>\n",
              "      <th>age</th>\n",
              "      <th>landValue</th>\n",
              "      <th>livingArea</th>\n",
              "      <th>pctCollege</th>\n",
              "      <th>bedrooms</th>\n",
              "      <th>fireplaces</th>\n",
              "      <th>bathrooms</th>\n",
              "      <th>rooms</th>\n",
              "      <th>heating</th>\n",
              "      <th>fuel</th>\n",
              "      <th>sewer</th>\n",
              "      <th>waterfront</th>\n",
              "      <th>newConstruction</th>\n",
              "      <th>centralAir</th>\n",
              "    </tr>\n",
              "  </thead>\n",
              "  <tbody>\n",
              "    <tr>\n",
              "      <th>0</th>\n",
              "      <td>132500</td>\n",
              "      <td>0.09</td>\n",
              "      <td>42</td>\n",
              "      <td>50000</td>\n",
              "      <td>906</td>\n",
              "      <td>35</td>\n",
              "      <td>2</td>\n",
              "      <td>1</td>\n",
              "      <td>1.0</td>\n",
              "      <td>5</td>\n",
              "      <td>3</td>\n",
              "      <td>2</td>\n",
              "      <td>1</td>\n",
              "      <td>2</td>\n",
              "      <td>2</td>\n",
              "      <td>2</td>\n",
              "    </tr>\n",
              "    <tr>\n",
              "      <th>1</th>\n",
              "      <td>181115</td>\n",
              "      <td>0.92</td>\n",
              "      <td>0</td>\n",
              "      <td>22300</td>\n",
              "      <td>1953</td>\n",
              "      <td>51</td>\n",
              "      <td>3</td>\n",
              "      <td>0</td>\n",
              "      <td>2.5</td>\n",
              "      <td>6</td>\n",
              "      <td>2</td>\n",
              "      <td>1</td>\n",
              "      <td>1</td>\n",
              "      <td>2</td>\n",
              "      <td>2</td>\n",
              "      <td>2</td>\n",
              "    </tr>\n",
              "    <tr>\n",
              "      <th>2</th>\n",
              "      <td>109000</td>\n",
              "      <td>0.19</td>\n",
              "      <td>133</td>\n",
              "      <td>7300</td>\n",
              "      <td>1944</td>\n",
              "      <td>51</td>\n",
              "      <td>4</td>\n",
              "      <td>1</td>\n",
              "      <td>1.0</td>\n",
              "      <td>8</td>\n",
              "      <td>2</td>\n",
              "      <td>1</td>\n",
              "      <td>2</td>\n",
              "      <td>2</td>\n",
              "      <td>2</td>\n",
              "      <td>2</td>\n",
              "    </tr>\n",
              "    <tr>\n",
              "      <th>3</th>\n",
              "      <td>155000</td>\n",
              "      <td>0.41</td>\n",
              "      <td>13</td>\n",
              "      <td>18700</td>\n",
              "      <td>1944</td>\n",
              "      <td>51</td>\n",
              "      <td>3</td>\n",
              "      <td>1</td>\n",
              "      <td>1.5</td>\n",
              "      <td>5</td>\n",
              "      <td>1</td>\n",
              "      <td>1</td>\n",
              "      <td>1</td>\n",
              "      <td>2</td>\n",
              "      <td>2</td>\n",
              "      <td>2</td>\n",
              "    </tr>\n",
              "    <tr>\n",
              "      <th>4</th>\n",
              "      <td>86060</td>\n",
              "      <td>0.11</td>\n",
              "      <td>0</td>\n",
              "      <td>15000</td>\n",
              "      <td>840</td>\n",
              "      <td>51</td>\n",
              "      <td>2</td>\n",
              "      <td>0</td>\n",
              "      <td>1.0</td>\n",
              "      <td>3</td>\n",
              "      <td>1</td>\n",
              "      <td>1</td>\n",
              "      <td>2</td>\n",
              "      <td>2</td>\n",
              "      <td>1</td>\n",
              "      <td>1</td>\n",
              "    </tr>\n",
              "    <tr>\n",
              "      <th>...</th>\n",
              "      <td>...</td>\n",
              "      <td>...</td>\n",
              "      <td>...</td>\n",
              "      <td>...</td>\n",
              "      <td>...</td>\n",
              "      <td>...</td>\n",
              "      <td>...</td>\n",
              "      <td>...</td>\n",
              "      <td>...</td>\n",
              "      <td>...</td>\n",
              "      <td>...</td>\n",
              "      <td>...</td>\n",
              "      <td>...</td>\n",
              "      <td>...</td>\n",
              "      <td>...</td>\n",
              "      <td>...</td>\n",
              "    </tr>\n",
              "    <tr>\n",
              "      <th>1723</th>\n",
              "      <td>289000</td>\n",
              "      <td>0.38</td>\n",
              "      <td>32</td>\n",
              "      <td>24200</td>\n",
              "      <td>2310</td>\n",
              "      <td>61</td>\n",
              "      <td>5</td>\n",
              "      <td>1</td>\n",
              "      <td>2.5</td>\n",
              "      <td>11</td>\n",
              "      <td>2</td>\n",
              "      <td>1</td>\n",
              "      <td>2</td>\n",
              "      <td>2</td>\n",
              "      <td>2</td>\n",
              "      <td>2</td>\n",
              "    </tr>\n",
              "    <tr>\n",
              "      <th>1724</th>\n",
              "      <td>285000</td>\n",
              "      <td>0.94</td>\n",
              "      <td>37</td>\n",
              "      <td>36200</td>\n",
              "      <td>2564</td>\n",
              "      <td>61</td>\n",
              "      <td>4</td>\n",
              "      <td>1</td>\n",
              "      <td>2.5</td>\n",
              "      <td>11</td>\n",
              "      <td>2</td>\n",
              "      <td>1</td>\n",
              "      <td>2</td>\n",
              "      <td>2</td>\n",
              "      <td>2</td>\n",
              "      <td>2</td>\n",
              "    </tr>\n",
              "    <tr>\n",
              "      <th>1725</th>\n",
              "      <td>194900</td>\n",
              "      <td>0.39</td>\n",
              "      <td>9</td>\n",
              "      <td>20400</td>\n",
              "      <td>1099</td>\n",
              "      <td>51</td>\n",
              "      <td>2</td>\n",
              "      <td>0</td>\n",
              "      <td>1.0</td>\n",
              "      <td>3</td>\n",
              "      <td>1</td>\n",
              "      <td>1</td>\n",
              "      <td>2</td>\n",
              "      <td>2</td>\n",
              "      <td>2</td>\n",
              "      <td>2</td>\n",
              "    </tr>\n",
              "    <tr>\n",
              "      <th>1726</th>\n",
              "      <td>125000</td>\n",
              "      <td>0.24</td>\n",
              "      <td>48</td>\n",
              "      <td>16800</td>\n",
              "      <td>1225</td>\n",
              "      <td>51</td>\n",
              "      <td>3</td>\n",
              "      <td>1</td>\n",
              "      <td>1.0</td>\n",
              "      <td>7</td>\n",
              "      <td>1</td>\n",
              "      <td>1</td>\n",
              "      <td>2</td>\n",
              "      <td>2</td>\n",
              "      <td>2</td>\n",
              "      <td>2</td>\n",
              "    </tr>\n",
              "    <tr>\n",
              "      <th>1727</th>\n",
              "      <td>111300</td>\n",
              "      <td>0.59</td>\n",
              "      <td>86</td>\n",
              "      <td>26000</td>\n",
              "      <td>1959</td>\n",
              "      <td>51</td>\n",
              "      <td>3</td>\n",
              "      <td>0</td>\n",
              "      <td>1.0</td>\n",
              "      <td>6</td>\n",
              "      <td>1</td>\n",
              "      <td>1</td>\n",
              "      <td>1</td>\n",
              "      <td>2</td>\n",
              "      <td>2</td>\n",
              "      <td>2</td>\n",
              "    </tr>\n",
              "  </tbody>\n",
              "</table>\n",
              "<p>1728 rows × 16 columns</p>\n",
              "</div>\n",
              "      <button class=\"colab-df-convert\" onclick=\"convertToInteractive('df-517533d7-58d2-44fa-952a-85f1abb7fcbd')\"\n",
              "              title=\"Convert this dataframe to an interactive table.\"\n",
              "              style=\"display:none;\">\n",
              "        \n",
              "  <svg xmlns=\"http://www.w3.org/2000/svg\" height=\"24px\"viewBox=\"0 0 24 24\"\n",
              "       width=\"24px\">\n",
              "    <path d=\"M0 0h24v24H0V0z\" fill=\"none\"/>\n",
              "    <path d=\"M18.56 5.44l.94 2.06.94-2.06 2.06-.94-2.06-.94-.94-2.06-.94 2.06-2.06.94zm-11 1L8.5 8.5l.94-2.06 2.06-.94-2.06-.94L8.5 2.5l-.94 2.06-2.06.94zm10 10l.94 2.06.94-2.06 2.06-.94-2.06-.94-.94-2.06-.94 2.06-2.06.94z\"/><path d=\"M17.41 7.96l-1.37-1.37c-.4-.4-.92-.59-1.43-.59-.52 0-1.04.2-1.43.59L10.3 9.45l-7.72 7.72c-.78.78-.78 2.05 0 2.83L4 21.41c.39.39.9.59 1.41.59.51 0 1.02-.2 1.41-.59l7.78-7.78 2.81-2.81c.8-.78.8-2.07 0-2.86zM5.41 20L4 18.59l7.72-7.72 1.47 1.35L5.41 20z\"/>\n",
              "  </svg>\n",
              "      </button>\n",
              "      \n",
              "  <style>\n",
              "    .colab-df-container {\n",
              "      display:flex;\n",
              "      flex-wrap:wrap;\n",
              "      gap: 12px;\n",
              "    }\n",
              "\n",
              "    .colab-df-convert {\n",
              "      background-color: #E8F0FE;\n",
              "      border: none;\n",
              "      border-radius: 50%;\n",
              "      cursor: pointer;\n",
              "      display: none;\n",
              "      fill: #1967D2;\n",
              "      height: 32px;\n",
              "      padding: 0 0 0 0;\n",
              "      width: 32px;\n",
              "    }\n",
              "\n",
              "    .colab-df-convert:hover {\n",
              "      background-color: #E2EBFA;\n",
              "      box-shadow: 0px 1px 2px rgba(60, 64, 67, 0.3), 0px 1px 3px 1px rgba(60, 64, 67, 0.15);\n",
              "      fill: #174EA6;\n",
              "    }\n",
              "\n",
              "    [theme=dark] .colab-df-convert {\n",
              "      background-color: #3B4455;\n",
              "      fill: #D2E3FC;\n",
              "    }\n",
              "\n",
              "    [theme=dark] .colab-df-convert:hover {\n",
              "      background-color: #434B5C;\n",
              "      box-shadow: 0px 1px 3px 1px rgba(0, 0, 0, 0.15);\n",
              "      filter: drop-shadow(0px 1px 2px rgba(0, 0, 0, 0.3));\n",
              "      fill: #FFFFFF;\n",
              "    }\n",
              "  </style>\n",
              "\n",
              "      <script>\n",
              "        const buttonEl =\n",
              "          document.querySelector('#df-517533d7-58d2-44fa-952a-85f1abb7fcbd button.colab-df-convert');\n",
              "        buttonEl.style.display =\n",
              "          google.colab.kernel.accessAllowed ? 'block' : 'none';\n",
              "\n",
              "        async function convertToInteractive(key) {\n",
              "          const element = document.querySelector('#df-517533d7-58d2-44fa-952a-85f1abb7fcbd');\n",
              "          const dataTable =\n",
              "            await google.colab.kernel.invokeFunction('convertToInteractive',\n",
              "                                                     [key], {});\n",
              "          if (!dataTable) return;\n",
              "\n",
              "          const docLinkHtml = 'Like what you see? Visit the ' +\n",
              "            '<a target=\"_blank\" href=https://colab.research.google.com/notebooks/data_table.ipynb>data table notebook</a>'\n",
              "            + ' to learn more about interactive tables.';\n",
              "          element.innerHTML = '';\n",
              "          dataTable['output_type'] = 'display_data';\n",
              "          await google.colab.output.renderOutput(dataTable, element);\n",
              "          const docLink = document.createElement('div');\n",
              "          docLink.innerHTML = docLinkHtml;\n",
              "          element.appendChild(docLink);\n",
              "        }\n",
              "      </script>\n",
              "    </div>\n",
              "  </div>\n",
              "  "
            ]
          },
          "metadata": {},
          "execution_count": 3
        }
      ]
    },
    {
      "cell_type": "code",
      "source": [
        "df_datos_limpios.info()"
      ],
      "metadata": {
        "colab": {
          "base_uri": "https://localhost:8080/"
        },
        "id": "6X0hGz9G3pBY",
        "outputId": "b521f8ea-365c-49d5-bc6a-d86fd58b22ca"
      },
      "execution_count": null,
      "outputs": [
        {
          "output_type": "stream",
          "name": "stdout",
          "text": [
            "<class 'pandas.core.frame.DataFrame'>\n",
            "RangeIndex: 1728 entries, 0 to 1727\n",
            "Data columns (total 16 columns):\n",
            " #   Column           Non-Null Count  Dtype  \n",
            "---  ------           --------------  -----  \n",
            " 0   price            1728 non-null   int64  \n",
            " 1   lotSize          1728 non-null   float64\n",
            " 2   age              1728 non-null   int64  \n",
            " 3   landValue        1728 non-null   int64  \n",
            " 4   livingArea       1728 non-null   int64  \n",
            " 5   pctCollege       1728 non-null   int64  \n",
            " 6   bedrooms         1728 non-null   int64  \n",
            " 7   fireplaces       1728 non-null   int64  \n",
            " 8   bathrooms        1728 non-null   float64\n",
            " 9   rooms            1728 non-null   int64  \n",
            " 10  heating          1728 non-null   int64  \n",
            " 11  fuel             1728 non-null   int64  \n",
            " 12  sewer            1728 non-null   int64  \n",
            " 13  waterfront       1728 non-null   int64  \n",
            " 14  newConstruction  1728 non-null   int64  \n",
            " 15  centralAir       1728 non-null   int64  \n",
            "dtypes: float64(2), int64(14)\n",
            "memory usage: 216.1 KB\n"
          ]
        }
      ]
    },
    {
      "cell_type": "code",
      "source": [
        "df_datos_limpios.hist(figsize=(20,10))"
      ],
      "metadata": {
        "colab": {
          "base_uri": "https://localhost:8080/",
          "height": 902
        },
        "id": "VAv99e8Sbtgu",
        "outputId": "0a3a29e9-e23d-4e64-d935-418d32519f36"
      },
      "execution_count": null,
      "outputs": [
        {
          "output_type": "execute_result",
          "data": {
            "text/plain": [
              "array([[<matplotlib.axes._subplots.AxesSubplot object at 0x7fe161de0a90>,\n",
              "        <matplotlib.axes._subplots.AxesSubplot object at 0x7fe162549490>,\n",
              "        <matplotlib.axes._subplots.AxesSubplot object at 0x7fe161e71ed0>,\n",
              "        <matplotlib.axes._subplots.AxesSubplot object at 0x7fe161d3d790>],\n",
              "       [<matplotlib.axes._subplots.AxesSubplot object at 0x7fe161cf3d90>,\n",
              "        <matplotlib.axes._subplots.AxesSubplot object at 0x7fe161cb63d0>,\n",
              "        <matplotlib.axes._subplots.AxesSubplot object at 0x7fe161c6ca50>,\n",
              "        <matplotlib.axes._subplots.AxesSubplot object at 0x7fe161c17b10>],\n",
              "       [<matplotlib.axes._subplots.AxesSubplot object at 0x7fe161c30050>,\n",
              "        <matplotlib.axes._subplots.AxesSubplot object at 0x7fe161be5710>,\n",
              "        <matplotlib.axes._subplots.AxesSubplot object at 0x7fe161b60250>,\n",
              "        <matplotlib.axes._subplots.AxesSubplot object at 0x7fe161b14850>],\n",
              "       [<matplotlib.axes._subplots.AxesSubplot object at 0x7fe161b4be50>,\n",
              "        <matplotlib.axes._subplots.AxesSubplot object at 0x7fe161b10490>,\n",
              "        <matplotlib.axes._subplots.AxesSubplot object at 0x7fe161ac5a90>,\n",
              "        <matplotlib.axes._subplots.AxesSubplot object at 0x7fe161a8a0d0>]],\n",
              "      dtype=object)"
            ]
          },
          "metadata": {},
          "execution_count": 5
        },
        {
          "output_type": "display_data",
          "data": {
            "text/plain": [
              "<Figure size 1440x720 with 16 Axes>"
            ],
            "image/png": "[encoded data removed]"
          },
          "metadata": {
            "needs_background": "light"
          }
        }
      ]
    },
    {
      "cell_type": "markdown",
      "source": [
        "# Definición de PCA:"
      ],
      "metadata": {
        "id": "QjmkurbzOHcm"
      }
    },
    {
      "cell_type": "code",
      "source": [
        "import numpy as np\n",
        " \n",
        "def PCA_manual(X , num_components, covariance_matrix=None):\n",
        "    \"\"\"\n",
        "    Taken from: https://www.askpython.com/python/examples/principal-component-analysis\n",
        "    adapted to receive the covariance matrix\n",
        "    \"\"\" \n",
        "    #Step-1\n",
        "    X_meaned = X - np.mean(X , axis = 0)\n",
        "     \n",
        "    #Step-2\n",
        "    if covariance_matrix is None:\n",
        "      cov_mat = np.cov(X_meaned , rowvar = False)\n",
        "    else :\n",
        "      cov_mat = covariance_matrix\n",
        "     \n",
        "    #Step-3\n",
        "    eigen_values , eigen_vectors = np.linalg.eigh(cov_mat)\n",
        "     \n",
        "    #Step-4\n",
        "    sorted_index = np.argsort(eigen_values)[::-1]\n",
        "    sorted_eigenvalue = eigen_values[sorted_index]\n",
        "    sorted_eigenvectors = eigen_vectors[:,sorted_index]\n",
        "     \n",
        "    #Step-5\n",
        "    eigenvector_subset = sorted_eigenvectors[:,0:num_components]\n",
        "     \n",
        "    #Step-6\n",
        "    X_reduced = np.dot(eigenvector_subset.transpose() , X_meaned.transpose() ).transpose()\n",
        "     \n",
        "    return X_reduced, sorted_eigenvalue"
      ],
      "metadata": {
        "id": "MHG--jkVONc5"
      },
      "execution_count": null,
      "outputs": []
    },
    {
      "cell_type": "code",
      "source": [
        "df_datos_centralizo=df_datos_limpios-df_datos_limpios.mean() #Datos centralizados"
      ],
      "metadata": {
        "id": "JD22t3j0JGAL"
      },
      "execution_count": null,
      "outputs": []
    },
    {
      "cell_type": "markdown",
      "source": [
        "## 1. Detección de punto atípicos con Covarianza Clásica:"
      ],
      "metadata": {
        "id": "xt0Bb55u3fth"
      }
    },
    {
      "cell_type": "code",
      "source": [
        "X_centralizada=pd.DataFrame(df_datos_centralizo)\n",
        "X_centralizada = X_centralizada.values\n",
        "Número_filas, Número_columnas=X_centralizada.shape\n",
        "\n",
        "Transpuesta=X_centralizada.transpose()\n",
        "cov=np.cov(X_centralizada, rowvar=False)\n",
        "Inverso_covarianza=np.linalg.inv(cov)\n",
        "MD=np.zeros((Número_filas, 1))\n",
        "\n",
        "for i in range(1,Número_filas):\n",
        "    tem1=np.dot(X_centralizada[i,:],Inverso_covarianza)\n",
        "    tem2=np.dot(tem1,Transpuesta[:,i])\n",
        "    MD[i]=np.sqrt(tem2)\n",
        "\n",
        "print('La distancia de Mahalanobis es: \\n', MD)"
      ],
      "metadata": {
        "colab": {
          "base_uri": "https://localhost:8080/"
        },
        "id": "YS9gNSQQ4WMC",
        "outputId": "23791dfd-b68a-4d70-8cad-46628c66876a"
      },
      "execution_count": null,
      "outputs": [
        {
          "output_type": "stream",
          "name": "stdout",
          "text": [
            "La distancia de Mahalanobis es: \n",
            " [[0.        ]\n",
            " [3.52888856]\n",
            " [4.86215272]\n",
            " ...\n",
            " [3.1538128 ]\n",
            " [2.78397522]\n",
            " [4.1208988 ]]\n"
          ]
        }
      ]
    },
    {
      "cell_type": "code",
      "source": [
        "MD = pd.DataFrame(MD)\n",
        "MD.columns = ['Distancias_Mahal']\n",
        "MD.set_index(df_datos_limpios.index,inplace=True)\n",
        "\n",
        "corte = np.percentile(MD, 70)\n",
        "print('La distancia de corte es: ',corte)\n",
        "\n",
        "X_99 = []\n",
        "X_99 = pd.concat([df_datos_limpios,MD],axis=1)\n",
        "X_sin_corte = X_99.copy()\n",
        "X_99_corte = X_99['Distancias_Mahal'] < corte\n",
        "X_99 = X_99[X_99_corte]\n",
        "X_99.reset_index(drop=True, inplace=True)\n",
        "X_99 = X_99.drop(['Distancias_Mahal'],axis=1)\n",
        "X_99"
      ],
      "metadata": {
        "colab": {
          "base_uri": "https://localhost:8080/",
          "height": 441
        },
        "id": "Ci4CFNIG5FDq",
        "outputId": "bd3801b0-c780-4fa8-c62d-d2b2bffb3a5b"
      },
      "execution_count": null,
      "outputs": [
        {
          "output_type": "stream",
          "name": "stdout",
          "text": [
            "La distancia de corte es:  3.8741715492884583\n"
          ]
        },
        {
          "output_type": "execute_result",
          "data": {
            "text/plain": [
              "       price  lotSize  age  landValue  livingArea  pctCollege  bedrooms  \\\n",
              "0     132500     0.09   42      50000         906          35         2   \n",
              "1     181115     0.92    0      22300        1953          51         3   \n",
              "2     155000     0.41   13      18700        1944          51         3   \n",
              "3      90000     0.83   36      22200        1632          51         3   \n",
              "4     120000     0.92    1      22300        1624          51         3   \n",
              "...      ...      ...  ...        ...         ...         ...       ...   \n",
              "1204  249000     0.43   41      45800        2426          61         4   \n",
              "1205  289000     0.38   32      24200        2310          61         5   \n",
              "1206  285000     0.94   37      36200        2564          61         4   \n",
              "1207  194900     0.39    9      20400        1099          51         2   \n",
              "1208  125000     0.24   48      16800        1225          51         3   \n",
              "\n",
              "      fireplaces  bathrooms  rooms  heating  fuel  sewer  waterfront  \\\n",
              "0              1        1.0      5        3     2      1           2   \n",
              "1              0        2.5      6        2     1      1           2   \n",
              "2              1        1.5      5        1     1      1           2   \n",
              "3              0        1.5      8        3     2      1           2   \n",
              "4              0        2.0      6        1     1      1           2   \n",
              "...          ...        ...    ...      ...   ...    ...         ...   \n",
              "1204           2        2.0      7        2     1      2           2   \n",
              "1205           1        2.5     11        2     1      2           2   \n",
              "1206           1        2.5     11        2     1      2           2   \n",
              "1207           0        1.0      3        1     1      2           2   \n",
              "1208           1        1.0      7        1     1      2           2   \n",
              "\n",
              "      newConstruction  centralAir  \n",
              "0                   2           2  \n",
              "1                   2           2  \n",
              "2                   2           2  \n",
              "3                   2           2  \n",
              "4                   2           2  \n",
              "...               ...         ...  \n",
              "1204                2           2  \n",
              "1205                2           2  \n",
              "1206                2           2  \n",
              "1207                2           2  \n",
              "1208                2           2  \n",
              "\n",
              "[1209 rows x 16 columns]"
            ],
            "text/html": [
              "\n",
              "  <div id=\"df-a1a3571e-76c7-465e-b7b9-bf81b8aad90e\">\n",
              "    <div class=\"colab-df-container\">\n",
              "      <div>\n",
              "<style scoped>\n",
              "    .dataframe tbody tr th:only-of-type {\n",
              "        vertical-align: middle;\n",
              "    }\n",
              "\n",
              "    .dataframe tbody tr th {\n",
              "        vertical-align: top;\n",
              "    }\n",
              "\n",
              "    .dataframe thead th {\n",
              "        text-align: right;\n",
              "    }\n",
              "</style>\n",
              "<table border=\"1\" class=\"dataframe\">\n",
              "  <thead>\n",
              "    <tr style=\"text-align: right;\">\n",
              "      <th></th>\n",
              "      <th>price</th>\n",
              "      <th>lotSize</th>\n",
              "      <th>age</th>\n",
              "      <th>landValue</th>\n",
              "      <th>livingArea</th>\n",
              "      <th>pctCollege</th>\n",
              "      <th>bedrooms</th>\n",
              "      <th>fireplaces</th>\n",
              "      <th>bathrooms</th>\n",
              "      <th>rooms</th>\n",
              "      <th>heating</th>\n",
              "      <th>fuel</th>\n",
              "      <th>sewer</th>\n",
              "      <th>waterfront</th>\n",
              "      <th>newConstruction</th>\n",
              "      <th>centralAir</th>\n",
              "    </tr>\n",
              "  </thead>\n",
              "  <tbody>\n",
              "    <tr>\n",
              "      <th>0</th>\n",
              "      <td>132500</td>\n",
              "      <td>0.09</td>\n",
              "      <td>42</td>\n",
              "      <td>50000</td>\n",
              "      <td>906</td>\n",
              "      <td>35</td>\n",
              "      <td>2</td>\n",
              "      <td>1</td>\n",
              "      <td>1.0</td>\n",
              "      <td>5</td>\n",
              "      <td>3</td>\n",
              "      <td>2</td>\n",
              "      <td>1</td>\n",
              "      <td>2</td>\n",
              "      <td>2</td>\n",
              "      <td>2</td>\n",
              "    </tr>\n",
              "    <tr>\n",
              "      <th>1</th>\n",
              "      <td>181115</td>\n",
              "      <td>0.92</td>\n",
              "      <td>0</td>\n",
              "      <td>22300</td>\n",
              "      <td>1953</td>\n",
              "      <td>51</td>\n",
              "      <td>3</td>\n",
              "      <td>0</td>\n",
              "      <td>2.5</td>\n",
              "      <td>6</td>\n",
              "      <td>2</td>\n",
              "      <td>1</td>\n",
              "      <td>1</td>\n",
              "      <td>2</td>\n",
              "      <td>2</td>\n",
              "      <td>2</td>\n",
              "    </tr>\n",
              "    <tr>\n",
              "      <th>2</th>\n",
              "      <td>155000</td>\n",
              "      <td>0.41</td>\n",
              "      <td>13</td>\n",
              "      <td>18700</td>\n",
              "      <td>1944</td>\n",
              "      <td>51</td>\n",
              "      <td>3</td>\n",
              "      <td>1</td>\n",
              "      <td>1.5</td>\n",
              "      <td>5</td>\n",
              "      <td>1</td>\n",
              "      <td>1</td>\n",
              "      <td>1</td>\n",
              "      <td>2</td>\n",
              "      <td>2</td>\n",
              "      <td>2</td>\n",
              "    </tr>\n",
              "    <tr>\n",
              "      <th>3</th>\n",
              "      <td>90000</td>\n",
              "      <td>0.83</td>\n",
              "      <td>36</td>\n",
              "      <td>22200</td>\n",
              "      <td>1632</td>\n",
              "      <td>51</td>\n",
              "      <td>3</td>\n",
              "      <td>0</td>\n",
              "      <td>1.5</td>\n",
              "      <td>8</td>\n",
              "      <td>3</td>\n",
              "      <td>2</td>\n",
              "      <td>1</td>\n",
              "      <td>2</td>\n",
              "      <td>2</td>\n",
              "      <td>2</td>\n",
              "    </tr>\n",
              "    <tr>\n",
              "      <th>4</th>\n",
              "      <td>120000</td>\n",
              "      <td>0.92</td>\n",
              "      <td>1</td>\n",
              "      <td>22300</td>\n",
              "      <td>1624</td>\n",
              "      <td>51</td>\n",
              "      <td>3</td>\n",
              "      <td>0</td>\n",
              "      <td>2.0</td>\n",
              "      <td>6</td>\n",
              "      <td>1</td>\n",
              "      <td>1</td>\n",
              "      <td>1</td>\n",
              "      <td>2</td>\n",
              "      <td>2</td>\n",
              "      <td>2</td>\n",
              "    </tr>\n",
              "    <tr>\n",
              "      <th>...</th>\n",
              "      <td>...</td>\n",
              "      <td>...</td>\n",
              "      <td>...</td>\n",
              "      <td>...</td>\n",
              "      <td>...</td>\n",
              "      <td>...</td>\n",
              "      <td>...</td>\n",
              "      <td>...</td>\n",
              "      <td>...</td>\n",
              "      <td>...</td>\n",
              "      <td>...</td>\n",
              "      <td>...</td>\n",
              "      <td>...</td>\n",
              "      <td>...</td>\n",
              "      <td>...</td>\n",
              "      <td>...</td>\n",
              "    </tr>\n",
              "    <tr>\n",
              "      <th>1204</th>\n",
              "      <td>249000</td>\n",
              "      <td>0.43</td>\n",
              "      <td>41</td>\n",
              "      <td>45800</td>\n",
              "      <td>2426</td>\n",
              "      <td>61</td>\n",
              "      <td>4</td>\n",
              "      <td>2</td>\n",
              "      <td>2.0</td>\n",
              "      <td>7</td>\n",
              "      <td>2</td>\n",
              "      <td>1</td>\n",
              "      <td>2</td>\n",
              "      <td>2</td>\n",
              "      <td>2</td>\n",
              "      <td>2</td>\n",
              "    </tr>\n",
              "    <tr>\n",
              "      <th>1205</th>\n",
              "      <td>289000</td>\n",
              "      <td>0.38</td>\n",
              "      <td>32</td>\n",
              "      <td>24200</td>\n",
              "      <td>2310</td>\n",
              "      <td>61</td>\n",
              "      <td>5</td>\n",
              "      <td>1</td>\n",
              "      <td>2.5</td>\n",
              "      <td>11</td>\n",
              "      <td>2</td>\n",
              "      <td>1</td>\n",
              "      <td>2</td>\n",
              "      <td>2</td>\n",
              "      <td>2</td>\n",
              "      <td>2</td>\n",
              "    </tr>\n",
              "    <tr>\n",
              "      <th>1206</th>\n",
              "      <td>285000</td>\n",
              "      <td>0.94</td>\n",
              "      <td>37</td>\n",
              "      <td>36200</td>\n",
              "      <td>2564</td>\n",
              "      <td>61</td>\n",
              "      <td>4</td>\n",
              "      <td>1</td>\n",
              "      <td>2.5</td>\n",
              "      <td>11</td>\n",
              "      <td>2</td>\n",
              "      <td>1</td>\n",
              "      <td>2</td>\n",
              "      <td>2</td>\n",
              "      <td>2</td>\n",
              "      <td>2</td>\n",
              "    </tr>\n",
              "    <tr>\n",
              "      <th>1207</th>\n",
              "      <td>194900</td>\n",
              "      <td>0.39</td>\n",
              "      <td>9</td>\n",
              "      <td>20400</td>\n",
              "      <td>1099</td>\n",
              "      <td>51</td>\n",
              "      <td>2</td>\n",
              "      <td>0</td>\n",
              "      <td>1.0</td>\n",
              "      <td>3</td>\n",
              "      <td>1</td>\n",
              "      <td>1</td>\n",
              "      <td>2</td>\n",
              "      <td>2</td>\n",
              "      <td>2</td>\n",
              "      <td>2</td>\n",
              "    </tr>\n",
              "    <tr>\n",
              "      <th>1208</th>\n",
              "      <td>125000</td>\n",
              "      <td>0.24</td>\n",
              "      <td>48</td>\n",
              "      <td>16800</td>\n",
              "      <td>1225</td>\n",
              "      <td>51</td>\n",
              "      <td>3</td>\n",
              "      <td>1</td>\n",
              "      <td>1.0</td>\n",
              "      <td>7</td>\n",
              "      <td>1</td>\n",
              "      <td>1</td>\n",
              "      <td>2</td>\n",
              "      <td>2</td>\n",
              "      <td>2</td>\n",
              "      <td>2</td>\n",
              "    </tr>\n",
              "  </tbody>\n",
              "</table>\n",
              "<p>1209 rows × 16 columns</p>\n",
              "</div>\n",
              "      <button class=\"colab-df-convert\" onclick=\"convertToInteractive('df-a1a3571e-76c7-465e-b7b9-bf81b8aad90e')\"\n",
              "              title=\"Convert this dataframe to an interactive table.\"\n",
              "              style=\"display:none;\">\n",
              "        \n",
              "  <svg xmlns=\"http://www.w3.org/2000/svg\" height=\"24px\"viewBox=\"0 0 24 24\"\n",
              "       width=\"24px\">\n",
              "    <path d=\"M0 0h24v24H0V0z\" fill=\"none\"/>\n",
              "    <path d=\"M18.56 5.44l.94 2.06.94-2.06 2.06-.94-2.06-.94-.94-2.06-.94 2.06-2.06.94zm-11 1L8.5 8.5l.94-2.06 2.06-.94-2.06-.94L8.5 2.5l-.94 2.06-2.06.94zm10 10l.94 2.06.94-2.06 2.06-.94-2.06-.94-.94-2.06-.94 2.06-2.06.94z\"/><path d=\"M17.41 7.96l-1.37-1.37c-.4-.4-.92-.59-1.43-.59-.52 0-1.04.2-1.43.59L10.3 9.45l-7.72 7.72c-.78.78-.78 2.05 0 2.83L4 21.41c.39.39.9.59 1.41.59.51 0 1.02-.2 1.41-.59l7.78-7.78 2.81-2.81c.8-.78.8-2.07 0-2.86zM5.41 20L4 18.59l7.72-7.72 1.47 1.35L5.41 20z\"/>\n",
              "  </svg>\n",
              "      </button>\n",
              "      \n",
              "  <style>\n",
              "    .colab-df-container {\n",
              "      display:flex;\n",
              "      flex-wrap:wrap;\n",
              "      gap: 12px;\n",
              "    }\n",
              "\n",
              "    .colab-df-convert {\n",
              "      background-color: #E8F0FE;\n",
              "      border: none;\n",
              "      border-radius: 50%;\n",
              "      cursor: pointer;\n",
              "      display: none;\n",
              "      fill: #1967D2;\n",
              "      height: 32px;\n",
              "      padding: 0 0 0 0;\n",
              "      width: 32px;\n",
              "    }\n",
              "\n",
              "    .colab-df-convert:hover {\n",
              "      background-color: #E2EBFA;\n",
              "      box-shadow: 0px 1px 2px rgba(60, 64, 67, 0.3), 0px 1px 3px 1px rgba(60, 64, 67, 0.15);\n",
              "      fill: #174EA6;\n",
              "    }\n",
              "\n",
              "    [theme=dark] .colab-df-convert {\n",
              "      background-color: #3B4455;\n",
              "      fill: #D2E3FC;\n",
              "    }\n",
              "\n",
              "    [theme=dark] .colab-df-convert:hover {\n",
              "      background-color: #434B5C;\n",
              "      box-shadow: 0px 1px 3px 1px rgba(0, 0, 0, 0.15);\n",
              "      filter: drop-shadow(0px 1px 2px rgba(0, 0, 0, 0.3));\n",
              "      fill: #FFFFFF;\n",
              "    }\n",
              "  </style>\n",
              "\n",
              "      <script>\n",
              "        const buttonEl =\n",
              "          document.querySelector('#df-a1a3571e-76c7-465e-b7b9-bf81b8aad90e button.colab-df-convert');\n",
              "        buttonEl.style.display =\n",
              "          google.colab.kernel.accessAllowed ? 'block' : 'none';\n",
              "\n",
              "        async function convertToInteractive(key) {\n",
              "          const element = document.querySelector('#df-a1a3571e-76c7-465e-b7b9-bf81b8aad90e');\n",
              "          const dataTable =\n",
              "            await google.colab.kernel.invokeFunction('convertToInteractive',\n",
              "                                                     [key], {});\n",
              "          if (!dataTable) return;\n",
              "\n",
              "          const docLinkHtml = 'Like what you see? Visit the ' +\n",
              "            '<a target=\"_blank\" href=https://colab.research.google.com/notebooks/data_table.ipynb>data table notebook</a>'\n",
              "            + ' to learn more about interactive tables.';\n",
              "          element.innerHTML = '';\n",
              "          dataTable['output_type'] = 'display_data';\n",
              "          await google.colab.output.renderOutput(dataTable, element);\n",
              "          const docLink = document.createElement('div');\n",
              "          docLink.innerHTML = docLinkHtml;\n",
              "          element.appendChild(docLink);\n",
              "        }\n",
              "      </script>\n",
              "    </div>\n",
              "  </div>\n",
              "  "
            ]
          },
          "metadata": {},
          "execution_count": 9
        }
      ]
    },
    {
      "cell_type": "code",
      "source": [
        "X_sin_corte[\"recorte\"] = np.where(X_sin_corte['Distancias_Mahal'] < corte, \"green\", \"blue\")\n",
        "\n",
        "ax = X_sin_corte.plot(x=\"price\",y=\"landValue\",kind=\"scatter\", color=\"blue\", xlabel=\"Valor casa\", ylabel=\"Valor terreno\", figsize=(10,8))\n",
        "X_99.plot(x=\"price\",y=\"landValue\",kind=\"scatter\", color=\"green\", ax=ax,xlabel=\"Valor casa\", ylabel=\"Valor terreno\")"
      ],
      "metadata": {
        "colab": {
          "base_uri": "https://localhost:8080/",
          "height": 514
        },
        "id": "j33K6vWkCL8U",
        "outputId": "8305456d-1b14-4626-d61b-aa0b00705b23"
      },
      "execution_count": null,
      "outputs": [
        {
          "output_type": "execute_result",
          "data": {
            "text/plain": [
              "<matplotlib.axes._subplots.AxesSubplot at 0x7fe1610e49d0>"
            ]
          },
          "metadata": {},
          "execution_count": 10
        },
        {
          "output_type": "display_data",
          "data": {
            "text/plain": [
              "<Figure size 720x576 with 1 Axes>"
            ],
            "image/png": "[encoded data removed]"
          },
          "metadata": {
            "needs_background": "light"
          }
        }
      ]
    },
    {
      "cell_type": "code",
      "source": [
        "MD.hist(figsize=(10,8))"
      ],
      "metadata": {
        "colab": {
          "base_uri": "https://localhost:8080/",
          "height": 533
        },
        "id": "VwNsiptQgoCu",
        "outputId": "549f0c18-16c6-42b3-e90e-97c2449303c9"
      },
      "execution_count": null,
      "outputs": [
        {
          "output_type": "execute_result",
          "data": {
            "text/plain": [
              "array([[<matplotlib.axes._subplots.AxesSubplot object at 0x7fe1615a6610>]],\n",
              "      dtype=object)"
            ]
          },
          "metadata": {},
          "execution_count": 11
        },
        {
          "output_type": "display_data",
          "data": {
            "text/plain": [
              "<Figure size 720x576 with 1 Axes>"
            ],
            "image/png": "[encoded data removed]"
          },
          "metadata": {
            "needs_background": "light"
          }
        }
      ]
    },
    {
      "cell_type": "markdown",
      "source": [
        "## 2. Detección de punto atípicos con Covarianza Robusta No Paramétrica (MCD):"
      ],
      "metadata": {
        "id": "0vHNuDbvG-N7"
      }
    },
    {
      "cell_type": "code",
      "source": [
        "X_centralizada_R=[]\n",
        "X_centralizada_R=X_centralizada\n",
        "Transpuesta=[]\n",
        "Transpuesta=X_centralizada_R.transpose()\n",
        "robust_cov=[]\n",
        "robust_cov = MinCovDet(random_state=8).fit(df_datos_limpios) #MCD\n",
        "Inverso_covarianza_robusta=[] \n",
        "Inverso_covarianza_robusta=np.linalg.inv(robust_cov.covariance_)\n",
        "MDR=[]\n",
        "MDR=np.zeros((Número_filas, 1))\n",
        "\n",
        "tem1=[]\n",
        "tem2=[]\n",
        "for i in range(1,Número_filas):\n",
        "    tem1=np.dot(X_centralizada[i,:],Inverso_covarianza_robusta)\n",
        "    tem2=np.dot(tem1,Transpuesta[:,i])\n",
        "    MDR[i]=np.sqrt(tem2)\n",
        "\n",
        "print('La distancia de Mahalanobis Robusta es: \\n', MDR)"
      ],
      "metadata": {
        "colab": {
          "base_uri": "https://localhost:8080/"
        },
        "id": "XrIZi46aGs3x",
        "outputId": "c3ff09cf-4ed1-4dab-ade5-3e69fd089066"
      },
      "execution_count": null,
      "outputs": [
        {
          "output_type": "stream",
          "name": "stdout",
          "text": [
            "La distancia de Mahalanobis Robusta es: \n",
            " [[ 0.        ]\n",
            " [ 6.88370577]\n",
            " [10.95206563]\n",
            " ...\n",
            " [ 4.63116954]\n",
            " [ 3.60112297]\n",
            " [ 6.83662741]]\n"
          ]
        }
      ]
    },
    {
      "cell_type": "code",
      "source": [
        "MDR = pd.DataFrame(MDR)\n",
        "MDR.columns = ['Distancias_Mahal_Robusta']\n",
        "MDR.set_index(df_datos_limpios.index,inplace=True)\n",
        "\n",
        "corte = np.percentile(MDR, 70)\n",
        "print('La distancia de corte es: ',corte)\n",
        "\n",
        "X_99_R = []\n",
        "X_99_R = pd.concat([df_datos_limpios,MDR],axis=1)\n",
        "X_R_sin_corte = X_99_R.copy()\n",
        "X_99_R_corte = X_99_R['Distancias_Mahal_Robusta'] < corte\n",
        "X_99_R = X_99_R[X_99_R_corte]\n",
        "X_99_R.reset_index(drop=True, inplace=True)\n",
        "X_99_R = X_99_R.drop(['Distancias_Mahal_Robusta'],axis=1)\n",
        "X_99_R"
      ],
      "metadata": {
        "colab": {
          "base_uri": "https://localhost:8080/",
          "height": 441
        },
        "id": "UPGMZIOiGs6u",
        "outputId": "0ffee2ec-fab8-48db-9383-3457510962e6"
      },
      "execution_count": null,
      "outputs": [
        {
          "output_type": "stream",
          "name": "stdout",
          "text": [
            "La distancia de corte es:  6.427331863429021\n"
          ]
        },
        {
          "output_type": "execute_result",
          "data": {
            "text/plain": [
              "       price  lotSize  age  landValue  livingArea  pctCollege  bedrooms  \\\n",
              "0     132500     0.09   42      50000         906          35         2   \n",
              "1     155000     0.41   13      18700        1944          51         3   \n",
              "2     120000     0.68   31      14000        1152          22         4   \n",
              "3      90000     0.83   36      22200        1632          51         3   \n",
              "4     120000     0.92    1      22300        1624          51         3   \n",
              "...      ...      ...  ...        ...         ...         ...       ...   \n",
              "1204  249000     0.43   41      45800        2426          61         4   \n",
              "1205  289000     0.38   32      24200        2310          61         5   \n",
              "1206  285000     0.94   37      36200        2564          61         4   \n",
              "1207  194900     0.39    9      20400        1099          51         2   \n",
              "1208  125000     0.24   48      16800        1225          51         3   \n",
              "\n",
              "      fireplaces  bathrooms  rooms  heating  fuel  sewer  waterfront  \\\n",
              "0              1        1.0      5        3     2      1           2   \n",
              "1              1        1.5      5        1     1      1           2   \n",
              "2              1        1.0      8        1     1      1           2   \n",
              "3              0        1.5      8        3     2      1           2   \n",
              "4              0        2.0      6        1     1      1           2   \n",
              "...          ...        ...    ...      ...   ...    ...         ...   \n",
              "1204           2        2.0      7        2     1      2           2   \n",
              "1205           1        2.5     11        2     1      2           2   \n",
              "1206           1        2.5     11        2     1      2           2   \n",
              "1207           0        1.0      3        1     1      2           2   \n",
              "1208           1        1.0      7        1     1      2           2   \n",
              "\n",
              "      newConstruction  centralAir  \n",
              "0                   2           2  \n",
              "1                   2           2  \n",
              "2                   2           2  \n",
              "3                   2           2  \n",
              "4                   2           2  \n",
              "...               ...         ...  \n",
              "1204                2           2  \n",
              "1205                2           2  \n",
              "1206                2           2  \n",
              "1207                2           2  \n",
              "1208                2           2  \n",
              "\n",
              "[1209 rows x 16 columns]"
            ],
            "text/html": [
              "\n",
              "  <div id=\"df-bb88c16d-ddf5-4904-be0d-f37776e45b46\">\n",
              "    <div class=\"colab-df-container\">\n",
              "      <div>\n",
              "<style scoped>\n",
              "    .dataframe tbody tr th:only-of-type {\n",
              "        vertical-align: middle;\n",
              "    }\n",
              "\n",
              "    .dataframe tbody tr th {\n",
              "        vertical-align: top;\n",
              "    }\n",
              "\n",
              "    .dataframe thead th {\n",
              "        text-align: right;\n",
              "    }\n",
              "</style>\n",
              "<table border=\"1\" class=\"dataframe\">\n",
              "  <thead>\n",
              "    <tr style=\"text-align: right;\">\n",
              "      <th></th>\n",
              "      <th>price</th>\n",
              "      <th>lotSize</th>\n",
              "      <th>age</th>\n",
              "      <th>landValue</th>\n",
              "      <th>livingArea</th>\n",
              "      <th>pctCollege</th>\n",
              "      <th>bedrooms</th>\n",
              "      <th>fireplaces</th>\n",
              "      <th>bathrooms</th>\n",
              "      <th>rooms</th>\n",
              "      <th>heating</th>\n",
              "      <th>fuel</th>\n",
              "      <th>sewer</th>\n",
              "      <th>waterfront</th>\n",
              "      <th>newConstruction</th>\n",
              "      <th>centralAir</th>\n",
              "    </tr>\n",
              "  </thead>\n",
              "  <tbody>\n",
              "    <tr>\n",
              "      <th>0</th>\n",
              "      <td>132500</td>\n",
              "      <td>0.09</td>\n",
              "      <td>42</td>\n",
              "      <td>50000</td>\n",
              "      <td>906</td>\n",
              "      <td>35</td>\n",
              "      <td>2</td>\n",
              "      <td>1</td>\n",
              "      <td>1.0</td>\n",
              "      <td>5</td>\n",
              "      <td>3</td>\n",
              "      <td>2</td>\n",
              "      <td>1</td>\n",
              "      <td>2</td>\n",
              "      <td>2</td>\n",
              "      <td>2</td>\n",
              "    </tr>\n",
              "    <tr>\n",
              "      <th>1</th>\n",
              "      <td>155000</td>\n",
              "      <td>0.41</td>\n",
              "      <td>13</td>\n",
              "      <td>18700</td>\n",
              "      <td>1944</td>\n",
              "      <td>51</td>\n",
              "      <td>3</td>\n",
              "      <td>1</td>\n",
              "      <td>1.5</td>\n",
              "      <td>5</td>\n",
              "      <td>1</td>\n",
              "      <td>1</td>\n",
              "      <td>1</td>\n",
              "      <td>2</td>\n",
              "      <td>2</td>\n",
              "      <td>2</td>\n",
              "    </tr>\n",
              "    <tr>\n",
              "      <th>2</th>\n",
              "      <td>120000</td>\n",
              "      <td>0.68</td>\n",
              "      <td>31</td>\n",
              "      <td>14000</td>\n",
              "      <td>1152</td>\n",
              "      <td>22</td>\n",
              "      <td>4</td>\n",
              "      <td>1</td>\n",
              "      <td>1.0</td>\n",
              "      <td>8</td>\n",
              "      <td>1</td>\n",
              "      <td>1</td>\n",
              "      <td>1</td>\n",
              "      <td>2</td>\n",
              "      <td>2</td>\n",
              "      <td>2</td>\n",
              "    </tr>\n",
              "    <tr>\n",
              "      <th>3</th>\n",
              "      <td>90000</td>\n",
              "      <td>0.83</td>\n",
              "      <td>36</td>\n",
              "      <td>22200</td>\n",
              "      <td>1632</td>\n",
              "      <td>51</td>\n",
              "      <td>3</td>\n",
              "      <td>0</td>\n",
              "      <td>1.5</td>\n",
              "      <td>8</td>\n",
              "      <td>3</td>\n",
              "      <td>2</td>\n",
              "      <td>1</td>\n",
              "      <td>2</td>\n",
              "      <td>2</td>\n",
              "      <td>2</td>\n",
              "    </tr>\n",
              "    <tr>\n",
              "      <th>4</th>\n",
              "      <td>120000</td>\n",
              "      <td>0.92</td>\n",
              "      <td>1</td>\n",
              "      <td>22300</td>\n",
              "      <td>1624</td>\n",
              "      <td>51</td>\n",
              "      <td>3</td>\n",
              "      <td>0</td>\n",
              "      <td>2.0</td>\n",
              "      <td>6</td>\n",
              "      <td>1</td>\n",
              "      <td>1</td>\n",
              "      <td>1</td>\n",
              "      <td>2</td>\n",
              "      <td>2</td>\n",
              "      <td>2</td>\n",
              "    </tr>\n",
              "    <tr>\n",
              "      <th>...</th>\n",
              "      <td>...</td>\n",
              "      <td>...</td>\n",
              "      <td>...</td>\n",
              "      <td>...</td>\n",
              "      <td>...</td>\n",
              "      <td>...</td>\n",
              "      <td>...</td>\n",
              "      <td>...</td>\n",
              "      <td>...</td>\n",
              "      <td>...</td>\n",
              "      <td>...</td>\n",
              "      <td>...</td>\n",
              "      <td>...</td>\n",
              "      <td>...</td>\n",
              "      <td>...</td>\n",
              "      <td>...</td>\n",
              "    </tr>\n",
              "    <tr>\n",
              "      <th>1204</th>\n",
              "      <td>249000</td>\n",
              "      <td>0.43</td>\n",
              "      <td>41</td>\n",
              "      <td>45800</td>\n",
              "      <td>2426</td>\n",
              "      <td>61</td>\n",
              "      <td>4</td>\n",
              "      <td>2</td>\n",
              "      <td>2.0</td>\n",
              "      <td>7</td>\n",
              "      <td>2</td>\n",
              "      <td>1</td>\n",
              "      <td>2</td>\n",
              "      <td>2</td>\n",
              "      <td>2</td>\n",
              "      <td>2</td>\n",
              "    </tr>\n",
              "    <tr>\n",
              "      <th>1205</th>\n",
              "      <td>289000</td>\n",
              "      <td>0.38</td>\n",
              "      <td>32</td>\n",
              "      <td>24200</td>\n",
              "      <td>2310</td>\n",
              "      <td>61</td>\n",
              "      <td>5</td>\n",
              "      <td>1</td>\n",
              "      <td>2.5</td>\n",
              "      <td>11</td>\n",
              "      <td>2</td>\n",
              "      <td>1</td>\n",
              "      <td>2</td>\n",
              "      <td>2</td>\n",
              "      <td>2</td>\n",
              "      <td>2</td>\n",
              "    </tr>\n",
              "    <tr>\n",
              "      <th>1206</th>\n",
              "      <td>285000</td>\n",
              "      <td>0.94</td>\n",
              "      <td>37</td>\n",
              "      <td>36200</td>\n",
              "      <td>2564</td>\n",
              "      <td>61</td>\n",
              "      <td>4</td>\n",
              "      <td>1</td>\n",
              "      <td>2.5</td>\n",
              "      <td>11</td>\n",
              "      <td>2</td>\n",
              "      <td>1</td>\n",
              "      <td>2</td>\n",
              "      <td>2</td>\n",
              "      <td>2</td>\n",
              "      <td>2</td>\n",
              "    </tr>\n",
              "    <tr>\n",
              "      <th>1207</th>\n",
              "      <td>194900</td>\n",
              "      <td>0.39</td>\n",
              "      <td>9</td>\n",
              "      <td>20400</td>\n",
              "      <td>1099</td>\n",
              "      <td>51</td>\n",
              "      <td>2</td>\n",
              "      <td>0</td>\n",
              "      <td>1.0</td>\n",
              "      <td>3</td>\n",
              "      <td>1</td>\n",
              "      <td>1</td>\n",
              "      <td>2</td>\n",
              "      <td>2</td>\n",
              "      <td>2</td>\n",
              "      <td>2</td>\n",
              "    </tr>\n",
              "    <tr>\n",
              "      <th>1208</th>\n",
              "      <td>125000</td>\n",
              "      <td>0.24</td>\n",
              "      <td>48</td>\n",
              "      <td>16800</td>\n",
              "      <td>1225</td>\n",
              "      <td>51</td>\n",
              "      <td>3</td>\n",
              "      <td>1</td>\n",
              "      <td>1.0</td>\n",
              "      <td>7</td>\n",
              "      <td>1</td>\n",
              "      <td>1</td>\n",
              "      <td>2</td>\n",
              "      <td>2</td>\n",
              "      <td>2</td>\n",
              "      <td>2</td>\n",
              "    </tr>\n",
              "  </tbody>\n",
              "</table>\n",
              "<p>1209 rows × 16 columns</p>\n",
              "</div>\n",
              "      <button class=\"colab-df-convert\" onclick=\"convertToInteractive('df-bb88c16d-ddf5-4904-be0d-f37776e45b46')\"\n",
              "              title=\"Convert this dataframe to an interactive table.\"\n",
              "              style=\"display:none;\">\n",
              "        \n",
              "  <svg xmlns=\"http://www.w3.org/2000/svg\" height=\"24px\"viewBox=\"0 0 24 24\"\n",
              "       width=\"24px\">\n",
              "    <path d=\"M0 0h24v24H0V0z\" fill=\"none\"/>\n",
              "    <path d=\"M18.56 5.44l.94 2.06.94-2.06 2.06-.94-2.06-.94-.94-2.06-.94 2.06-2.06.94zm-11 1L8.5 8.5l.94-2.06 2.06-.94-2.06-.94L8.5 2.5l-.94 2.06-2.06.94zm10 10l.94 2.06.94-2.06 2.06-.94-2.06-.94-.94-2.06-.94 2.06-2.06.94z\"/><path d=\"M17.41 7.96l-1.37-1.37c-.4-.4-.92-.59-1.43-.59-.52 0-1.04.2-1.43.59L10.3 9.45l-7.72 7.72c-.78.78-.78 2.05 0 2.83L4 21.41c.39.39.9.59 1.41.59.51 0 1.02-.2 1.41-.59l7.78-7.78 2.81-2.81c.8-.78.8-2.07 0-2.86zM5.41 20L4 18.59l7.72-7.72 1.47 1.35L5.41 20z\"/>\n",
              "  </svg>\n",
              "      </button>\n",
              "      \n",
              "  <style>\n",
              "    .colab-df-container {\n",
              "      display:flex;\n",
              "      flex-wrap:wrap;\n",
              "      gap: 12px;\n",
              "    }\n",
              "\n",
              "    .colab-df-convert {\n",
              "      background-color: #E8F0FE;\n",
              "      border: none;\n",
              "      border-radius: 50%;\n",
              "      cursor: pointer;\n",
              "      display: none;\n",
              "      fill: #1967D2;\n",
              "      height: 32px;\n",
              "      padding: 0 0 0 0;\n",
              "      width: 32px;\n",
              "    }\n",
              "\n",
              "    .colab-df-convert:hover {\n",
              "      background-color: #E2EBFA;\n",
              "      box-shadow: 0px 1px 2px rgba(60, 64, 67, 0.3), 0px 1px 3px 1px rgba(60, 64, 67, 0.15);\n",
              "      fill: #174EA6;\n",
              "    }\n",
              "\n",
              "    [theme=dark] .colab-df-convert {\n",
              "      background-color: #3B4455;\n",
              "      fill: #D2E3FC;\n",
              "    }\n",
              "\n",
              "    [theme=dark] .colab-df-convert:hover {\n",
              "      background-color: #434B5C;\n",
              "      box-shadow: 0px 1px 3px 1px rgba(0, 0, 0, 0.15);\n",
              "      filter: drop-shadow(0px 1px 2px rgba(0, 0, 0, 0.3));\n",
              "      fill: #FFFFFF;\n",
              "    }\n",
              "  </style>\n",
              "\n",
              "      <script>\n",
              "        const buttonEl =\n",
              "          document.querySelector('#df-bb88c16d-ddf5-4904-be0d-f37776e45b46 button.colab-df-convert');\n",
              "        buttonEl.style.display =\n",
              "          google.colab.kernel.accessAllowed ? 'block' : 'none';\n",
              "\n",
              "        async function convertToInteractive(key) {\n",
              "          const element = document.querySelector('#df-bb88c16d-ddf5-4904-be0d-f37776e45b46');\n",
              "          const dataTable =\n",
              "            await google.colab.kernel.invokeFunction('convertToInteractive',\n",
              "                                                     [key], {});\n",
              "          if (!dataTable) return;\n",
              "\n",
              "          const docLinkHtml = 'Like what you see? Visit the ' +\n",
              "            '<a target=\"_blank\" href=https://colab.research.google.com/notebooks/data_table.ipynb>data table notebook</a>'\n",
              "            + ' to learn more about interactive tables.';\n",
              "          element.innerHTML = '';\n",
              "          dataTable['output_type'] = 'display_data';\n",
              "          await google.colab.output.renderOutput(dataTable, element);\n",
              "          const docLink = document.createElement('div');\n",
              "          docLink.innerHTML = docLinkHtml;\n",
              "          element.appendChild(docLink);\n",
              "        }\n",
              "      </script>\n",
              "    </div>\n",
              "  </div>\n",
              "  "
            ]
          },
          "metadata": {},
          "execution_count": 13
        }
      ]
    },
    {
      "cell_type": "code",
      "source": [
        "print(X_R_sin_corte.shape)\n",
        "X_R_sin_corte[\"recorte\"] = np.where(X_R_sin_corte['Distancias_Mahal_Robusta'] < corte, \"green\", \"blue\")\n",
        "X_R_sin_corte"
      ],
      "metadata": {
        "colab": {
          "base_uri": "https://localhost:8080/",
          "height": 441
        },
        "id": "NuhySrbDGs9g",
        "outputId": "281a6327-af56-435a-cdef-f9c4be4ca9ff"
      },
      "execution_count": null,
      "outputs": [
        {
          "output_type": "stream",
          "name": "stdout",
          "text": [
            "(1728, 17)\n"
          ]
        },
        {
          "output_type": "execute_result",
          "data": {
            "text/plain": [
              "       price  lotSize  age  landValue  livingArea  pctCollege  bedrooms  \\\n",
              "0     132500     0.09   42      50000         906          35         2   \n",
              "1     181115     0.92    0      22300        1953          51         3   \n",
              "2     109000     0.19  133       7300        1944          51         4   \n",
              "3     155000     0.41   13      18700        1944          51         3   \n",
              "4      86060     0.11    0      15000         840          51         2   \n",
              "...      ...      ...  ...        ...         ...         ...       ...   \n",
              "1723  289000     0.38   32      24200        2310          61         5   \n",
              "1724  285000     0.94   37      36200        2564          61         4   \n",
              "1725  194900     0.39    9      20400        1099          51         2   \n",
              "1726  125000     0.24   48      16800        1225          51         3   \n",
              "1727  111300     0.59   86      26000        1959          51         3   \n",
              "\n",
              "      fireplaces  bathrooms  rooms  heating  fuel  sewer  waterfront  \\\n",
              "0              1        1.0      5        3     2      1           2   \n",
              "1              0        2.5      6        2     1      1           2   \n",
              "2              1        1.0      8        2     1      2           2   \n",
              "3              1        1.5      5        1     1      1           2   \n",
              "4              0        1.0      3        1     1      2           2   \n",
              "...          ...        ...    ...      ...   ...    ...         ...   \n",
              "1723           1        2.5     11        2     1      2           2   \n",
              "1724           1        2.5     11        2     1      2           2   \n",
              "1725           0        1.0      3        1     1      2           2   \n",
              "1726           1        1.0      7        1     1      2           2   \n",
              "1727           0        1.0      6        1     1      1           2   \n",
              "\n",
              "      newConstruction  centralAir  Distancias_Mahal_Robusta recorte  \n",
              "0                   2           2                  0.000000   green  \n",
              "1                   2           2                  6.883706    blue  \n",
              "2                   2           2                 10.952066    blue  \n",
              "3                   2           2                  4.921987   green  \n",
              "4                   1           1                 19.444904    blue  \n",
              "...               ...         ...                       ...     ...  \n",
              "1723                2           2                  5.138166   green  \n",
              "1724                2           2                  4.638282   green  \n",
              "1725                2           2                  4.631170   green  \n",
              "1726                2           2                  3.601123   green  \n",
              "1727                2           2                  6.836627    blue  \n",
              "\n",
              "[1728 rows x 18 columns]"
            ],
            "text/html": [
              "\n",
              "  <div id=\"df-a046c99b-7311-49c6-9708-d80d95980dc4\">\n",
              "    <div class=\"colab-df-container\">\n",
              "      <div>\n",
              "<style scoped>\n",
              "    .dataframe tbody tr th:only-of-type {\n",
              "        vertical-align: middle;\n",
              "    }\n",
              "\n",
              "    .dataframe tbody tr th {\n",
              "        vertical-align: top;\n",
              "    }\n",
              "\n",
              "    .dataframe thead th {\n",
              "        text-align: right;\n",
              "    }\n",
              "</style>\n",
              "<table border=\"1\" class=\"dataframe\">\n",
              "  <thead>\n",
              "    <tr style=\"text-align: right;\">\n",
              "      <th></th>\n",
              "      <th>price</th>\n",
              "      <th>lotSize</th>\n",
              "      <th>age</th>\n",
              "      <th>landValue</th>\n",
              "      <th>livingArea</th>\n",
              "      <th>pctCollege</th>\n",
              "      <th>bedrooms</th>\n",
              "      <th>fireplaces</th>\n",
              "      <th>bathrooms</th>\n",
              "      <th>rooms</th>\n",
              "      <th>heating</th>\n",
              "      <th>fuel</th>\n",
              "      <th>sewer</th>\n",
              "      <th>waterfront</th>\n",
              "      <th>newConstruction</th>\n",
              "      <th>centralAir</th>\n",
              "      <th>Distancias_Mahal_Robusta</th>\n",
              "      <th>recorte</th>\n",
              "    </tr>\n",
              "  </thead>\n",
              "  <tbody>\n",
              "    <tr>\n",
              "      <th>0</th>\n",
              "      <td>132500</td>\n",
              "      <td>0.09</td>\n",
              "      <td>42</td>\n",
              "      <td>50000</td>\n",
              "      <td>906</td>\n",
              "      <td>35</td>\n",
              "      <td>2</td>\n",
              "      <td>1</td>\n",
              "      <td>1.0</td>\n",
              "      <td>5</td>\n",
              "      <td>3</td>\n",
              "      <td>2</td>\n",
              "      <td>1</td>\n",
              "      <td>2</td>\n",
              "      <td>2</td>\n",
              "      <td>2</td>\n",
              "      <td>0.000000</td>\n",
              "      <td>green</td>\n",
              "    </tr>\n",
              "    <tr>\n",
              "      <th>1</th>\n",
              "      <td>181115</td>\n",
              "      <td>0.92</td>\n",
              "      <td>0</td>\n",
              "      <td>22300</td>\n",
              "      <td>1953</td>\n",
              "      <td>51</td>\n",
              "      <td>3</td>\n",
              "      <td>0</td>\n",
              "      <td>2.5</td>\n",
              "      <td>6</td>\n",
              "      <td>2</td>\n",
              "      <td>1</td>\n",
              "      <td>1</td>\n",
              "      <td>2</td>\n",
              "      <td>2</td>\n",
              "      <td>2</td>\n",
              "      <td>6.883706</td>\n",
              "      <td>blue</td>\n",
              "    </tr>\n",
              "    <tr>\n",
              "      <th>2</th>\n",
              "      <td>109000</td>\n",
              "      <td>0.19</td>\n",
              "      <td>133</td>\n",
              "      <td>7300</td>\n",
              "      <td>1944</td>\n",
              "      <td>51</td>\n",
              "      <td>4</td>\n",
              "      <td>1</td>\n",
              "      <td>1.0</td>\n",
              "      <td>8</td>\n",
              "      <td>2</td>\n",
              "      <td>1</td>\n",
              "      <td>2</td>\n",
              "      <td>2</td>\n",
              "      <td>2</td>\n",
              "      <td>2</td>\n",
              "      <td>10.952066</td>\n",
              "      <td>blue</td>\n",
              "    </tr>\n",
              "    <tr>\n",
              "      <th>3</th>\n",
              "      <td>155000</td>\n",
              "      <td>0.41</td>\n",
              "      <td>13</td>\n",
              "      <td>18700</td>\n",
              "      <td>1944</td>\n",
              "      <td>51</td>\n",
              "      <td>3</td>\n",
              "      <td>1</td>\n",
              "      <td>1.5</td>\n",
              "      <td>5</td>\n",
              "      <td>1</td>\n",
              "      <td>1</td>\n",
              "      <td>1</td>\n",
              "      <td>2</td>\n",
              "      <td>2</td>\n",
              "      <td>2</td>\n",
              "      <td>4.921987</td>\n",
              "      <td>green</td>\n",
              "    </tr>\n",
              "    <tr>\n",
              "      <th>4</th>\n",
              "      <td>86060</td>\n",
              "      <td>0.11</td>\n",
              "      <td>0</td>\n",
              "      <td>15000</td>\n",
              "      <td>840</td>\n",
              "      <td>51</td>\n",
              "      <td>2</td>\n",
              "      <td>0</td>\n",
              "      <td>1.0</td>\n",
              "      <td>3</td>\n",
              "      <td>1</td>\n",
              "      <td>1</td>\n",
              "      <td>2</td>\n",
              "      <td>2</td>\n",
              "      <td>1</td>\n",
              "      <td>1</td>\n",
              "      <td>19.444904</td>\n",
              "      <td>blue</td>\n",
              "    </tr>\n",
              "    <tr>\n",
              "      <th>...</th>\n",
              "      <td>...</td>\n",
              "      <td>...</td>\n",
              "      <td>...</td>\n",
              "      <td>...</td>\n",
              "      <td>...</td>\n",
              "      <td>...</td>\n",
              "      <td>...</td>\n",
              "      <td>...</td>\n",
              "      <td>...</td>\n",
              "      <td>...</td>\n",
              "      <td>...</td>\n",
              "      <td>...</td>\n",
              "      <td>...</td>\n",
              "      <td>...</td>\n",
              "      <td>...</td>\n",
              "      <td>...</td>\n",
              "      <td>...</td>\n",
              "      <td>...</td>\n",
              "    </tr>\n",
              "    <tr>\n",
              "      <th>1723</th>\n",
              "      <td>289000</td>\n",
              "      <td>0.38</td>\n",
              "      <td>32</td>\n",
              "      <td>24200</td>\n",
              "      <td>2310</td>\n",
              "      <td>61</td>\n",
              "      <td>5</td>\n",
              "      <td>1</td>\n",
              "      <td>2.5</td>\n",
              "      <td>11</td>\n",
              "      <td>2</td>\n",
              "      <td>1</td>\n",
              "      <td>2</td>\n",
              "      <td>2</td>\n",
              "      <td>2</td>\n",
              "      <td>2</td>\n",
              "      <td>5.138166</td>\n",
              "      <td>green</td>\n",
              "    </tr>\n",
              "    <tr>\n",
              "      <th>1724</th>\n",
              "      <td>285000</td>\n",
              "      <td>0.94</td>\n",
              "      <td>37</td>\n",
              "      <td>36200</td>\n",
              "      <td>2564</td>\n",
              "      <td>61</td>\n",
              "      <td>4</td>\n",
              "      <td>1</td>\n",
              "      <td>2.5</td>\n",
              "      <td>11</td>\n",
              "      <td>2</td>\n",
              "      <td>1</td>\n",
              "      <td>2</td>\n",
              "      <td>2</td>\n",
              "      <td>2</td>\n",
              "      <td>2</td>\n",
              "      <td>4.638282</td>\n",
              "      <td>green</td>\n",
              "    </tr>\n",
              "    <tr>\n",
              "      <th>1725</th>\n",
              "      <td>194900</td>\n",
              "      <td>0.39</td>\n",
              "      <td>9</td>\n",
              "      <td>20400</td>\n",
              "      <td>1099</td>\n",
              "      <td>51</td>\n",
              "      <td>2</td>\n",
              "      <td>0</td>\n",
              "      <td>1.0</td>\n",
              "      <td>3</td>\n",
              "      <td>1</td>\n",
              "      <td>1</td>\n",
              "      <td>2</td>\n",
              "      <td>2</td>\n",
              "      <td>2</td>\n",
              "      <td>2</td>\n",
              "      <td>4.631170</td>\n",
              "      <td>green</td>\n",
              "    </tr>\n",
              "    <tr>\n",
              "      <th>1726</th>\n",
              "      <td>125000</td>\n",
              "      <td>0.24</td>\n",
              "      <td>48</td>\n",
              "      <td>16800</td>\n",
              "      <td>1225</td>\n",
              "      <td>51</td>\n",
              "      <td>3</td>\n",
              "      <td>1</td>\n",
              "      <td>1.0</td>\n",
              "      <td>7</td>\n",
              "      <td>1</td>\n",
              "      <td>1</td>\n",
              "      <td>2</td>\n",
              "      <td>2</td>\n",
              "      <td>2</td>\n",
              "      <td>2</td>\n",
              "      <td>3.601123</td>\n",
              "      <td>green</td>\n",
              "    </tr>\n",
              "    <tr>\n",
              "      <th>1727</th>\n",
              "      <td>111300</td>\n",
              "      <td>0.59</td>\n",
              "      <td>86</td>\n",
              "      <td>26000</td>\n",
              "      <td>1959</td>\n",
              "      <td>51</td>\n",
              "      <td>3</td>\n",
              "      <td>0</td>\n",
              "      <td>1.0</td>\n",
              "      <td>6</td>\n",
              "      <td>1</td>\n",
              "      <td>1</td>\n",
              "      <td>1</td>\n",
              "      <td>2</td>\n",
              "      <td>2</td>\n",
              "      <td>2</td>\n",
              "      <td>6.836627</td>\n",
              "      <td>blue</td>\n",
              "    </tr>\n",
              "  </tbody>\n",
              "</table>\n",
              "<p>1728 rows × 18 columns</p>\n",
              "</div>\n",
              "      <button class=\"colab-df-convert\" onclick=\"convertToInteractive('df-a046c99b-7311-49c6-9708-d80d95980dc4')\"\n",
              "              title=\"Convert this dataframe to an interactive table.\"\n",
              "              style=\"display:none;\">\n",
              "        \n",
              "  <svg xmlns=\"http://www.w3.org/2000/svg\" height=\"24px\"viewBox=\"0 0 24 24\"\n",
              "       width=\"24px\">\n",
              "    <path d=\"M0 0h24v24H0V0z\" fill=\"none\"/>\n",
              "    <path d=\"M18.56 5.44l.94 2.06.94-2.06 2.06-.94-2.06-.94-.94-2.06-.94 2.06-2.06.94zm-11 1L8.5 8.5l.94-2.06 2.06-.94-2.06-.94L8.5 2.5l-.94 2.06-2.06.94zm10 10l.94 2.06.94-2.06 2.06-.94-2.06-.94-.94-2.06-.94 2.06-2.06.94z\"/><path d=\"M17.41 7.96l-1.37-1.37c-.4-.4-.92-.59-1.43-.59-.52 0-1.04.2-1.43.59L10.3 9.45l-7.72 7.72c-.78.78-.78 2.05 0 2.83L4 21.41c.39.39.9.59 1.41.59.51 0 1.02-.2 1.41-.59l7.78-7.78 2.81-2.81c.8-.78.8-2.07 0-2.86zM5.41 20L4 18.59l7.72-7.72 1.47 1.35L5.41 20z\"/>\n",
              "  </svg>\n",
              "      </button>\n",
              "      \n",
              "  <style>\n",
              "    .colab-df-container {\n",
              "      display:flex;\n",
              "      flex-wrap:wrap;\n",
              "      gap: 12px;\n",
              "    }\n",
              "\n",
              "    .colab-df-convert {\n",
              "      background-color: #E8F0FE;\n",
              "      border: none;\n",
              "      border-radius: 50%;\n",
              "      cursor: pointer;\n",
              "      display: none;\n",
              "      fill: #1967D2;\n",
              "      height: 32px;\n",
              "      padding: 0 0 0 0;\n",
              "      width: 32px;\n",
              "    }\n",
              "\n",
              "    .colab-df-convert:hover {\n",
              "      background-color: #E2EBFA;\n",
              "      box-shadow: 0px 1px 2px rgba(60, 64, 67, 0.3), 0px 1px 3px 1px rgba(60, 64, 67, 0.15);\n",
              "      fill: #174EA6;\n",
              "    }\n",
              "\n",
              "    [theme=dark] .colab-df-convert {\n",
              "      background-color: #3B4455;\n",
              "      fill: #D2E3FC;\n",
              "    }\n",
              "\n",
              "    [theme=dark] .colab-df-convert:hover {\n",
              "      background-color: #434B5C;\n",
              "      box-shadow: 0px 1px 3px 1px rgba(0, 0, 0, 0.15);\n",
              "      filter: drop-shadow(0px 1px 2px rgba(0, 0, 0, 0.3));\n",
              "      fill: #FFFFFF;\n",
              "    }\n",
              "  </style>\n",
              "\n",
              "      <script>\n",
              "        const buttonEl =\n",
              "          document.querySelector('#df-a046c99b-7311-49c6-9708-d80d95980dc4 button.colab-df-convert');\n",
              "        buttonEl.style.display =\n",
              "          google.colab.kernel.accessAllowed ? 'block' : 'none';\n",
              "\n",
              "        async function convertToInteractive(key) {\n",
              "          const element = document.querySelector('#df-a046c99b-7311-49c6-9708-d80d95980dc4');\n",
              "          const dataTable =\n",
              "            await google.colab.kernel.invokeFunction('convertToInteractive',\n",
              "                                                     [key], {});\n",
              "          if (!dataTable) return;\n",
              "\n",
              "          const docLinkHtml = 'Like what you see? Visit the ' +\n",
              "            '<a target=\"_blank\" href=https://colab.research.google.com/notebooks/data_table.ipynb>data table notebook</a>'\n",
              "            + ' to learn more about interactive tables.';\n",
              "          element.innerHTML = '';\n",
              "          dataTable['output_type'] = 'display_data';\n",
              "          await google.colab.output.renderOutput(dataTable, element);\n",
              "          const docLink = document.createElement('div');\n",
              "          docLink.innerHTML = docLinkHtml;\n",
              "          element.appendChild(docLink);\n",
              "        }\n",
              "      </script>\n",
              "    </div>\n",
              "  </div>\n",
              "  "
            ]
          },
          "metadata": {},
          "execution_count": 14
        }
      ]
    },
    {
      "cell_type": "code",
      "source": [
        "ax = X_R_sin_corte.plot(x=\"price\",y=\"landValue\",kind=\"scatter\", color=\"blue\", xlabel=\"Valor casa\", ylabel=\"Valor terreno\", figsize=(10,8))\n",
        "X_99_R.plot(x=\"price\",y=\"landValue\",kind=\"scatter\", color=\"green\", ax=ax,xlabel=\"Valor casa\", ylabel=\"Valor terreno\")"
      ],
      "metadata": {
        "colab": {
          "base_uri": "https://localhost:8080/",
          "height": 514
        },
        "id": "jLd1yW0_GtAE",
        "outputId": "8a3b69d1-b44c-43c3-fd08-9a66d2a19fe1"
      },
      "execution_count": null,
      "outputs": [
        {
          "output_type": "execute_result",
          "data": {
            "text/plain": [
              "<matplotlib.axes._subplots.AxesSubplot at 0x7f018218c110>"
            ]
          },
          "metadata": {},
          "execution_count": 102
        },
        {
          "output_type": "display_data",
          "data": {
            "text/plain": [
              "<Figure size 720x576 with 1 Axes>"
            ],
            "image/png": "[encoded data removed]"
          },
          "metadata": {
            "needs_background": "light"
          }
        }
      ]
    },
    {
      "cell_type": "code",
      "source": [
        "MDR.hist(figsize=(10,8))"
      ],
      "metadata": {
        "colab": {
          "base_uri": "https://localhost:8080/",
          "height": 533
        },
        "id": "enS7pAr_GtFs",
        "outputId": "2190dbcf-ceab-44b5-8f57-1076fb309e53"
      },
      "execution_count": null,
      "outputs": [
        {
          "output_type": "execute_result",
          "data": {
            "text/plain": [
              "array([[<matplotlib.axes._subplots.AxesSubplot object at 0x7fe15c7efa50>]],\n",
              "      dtype=object)"
            ]
          },
          "metadata": {},
          "execution_count": 15
        },
        {
          "output_type": "display_data",
          "data": {
            "text/plain": [
              "<Figure size 720x576 with 1 Axes>"
            ],
            "image/png": "[encoded data removed]"
          },
          "metadata": {
            "needs_background": "light"
          }
        }
      ]
    },
    {
      "cell_type": "markdown",
      "source": [
        "## 3. Detección de punto atípicos con Covarianza encojida (Ledoit and Wolf):"
      ],
      "metadata": {
        "id": "8ngBbjnCPsYi"
      }
    },
    {
      "cell_type": "code",
      "source": [
        "cov_LW = LedoitWolf().fit(df_datos_centralizo) #Mejora de la Matriz de Covarianza con Ledoit and Wolf\n",
        "cov_LW_encogida = cov_LW.covariance_\n",
        "cov_LW_shrinkage = cov_LW.shrinkage_\n",
        "cov_LW_shrinkage"
      ],
      "metadata": {
        "colab": {
          "base_uri": "https://localhost:8080/"
        },
        "id": "xXHaQ61PPqp0",
        "outputId": "e64d85b8-4b1d-40d8-950b-3a843f91e560"
      },
      "execution_count": null,
      "outputs": [
        {
          "output_type": "execute_result",
          "data": {
            "text/plain": [
              "0.004447944363455394"
            ]
          },
          "metadata": {},
          "execution_count": 16
        }
      ]
    },
    {
      "cell_type": "code",
      "source": [
        "X_centralizada=pd.DataFrame(df_datos_centralizo)\n",
        "X_centralizada = X_centralizada.values\n",
        "Número_filas, Número_columnas=X_centralizada.shape\n",
        "\n",
        "Transpuesta=X_centralizada.transpose()\n",
        "cov_LW_encogida=cov_LW_encogida\n",
        "Inverso_covarianza=np.linalg.inv(cov_LW_encogida)\n",
        "MD=np.zeros((Número_filas, 1))\n",
        "\n",
        "for i in range(1,Número_filas):\n",
        "    tem1=np.dot(X_centralizada[i,:],Inverso_covarianza)\n",
        "    tem2=np.dot(tem1,Transpuesta[:,i])\n",
        "    MD[i]=np.sqrt(tem2)\n",
        "\n",
        "print('La distancia de Mahalanobis es: \\n', MD)"
      ],
      "metadata": {
        "colab": {
          "base_uri": "https://localhost:8080/"
        },
        "id": "7olef2EZPqtU",
        "outputId": "65367000-e4bb-45a6-adf2-40b9f2b78b97"
      },
      "execution_count": null,
      "outputs": [
        {
          "output_type": "stream",
          "name": "stdout",
          "text": [
            "La distancia de Mahalanobis es: \n",
            " [[0.        ]\n",
            " [0.42073245]\n",
            " [1.13074461]\n",
            " ...\n",
            " [0.5223549 ]\n",
            " [0.88903144]\n",
            " [1.16993379]]\n"
          ]
        }
      ]
    },
    {
      "cell_type": "code",
      "source": [
        "MD = pd.DataFrame(MD)\n",
        "MD.columns = ['Distancias_Mahal']\n",
        "MD.set_index(df_datos_limpios.index,inplace=True)\n",
        "\n",
        "corte = np.percentile(MD, 70)\n",
        "print('La distancia de corte es: ',corte)\n",
        "\n",
        "X_99 = []\n",
        "X_99 = pd.concat([df_datos_limpios,MD],axis=1)\n",
        "X_sin_corte = X_99.copy()\n",
        "X_99_corte = X_99['Distancias_Mahal'] < corte\n",
        "X_99 = X_99[X_99_corte]\n",
        "X_99.reset_index(drop=True, inplace=True)\n",
        "X_99 = X_99.drop(['Distancias_Mahal'],axis=1)\n",
        "X_99"
      ],
      "metadata": {
        "colab": {
          "base_uri": "https://localhost:8080/",
          "height": 441
        },
        "id": "PjpXGfgFPqw4",
        "outputId": "40ba4f58-02f2-43e2-8734-307625f419d3"
      },
      "execution_count": null,
      "outputs": [
        {
          "output_type": "stream",
          "name": "stdout",
          "text": [
            "La distancia de corte es:  1.1821987076120932\n"
          ]
        },
        {
          "output_type": "execute_result",
          "data": {
            "text/plain": [
              "       price  lotSize  age  landValue  livingArea  pctCollege  bedrooms  \\\n",
              "0     132500     0.09   42      50000         906          35         2   \n",
              "1     181115     0.92    0      22300        1953          51         3   \n",
              "2     109000     0.19  133       7300        1944          51         4   \n",
              "3     155000     0.41   13      18700        1944          51         3   \n",
              "4     120000     0.68   31      14000        1152          22         4   \n",
              "...      ...      ...  ...        ...         ...         ...       ...   \n",
              "1204  249000     0.43   41      45800        2426          61         4   \n",
              "1205  285000     0.94   37      36200        2564          61         4   \n",
              "1206  194900     0.39    9      20400        1099          51         2   \n",
              "1207  125000     0.24   48      16800        1225          51         3   \n",
              "1208  111300     0.59   86      26000        1959          51         3   \n",
              "\n",
              "      fireplaces  bathrooms  rooms  heating  fuel  sewer  waterfront  \\\n",
              "0              1        1.0      5        3     2      1           2   \n",
              "1              0        2.5      6        2     1      1           2   \n",
              "2              1        1.0      8        2     1      2           2   \n",
              "3              1        1.5      5        1     1      1           2   \n",
              "4              1        1.0      8        1     1      1           2   \n",
              "...          ...        ...    ...      ...   ...    ...         ...   \n",
              "1204           2        2.0      7        2     1      2           2   \n",
              "1205           1        2.5     11        2     1      2           2   \n",
              "1206           0        1.0      3        1     1      2           2   \n",
              "1207           1        1.0      7        1     1      2           2   \n",
              "1208           0        1.0      6        1     1      1           2   \n",
              "\n",
              "      newConstruction  centralAir  \n",
              "0                   2           2  \n",
              "1                   2           2  \n",
              "2                   2           2  \n",
              "3                   2           2  \n",
              "4                   2           2  \n",
              "...               ...         ...  \n",
              "1204                2           2  \n",
              "1205                2           2  \n",
              "1206                2           2  \n",
              "1207                2           2  \n",
              "1208                2           2  \n",
              "\n",
              "[1209 rows x 16 columns]"
            ],
            "text/html": [
              "\n",
              "  <div id=\"df-52484b11-94c4-4653-9d7a-561242e60129\">\n",
              "    <div class=\"colab-df-container\">\n",
              "      <div>\n",
              "<style scoped>\n",
              "    .dataframe tbody tr th:only-of-type {\n",
              "        vertical-align: middle;\n",
              "    }\n",
              "\n",
              "    .dataframe tbody tr th {\n",
              "        vertical-align: top;\n",
              "    }\n",
              "\n",
              "    .dataframe thead th {\n",
              "        text-align: right;\n",
              "    }\n",
              "</style>\n",
              "<table border=\"1\" class=\"dataframe\">\n",
              "  <thead>\n",
              "    <tr style=\"text-align: right;\">\n",
              "      <th></th>\n",
              "      <th>price</th>\n",
              "      <th>lotSize</th>\n",
              "      <th>age</th>\n",
              "      <th>landValue</th>\n",
              "      <th>livingArea</th>\n",
              "      <th>pctCollege</th>\n",
              "      <th>bedrooms</th>\n",
              "      <th>fireplaces</th>\n",
              "      <th>bathrooms</th>\n",
              "      <th>rooms</th>\n",
              "      <th>heating</th>\n",
              "      <th>fuel</th>\n",
              "      <th>sewer</th>\n",
              "      <th>waterfront</th>\n",
              "      <th>newConstruction</th>\n",
              "      <th>centralAir</th>\n",
              "    </tr>\n",
              "  </thead>\n",
              "  <tbody>\n",
              "    <tr>\n",
              "      <th>0</th>\n",
              "      <td>132500</td>\n",
              "      <td>0.09</td>\n",
              "      <td>42</td>\n",
              "      <td>50000</td>\n",
              "      <td>906</td>\n",
              "      <td>35</td>\n",
              "      <td>2</td>\n",
              "      <td>1</td>\n",
              "      <td>1.0</td>\n",
              "      <td>5</td>\n",
              "      <td>3</td>\n",
              "      <td>2</td>\n",
              "      <td>1</td>\n",
              "      <td>2</td>\n",
              "      <td>2</td>\n",
              "      <td>2</td>\n",
              "    </tr>\n",
              "    <tr>\n",
              "      <th>1</th>\n",
              "      <td>181115</td>\n",
              "      <td>0.92</td>\n",
              "      <td>0</td>\n",
              "      <td>22300</td>\n",
              "      <td>1953</td>\n",
              "      <td>51</td>\n",
              "      <td>3</td>\n",
              "      <td>0</td>\n",
              "      <td>2.5</td>\n",
              "      <td>6</td>\n",
              "      <td>2</td>\n",
              "      <td>1</td>\n",
              "      <td>1</td>\n",
              "      <td>2</td>\n",
              "      <td>2</td>\n",
              "      <td>2</td>\n",
              "    </tr>\n",
              "    <tr>\n",
              "      <th>2</th>\n",
              "      <td>109000</td>\n",
              "      <td>0.19</td>\n",
              "      <td>133</td>\n",
              "      <td>7300</td>\n",
              "      <td>1944</td>\n",
              "      <td>51</td>\n",
              "      <td>4</td>\n",
              "      <td>1</td>\n",
              "      <td>1.0</td>\n",
              "      <td>8</td>\n",
              "      <td>2</td>\n",
              "      <td>1</td>\n",
              "      <td>2</td>\n",
              "      <td>2</td>\n",
              "      <td>2</td>\n",
              "      <td>2</td>\n",
              "    </tr>\n",
              "    <tr>\n",
              "      <th>3</th>\n",
              "      <td>155000</td>\n",
              "      <td>0.41</td>\n",
              "      <td>13</td>\n",
              "      <td>18700</td>\n",
              "      <td>1944</td>\n",
              "      <td>51</td>\n",
              "      <td>3</td>\n",
              "      <td>1</td>\n",
              "      <td>1.5</td>\n",
              "      <td>5</td>\n",
              "      <td>1</td>\n",
              "      <td>1</td>\n",
              "      <td>1</td>\n",
              "      <td>2</td>\n",
              "      <td>2</td>\n",
              "      <td>2</td>\n",
              "    </tr>\n",
              "    <tr>\n",
              "      <th>4</th>\n",
              "      <td>120000</td>\n",
              "      <td>0.68</td>\n",
              "      <td>31</td>\n",
              "      <td>14000</td>\n",
              "      <td>1152</td>\n",
              "      <td>22</td>\n",
              "      <td>4</td>\n",
              "      <td>1</td>\n",
              "      <td>1.0</td>\n",
              "      <td>8</td>\n",
              "      <td>1</td>\n",
              "      <td>1</td>\n",
              "      <td>1</td>\n",
              "      <td>2</td>\n",
              "      <td>2</td>\n",
              "      <td>2</td>\n",
              "    </tr>\n",
              "    <tr>\n",
              "      <th>...</th>\n",
              "      <td>...</td>\n",
              "      <td>...</td>\n",
              "      <td>...</td>\n",
              "      <td>...</td>\n",
              "      <td>...</td>\n",
              "      <td>...</td>\n",
              "      <td>...</td>\n",
              "      <td>...</td>\n",
              "      <td>...</td>\n",
              "      <td>...</td>\n",
              "      <td>...</td>\n",
              "      <td>...</td>\n",
              "      <td>...</td>\n",
              "      <td>...</td>\n",
              "      <td>...</td>\n",
              "      <td>...</td>\n",
              "    </tr>\n",
              "    <tr>\n",
              "      <th>1204</th>\n",
              "      <td>249000</td>\n",
              "      <td>0.43</td>\n",
              "      <td>41</td>\n",
              "      <td>45800</td>\n",
              "      <td>2426</td>\n",
              "      <td>61</td>\n",
              "      <td>4</td>\n",
              "      <td>2</td>\n",
              "      <td>2.0</td>\n",
              "      <td>7</td>\n",
              "      <td>2</td>\n",
              "      <td>1</td>\n",
              "      <td>2</td>\n",
              "      <td>2</td>\n",
              "      <td>2</td>\n",
              "      <td>2</td>\n",
              "    </tr>\n",
              "    <tr>\n",
              "      <th>1205</th>\n",
              "      <td>285000</td>\n",
              "      <td>0.94</td>\n",
              "      <td>37</td>\n",
              "      <td>36200</td>\n",
              "      <td>2564</td>\n",
              "      <td>61</td>\n",
              "      <td>4</td>\n",
              "      <td>1</td>\n",
              "      <td>2.5</td>\n",
              "      <td>11</td>\n",
              "      <td>2</td>\n",
              "      <td>1</td>\n",
              "      <td>2</td>\n",
              "      <td>2</td>\n",
              "      <td>2</td>\n",
              "      <td>2</td>\n",
              "    </tr>\n",
              "    <tr>\n",
              "      <th>1206</th>\n",
              "      <td>194900</td>\n",
              "      <td>0.39</td>\n",
              "      <td>9</td>\n",
              "      <td>20400</td>\n",
              "      <td>1099</td>\n",
              "      <td>51</td>\n",
              "      <td>2</td>\n",
              "      <td>0</td>\n",
              "      <td>1.0</td>\n",
              "      <td>3</td>\n",
              "      <td>1</td>\n",
              "      <td>1</td>\n",
              "      <td>2</td>\n",
              "      <td>2</td>\n",
              "      <td>2</td>\n",
              "      <td>2</td>\n",
              "    </tr>\n",
              "    <tr>\n",
              "      <th>1207</th>\n",
              "      <td>125000</td>\n",
              "      <td>0.24</td>\n",
              "      <td>48</td>\n",
              "      <td>16800</td>\n",
              "      <td>1225</td>\n",
              "      <td>51</td>\n",
              "      <td>3</td>\n",
              "      <td>1</td>\n",
              "      <td>1.0</td>\n",
              "      <td>7</td>\n",
              "      <td>1</td>\n",
              "      <td>1</td>\n",
              "      <td>2</td>\n",
              "      <td>2</td>\n",
              "      <td>2</td>\n",
              "      <td>2</td>\n",
              "    </tr>\n",
              "    <tr>\n",
              "      <th>1208</th>\n",
              "      <td>111300</td>\n",
              "      <td>0.59</td>\n",
              "      <td>86</td>\n",
              "      <td>26000</td>\n",
              "      <td>1959</td>\n",
              "      <td>51</td>\n",
              "      <td>3</td>\n",
              "      <td>0</td>\n",
              "      <td>1.0</td>\n",
              "      <td>6</td>\n",
              "      <td>1</td>\n",
              "      <td>1</td>\n",
              "      <td>1</td>\n",
              "      <td>2</td>\n",
              "      <td>2</td>\n",
              "      <td>2</td>\n",
              "    </tr>\n",
              "  </tbody>\n",
              "</table>\n",
              "<p>1209 rows × 16 columns</p>\n",
              "</div>\n",
              "      <button class=\"colab-df-convert\" onclick=\"convertToInteractive('df-52484b11-94c4-4653-9d7a-561242e60129')\"\n",
              "              title=\"Convert this dataframe to an interactive table.\"\n",
              "              style=\"display:none;\">\n",
              "        \n",
              "  <svg xmlns=\"http://www.w3.org/2000/svg\" height=\"24px\"viewBox=\"0 0 24 24\"\n",
              "       width=\"24px\">\n",
              "    <path d=\"M0 0h24v24H0V0z\" fill=\"none\"/>\n",
              "    <path d=\"M18.56 5.44l.94 2.06.94-2.06 2.06-.94-2.06-.94-.94-2.06-.94 2.06-2.06.94zm-11 1L8.5 8.5l.94-2.06 2.06-.94-2.06-.94L8.5 2.5l-.94 2.06-2.06.94zm10 10l.94 2.06.94-2.06 2.06-.94-2.06-.94-.94-2.06-.94 2.06-2.06.94z\"/><path d=\"M17.41 7.96l-1.37-1.37c-.4-.4-.92-.59-1.43-.59-.52 0-1.04.2-1.43.59L10.3 9.45l-7.72 7.72c-.78.78-.78 2.05 0 2.83L4 21.41c.39.39.9.59 1.41.59.51 0 1.02-.2 1.41-.59l7.78-7.78 2.81-2.81c.8-.78.8-2.07 0-2.86zM5.41 20L4 18.59l7.72-7.72 1.47 1.35L5.41 20z\"/>\n",
              "  </svg>\n",
              "      </button>\n",
              "      \n",
              "  <style>\n",
              "    .colab-df-container {\n",
              "      display:flex;\n",
              "      flex-wrap:wrap;\n",
              "      gap: 12px;\n",
              "    }\n",
              "\n",
              "    .colab-df-convert {\n",
              "      background-color: #E8F0FE;\n",
              "      border: none;\n",
              "      border-radius: 50%;\n",
              "      cursor: pointer;\n",
              "      display: none;\n",
              "      fill: #1967D2;\n",
              "      height: 32px;\n",
              "      padding: 0 0 0 0;\n",
              "      width: 32px;\n",
              "    }\n",
              "\n",
              "    .colab-df-convert:hover {\n",
              "      background-color: #E2EBFA;\n",
              "      box-shadow: 0px 1px 2px rgba(60, 64, 67, 0.3), 0px 1px 3px 1px rgba(60, 64, 67, 0.15);\n",
              "      fill: #174EA6;\n",
              "    }\n",
              "\n",
              "    [theme=dark] .colab-df-convert {\n",
              "      background-color: #3B4455;\n",
              "      fill: #D2E3FC;\n",
              "    }\n",
              "\n",
              "    [theme=dark] .colab-df-convert:hover {\n",
              "      background-color: #434B5C;\n",
              "      box-shadow: 0px 1px 3px 1px rgba(0, 0, 0, 0.15);\n",
              "      filter: drop-shadow(0px 1px 2px rgba(0, 0, 0, 0.3));\n",
              "      fill: #FFFFFF;\n",
              "    }\n",
              "  </style>\n",
              "\n",
              "      <script>\n",
              "        const buttonEl =\n",
              "          document.querySelector('#df-52484b11-94c4-4653-9d7a-561242e60129 button.colab-df-convert');\n",
              "        buttonEl.style.display =\n",
              "          google.colab.kernel.accessAllowed ? 'block' : 'none';\n",
              "\n",
              "        async function convertToInteractive(key) {\n",
              "          const element = document.querySelector('#df-52484b11-94c4-4653-9d7a-561242e60129');\n",
              "          const dataTable =\n",
              "            await google.colab.kernel.invokeFunction('convertToInteractive',\n",
              "                                                     [key], {});\n",
              "          if (!dataTable) return;\n",
              "\n",
              "          const docLinkHtml = 'Like what you see? Visit the ' +\n",
              "            '<a target=\"_blank\" href=https://colab.research.google.com/notebooks/data_table.ipynb>data table notebook</a>'\n",
              "            + ' to learn more about interactive tables.';\n",
              "          element.innerHTML = '';\n",
              "          dataTable['output_type'] = 'display_data';\n",
              "          await google.colab.output.renderOutput(dataTable, element);\n",
              "          const docLink = document.createElement('div');\n",
              "          docLink.innerHTML = docLinkHtml;\n",
              "          element.appendChild(docLink);\n",
              "        }\n",
              "      </script>\n",
              "    </div>\n",
              "  </div>\n",
              "  "
            ]
          },
          "metadata": {},
          "execution_count": 18
        }
      ]
    },
    {
      "cell_type": "code",
      "source": [
        "X_sin_corte[\"recorte\"] = np.where(X_sin_corte['Distancias_Mahal'] < corte, \"green\", \"blue\")"
      ],
      "metadata": {
        "id": "zwU0KZ1IPq08"
      },
      "execution_count": null,
      "outputs": []
    },
    {
      "cell_type": "code",
      "source": [
        "ax = X_sin_corte.plot(x=\"price\",y=\"landValue\",kind=\"scatter\", color=\"blue\", xlabel=\"Valor casa\", ylabel=\"Valor terreno\", figsize=(10,8))\n",
        "X_99.plot(x=\"price\",y=\"landValue\",kind=\"scatter\", color=\"green\", ax=ax,xlabel=\"Valor casa\", ylabel=\"Valor terreno\")"
      ],
      "metadata": {
        "colab": {
          "base_uri": "https://localhost:8080/",
          "height": 514
        },
        "id": "RQD3U9BAPrDT",
        "outputId": "7fb46378-83b8-4977-a4c0-3b7d1a8978d4"
      },
      "execution_count": null,
      "outputs": [
        {
          "output_type": "execute_result",
          "data": {
            "text/plain": [
              "<matplotlib.axes._subplots.AxesSubplot at 0x7fe16160ba10>"
            ]
          },
          "metadata": {},
          "execution_count": 20
        },
        {
          "output_type": "display_data",
          "data": {
            "text/plain": [
              "<Figure size 720x576 with 1 Axes>"
            ],
            "image/png": "[encoded data removed]"
          },
          "metadata": {
            "needs_background": "light"
          }
        }
      ]
    },
    {
      "cell_type": "code",
      "source": [
        "MD.hist(figsize=(10,8))"
      ],
      "metadata": {
        "colab": {
          "base_uri": "https://localhost:8080/",
          "height": 533
        },
        "id": "vFYCUoDkPrGv",
        "outputId": "02246284-4efa-4594-94c7-7496ee1852ba"
      },
      "execution_count": null,
      "outputs": [
        {
          "output_type": "execute_result",
          "data": {
            "text/plain": [
              "array([[<matplotlib.axes._subplots.AxesSubplot object at 0x7fe1615fb290>]],\n",
              "      dtype=object)"
            ]
          },
          "metadata": {},
          "execution_count": 21
        },
        {
          "output_type": "display_data",
          "data": {
            "text/plain": [
              "<Figure size 720x576 with 1 Axes>"
            ],
            "image/png": "[encoded data removed]"
          },
          "metadata": {
            "needs_background": "light"
          }
        }
      ]
    },
    {
      "cell_type": "markdown",
      "source": [
        "### Aplicación de PCA con Covarianza Clásica:"
      ],
      "metadata": {
        "id": "AVid50d25ror"
      }
    },
    {
      "cell_type": "code",
      "source": [
        "cov_LW99 = LedoitWolf().fit(X_99)\n",
        "cov_LW99_encogida = cov_LW.covariance_ \n",
        "autovalor,autovector = np.linalg.eig(cov_LW99_encogida) \n",
        "#autovalor.round(3)\n",
        "#autovector.round(3)\n",
        "#Proporción de los autovalores:\n",
        "proporcion=autovalor/sum(autovalor)\n",
        "proporcion"
      ],
      "metadata": {
        "colab": {
          "base_uri": "https://localhost:8080/"
        },
        "id": "rDvV9W5e5oQd",
        "outputId": "d4f53660-6da0-48b6-91b7-6f5c352021c5"
      },
      "execution_count": null,
      "outputs": [
        {
          "output_type": "execute_result",
          "data": {
            "text/plain": [
              "array([9.25049072e-01, 7.10416383e-02, 2.95251917e-04, 2.78070387e-04,\n",
              "       2.78005602e-04, 2.77996752e-04, 2.77996591e-04, 2.77996569e-04,\n",
              "       2.77996523e-04, 2.77996526e-04, 2.77996552e-04, 2.77996549e-04,\n",
              "       2.77996545e-04, 2.77996539e-04, 2.77996535e-04, 2.77996537e-04])"
            ]
          },
          "metadata": {},
          "execution_count": 22
        }
      ]
    },
    {
      "cell_type": "code",
      "source": [
        "#Se procede a extraer la columna 1 ya que es el vector de proyección de la máxima sombra, así:\n",
        "vector_proyeccion=autovector[:,0]"
      ],
      "metadata": {
        "id": "TvndJTMg54cs"
      },
      "execution_count": null,
      "outputs": []
    },
    {
      "cell_type": "markdown",
      "source": [
        "## Forma 1 PCA"
      ],
      "metadata": {
        "id": "jUNjmDg2ihvT"
      }
    },
    {
      "cell_type": "code",
      "source": [
        "# Forma 1 PCA lib y forma 2: manual PCA\n",
        "\n",
        "# Instanciar número de componentes\n",
        "n_componentes = 10 # intuición\n",
        "matriz_pca, eigen_valores = PCA_manual(df_datos_limpios, n_componentes,cov_LW_encogida)\n",
        "pca = PCA(n_components = n_componentes)\n",
        "pca"
      ],
      "metadata": {
        "colab": {
          "base_uri": "https://localhost:8080/"
        },
        "id": "4coN0Vtm6AWb",
        "outputId": "82325161-5e87-431d-cc28-c4685dd0f6a6"
      },
      "execution_count": null,
      "outputs": [
        {
          "output_type": "execute_result",
          "data": {
            "text/plain": [
              "PCA(n_components=10)"
            ]
          },
          "metadata": {},
          "execution_count": 24
        }
      ]
    },
    {
      "cell_type": "code",
      "source": [
        "total = np.sum(eigen_valores)\n",
        "proporciones = eigen_valores / total\n",
        "acumulado = np.sum(proporciones)\n",
        "acumulado"
      ],
      "metadata": {
        "colab": {
          "base_uri": "https://localhost:8080/"
        },
        "id": "2xK93QmI57jM",
        "outputId": "7c843d96-dd59-42e9-d811-a2edfcc5c93f"
      },
      "execution_count": null,
      "outputs": [
        {
          "output_type": "execute_result",
          "data": {
            "text/plain": [
              "1.0"
            ]
          },
          "metadata": {},
          "execution_count": 25
        }
      ]
    },
    {
      "cell_type": "code",
      "source": [
        "proporciones"
      ],
      "metadata": {
        "colab": {
          "base_uri": "https://localhost:8080/"
        },
        "id": "zdnsMZEn6f_8",
        "outputId": "2413b934-e466-4c83-dba6-c9cbc36e6b17"
      },
      "execution_count": null,
      "outputs": [
        {
          "output_type": "execute_result",
          "data": {
            "text/plain": [
              "array([9.25049072e-01, 7.10416383e-02, 2.95251917e-04, 2.78070387e-04,\n",
              "       2.78005602e-04, 2.77996752e-04, 2.77996591e-04, 2.77996569e-04,\n",
              "       2.77996552e-04, 2.77996549e-04, 2.77996545e-04, 2.77996539e-04,\n",
              "       2.77996537e-04, 2.77996535e-04, 2.77996526e-04, 2.77996523e-04])"
            ]
          },
          "metadata": {},
          "execution_count": 26
        }
      ]
    },
    {
      "cell_type": "code",
      "source": [
        "X_PCA = pca.fit_transform(cov_LW_encogida) \n",
        "X_PCA = pd.DataFrame(X_PCA)\n",
        "\n",
        "pca.explained_variance_ratio_"
      ],
      "metadata": {
        "colab": {
          "base_uri": "https://localhost:8080/"
        },
        "id": "n7RYkAyz6Adn",
        "outputId": "9e03f3f8-1c4b-408d-9674-f41c8ff7ccff"
      },
      "execution_count": null,
      "outputs": [
        {
          "output_type": "execute_result",
          "data": {
            "text/plain": [
              "array([9.93811246e-01, 6.18745985e-03, 1.10341577e-07, 9.86657469e-08,\n",
              "       9.86232892e-08, 9.86175397e-08, 9.86174323e-08, 9.86174256e-08,\n",
              "       9.86174116e-08, 9.86174107e-08])"
            ]
          },
          "metadata": {},
          "execution_count": 27
        }
      ]
    },
    {
      "cell_type": "code",
      "source": [
        "eigen_valores"
      ],
      "metadata": {
        "colab": {
          "base_uri": "https://localhost:8080/"
        },
        "id": "-DsxSTt9jZUR",
        "outputId": "e7670091-2b95-4afa-d192-ca8f392396fb"
      },
      "execution_count": null,
      "outputs": [
        {
          "output_type": "execute_result",
          "data": {
            "text/plain": [
              "array([1.00934481e+10, 7.75153568e+08, 3.22156952e+06, 3.03409743e+06,\n",
              "       3.03339055e+06, 3.03329399e+06, 3.03329223e+06, 3.03329199e+06,\n",
              "       3.03329180e+06, 3.03329177e+06, 3.03329173e+06, 3.03329166e+06,\n",
              "       3.03329163e+06, 3.03329162e+06, 3.03329152e+06, 3.03329149e+06])"
            ]
          },
          "metadata": {},
          "execution_count": 28
        }
      ]
    },
    {
      "cell_type": "code",
      "source": [
        "sum(pca.explained_variance_ratio_)"
      ],
      "metadata": {
        "colab": {
          "base_uri": "https://localhost:8080/"
        },
        "id": "tiXeEIVB6Af2",
        "outputId": "acce52e0-9b89-4dc4-8589-34f916eb31c3"
      },
      "execution_count": null,
      "outputs": [
        {
          "output_type": "execute_result",
          "data": {
            "text/plain": [
              "0.9999995069129973"
            ]
          },
          "metadata": {},
          "execution_count": 29
        }
      ]
    },
    {
      "cell_type": "code",
      "source": [
        "sum(pca.explained_variance_ratio_[:1])"
      ],
      "metadata": {
        "colab": {
          "base_uri": "https://localhost:8080/"
        },
        "id": "5pYqANED6Ah8",
        "outputId": "bdb26648-29a8-4a95-afb6-65b907428cee"
      },
      "execution_count": null,
      "outputs": [
        {
          "output_type": "execute_result",
          "data": {
            "text/plain": [
              "0.99381124634689"
            ]
          },
          "metadata": {},
          "execution_count": 30
        }
      ]
    },
    {
      "cell_type": "code",
      "source": [
        "X_PCA[0]"
      ],
      "metadata": {
        "colab": {
          "base_uri": "https://localhost:8080/"
        },
        "id": "S6GIFbuY6AkQ",
        "outputId": "6ce7fd0c-bf6c-4edc-e5f9-a893e07b2c44"
      },
      "execution_count": null,
      "outputs": [
        {
          "output_type": "execute_result",
          "data": {
            "text/plain": [
              "0     9.091920e+09\n",
              "1    -7.563880e+08\n",
              "2    -7.569314e+08\n",
              "3     1.453579e+09\n",
              "4    -7.121724e+08\n",
              "5    -7.561834e+08\n",
              "6    -7.563663e+08\n",
              "7    -7.563780e+08\n",
              "8    -7.563598e+08\n",
              "9    -7.562760e+08\n",
              "10   -7.564176e+08\n",
              "11   -7.564140e+08\n",
              "12   -7.563948e+08\n",
              "13   -7.564004e+08\n",
              "14   -7.564025e+08\n",
              "15   -7.564151e+08\n",
              "Name: 0, dtype: float64"
            ]
          },
          "metadata": {},
          "execution_count": 31
        }
      ]
    },
    {
      "cell_type": "markdown",
      "source": [
        "## 2. PCA Robusto (MCD)"
      ],
      "metadata": {
        "id": "4SHDpu3lD75M"
      }
    },
    {
      "cell_type": "code",
      "source": [
        "cov_MCD = MinCovDet().fit(X_99_R)\n",
        "cov_MCD_encogida = cov_MCD.covariance_ \n",
        "autovalor,autovector = np.linalg.eig(cov_MCD_encogida) \n",
        "#autovalor.round(3)\n",
        "#autovector.round(3)\n",
        "#Proporción de los autovalores:\n",
        "proporcion=autovalor/sum(autovalor)\n",
        "proporcion"
      ],
      "metadata": {
        "colab": {
          "base_uri": "https://localhost:8080/"
        },
        "id": "gc9das0_7mqT",
        "outputId": "2c2668e5-382f-4e14-eb2f-4dbefc7ad3ca"
      },
      "execution_count": null,
      "outputs": [
        {
          "output_type": "stream",
          "name": "stderr",
          "text": [
            "/usr/local/lib/python3.7/dist-packages/sklearn/covariance/_robust_covariance.py:739: UserWarning: The covariance matrix associated to your dataset is not full rank\n",
            "  \"The covariance matrix associated to your dataset is not full rank\"\n"
          ]
        },
        {
          "output_type": "execute_result",
          "data": {
            "text/plain": [
              "array([9.58773454e-01, 4.12046552e-02, 2.18612361e-05, 1.83803950e-08,\n",
              "       1.03168477e-08, 4.78449802e-10, 1.52377346e-10, 3.45149292e-12,\n",
              "       2.42766731e-12, 1.76277361e-11, 2.82315555e-11, 3.26069866e-11,\n",
              "       4.26189343e-11, 4.75666627e-11, 0.00000000e+00, 0.00000000e+00])"
            ]
          },
          "metadata": {},
          "execution_count": 32
        }
      ]
    },
    {
      "cell_type": "code",
      "source": [
        "#Se procede a extraer la columna 1 ya que es el vector de proyección de la máxima sombra, así:\n",
        "vector_proyeccion=autovector[:,0]"
      ],
      "metadata": {
        "id": "MYdevq1-7mcL"
      },
      "execution_count": null,
      "outputs": []
    },
    {
      "cell_type": "code",
      "source": [
        "# Instanciar número de componentes\n",
        "n_componentes = 10 # intuición\n",
        "pca = PCA(n_components = n_componentes)\n",
        "pca"
      ],
      "metadata": {
        "colab": {
          "base_uri": "https://localhost:8080/"
        },
        "id": "uiqpv4FSH83q",
        "outputId": "fc022958-32a6-4032-cc8a-00b21473b2b4"
      },
      "execution_count": null,
      "outputs": [
        {
          "output_type": "execute_result",
          "data": {
            "text/plain": [
              "PCA(n_components=10)"
            ]
          },
          "metadata": {},
          "execution_count": 34
        }
      ]
    },
    {
      "cell_type": "code",
      "source": [
        "X_PCA_R = pca.fit_transform(cov_MCD_encogida) \n",
        "X_PCA_R = pd.DataFrame(X_PCA_R)\n",
        "\n",
        "pca.explained_variance_ratio_"
      ],
      "metadata": {
        "colab": {
          "base_uri": "https://localhost:8080/"
        },
        "id": "tdCZLNJiH-qV",
        "outputId": "568ae1e5-1c6d-49c0-f26b-dd824ee43106"
      },
      "execution_count": null,
      "outputs": [
        {
          "output_type": "execute_result",
          "data": {
            "text/plain": [
              "array([9.98103721e-01, 1.89627881e-03, 5.21958841e-10, 3.48044096e-16,\n",
              "       1.20438566e-16, 2.41955693e-19, 2.23092219e-20, 2.59871134e-21,\n",
              "       1.60980687e-21, 1.07196768e-21])"
            ]
          },
          "metadata": {},
          "execution_count": 35
        }
      ]
    },
    {
      "cell_type": "code",
      "source": [
        "sum(pca.explained_variance_ratio_)"
      ],
      "metadata": {
        "colab": {
          "base_uri": "https://localhost:8080/"
        },
        "id": "tMxZudlGH-sU",
        "outputId": "10e3034a-7dfa-44ab-c884-6ae5e099efa7"
      },
      "execution_count": null,
      "outputs": [
        {
          "output_type": "execute_result",
          "data": {
            "text/plain": [
              "0.9999999999999999"
            ]
          },
          "metadata": {},
          "execution_count": 36
        }
      ]
    },
    {
      "cell_type": "code",
      "source": [
        "sum(pca.explained_variance_ratio_[:1])"
      ],
      "metadata": {
        "colab": {
          "base_uri": "https://localhost:8080/"
        },
        "id": "CmmOfKTBH-uQ",
        "outputId": "3c217042-8832-4307-88d8-4eec3b167ee7"
      },
      "execution_count": null,
      "outputs": [
        {
          "output_type": "execute_result",
          "data": {
            "text/plain": [
              "0.9981037206649133"
            ]
          },
          "metadata": {},
          "execution_count": 37
        }
      ]
    },
    {
      "cell_type": "code",
      "source": [
        "X_PCA_R[0]"
      ],
      "metadata": {
        "colab": {
          "base_uri": "https://localhost:8080/"
        },
        "id": "wjkA1jAdH-wD",
        "outputId": "3893dec6-c104-45b2-f1df-968bc1249d8d"
      },
      "execution_count": null,
      "outputs": [
        {
          "output_type": "execute_result",
          "data": {
            "text/plain": [
              "0     4.404202e+09\n",
              "1    -3.335579e+08\n",
              "2    -3.337170e+08\n",
              "3     2.396934e+08\n",
              "4    -3.076813e+08\n",
              "5    -3.334097e+08\n",
              "6    -3.335343e+08\n",
              "7    -3.335510e+08\n",
              "8    -3.335402e+08\n",
              "9    -3.334809e+08\n",
              "10   -3.335836e+08\n",
              "11   -3.335749e+08\n",
              "12   -3.335626e+08\n",
              "13   -3.335641e+08\n",
              "14   -3.335641e+08\n",
              "15   -3.335738e+08\n",
              "Name: 0, dtype: float64"
            ]
          },
          "metadata": {},
          "execution_count": 38
        }
      ]
    },
    {
      "cell_type": "code",
      "source": [
        "X_PCA_R"
      ],
      "metadata": {
        "colab": {
          "base_uri": "https://localhost:8080/",
          "height": 552
        },
        "id": "oPTH1dc-ISQl",
        "outputId": "ce4ab926-bbf9-4fa9-bad5-3851af97e618"
      },
      "execution_count": null,
      "outputs": [
        {
          "output_type": "execute_result",
          "data": {
            "text/plain": [
              "               0             1              2          3          4         5  \\\n",
              "0   4.404202e+09 -2.329896e+07    -533.743435   0.006689  -0.000195 -0.000005   \n",
              "1  -3.335579e+08 -1.215134e+07   -7831.651890  -8.553192  -3.240076 -0.205322   \n",
              "2  -3.337170e+08 -1.211426e+07   -7286.393409  79.235475 -12.873966 -0.025077   \n",
              "3   2.396934e+08  1.930975e+08    -148.174633  -0.016406  -0.006452 -0.000009   \n",
              "4  -3.076813e+08 -1.190394e+07  101016.603240  -0.448012  -0.166917 -0.005923   \n",
              "5  -3.334097e+08 -1.211281e+07   -7275.472688  15.284629  47.522049  0.000462   \n",
              "6  -3.335343e+08 -1.215072e+07   -7717.665493  -7.308705  -3.461266  0.031656   \n",
              "7  -3.335510e+08 -1.215119e+07   -7803.511740  -8.380671  -2.706231 -0.254041   \n",
              "8  -3.335402e+08 -1.215208e+07   -7779.714018  -9.852498  -2.817445 -0.220181   \n",
              "9  -3.334809e+08 -1.214993e+07   -7530.582684  -7.745673  -3.176226  2.137752   \n",
              "10 -3.335836e+08 -1.215349e+07   -7851.078373  -8.228479  -3.147141 -0.294700   \n",
              "11 -3.335749e+08 -1.215241e+07   -7867.515481  -9.193476  -3.138450 -0.266047   \n",
              "12 -3.335626e+08 -1.215038e+07   -7845.327081  -8.768475  -2.611952 -0.261729   \n",
              "13 -3.335641e+08 -1.215157e+07   -7848.602894  -8.896812  -3.121869 -0.228018   \n",
              "14 -3.335641e+08 -1.215157e+07   -7848.602894  -8.896812  -3.121869 -0.228018   \n",
              "15 -3.335738e+08 -1.215283e+07   -7848.566525  -8.237583  -3.931995 -0.180801   \n",
              "\n",
              "           6             7             8             9  \n",
              "0   0.000002 -8.964896e-08 -1.425001e-07  1.468149e-08  \n",
              "1  -0.111486 -1.426775e-02 -1.714026e-02 -1.100600e-03  \n",
              "2  -0.001646  3.495874e-03 -9.804303e-04 -2.403943e-03  \n",
              "3   0.000007 -4.765587e-07  1.412897e-07  5.335175e-07  \n",
              "4   0.000304  2.674378e-05 -1.415299e-04 -3.152784e-08  \n",
              "5   0.001468 -3.726727e-03 -1.040109e-03  8.005211e-04  \n",
              "6  -0.157599 -1.310408e-01  1.254981e-01  1.970936e-02  \n",
              "7  -0.159296  1.453432e-01  3.174055e-02  9.596177e-02  \n",
              "8  -0.131435  3.189964e-02  3.835344e-02 -7.582712e-02  \n",
              "9   0.035476  1.926105e-02 -1.076320e-02 -2.643066e-03  \n",
              "10  0.564976  9.010114e-03  3.681649e-02  6.850159e-03  \n",
              "11  0.212252  1.441088e-02 -1.759677e-04 -1.270263e-02  \n",
              "12 -0.054115  2.618436e-02 -4.450661e-02 -4.835664e-02  \n",
              "13 -0.102212  8.106536e-03 -2.805509e-02 -2.085080e-02  \n",
              "14 -0.102212  8.106536e-03 -2.805509e-02 -2.085080e-02  \n",
              "15  0.005517 -1.168091e-01 -1.015503e-01  6.141329e-02  "
            ],
            "text/html": [
              "\n",
              "  <div id=\"df-74ee87dd-97e2-4ad9-bdd6-c6dc51d66e2e\">\n",
              "    <div class=\"colab-df-container\">\n",
              "      <div>\n",
              "<style scoped>\n",
              "    .dataframe tbody tr th:only-of-type {\n",
              "        vertical-align: middle;\n",
              "    }\n",
              "\n",
              "    .dataframe tbody tr th {\n",
              "        vertical-align: top;\n",
              "    }\n",
              "\n",
              "    .dataframe thead th {\n",
              "        text-align: right;\n",
              "    }\n",
              "</style>\n",
              "<table border=\"1\" class=\"dataframe\">\n",
              "  <thead>\n",
              "    <tr style=\"text-align: right;\">\n",
              "      <th></th>\n",
              "      <th>0</th>\n",
              "      <th>1</th>\n",
              "      <th>2</th>\n",
              "      <th>3</th>\n",
              "      <th>4</th>\n",
              "      <th>5</th>\n",
              "      <th>6</th>\n",
              "      <th>7</th>\n",
              "      <th>8</th>\n",
              "      <th>9</th>\n",
              "    </tr>\n",
              "  </thead>\n",
              "  <tbody>\n",
              "    <tr>\n",
              "      <th>0</th>\n",
              "      <td>4.404202e+09</td>\n",
              "      <td>-2.329896e+07</td>\n",
              "      <td>-533.743435</td>\n",
              "      <td>0.006689</td>\n",
              "      <td>-0.000195</td>\n",
              "      <td>-0.000005</td>\n",
              "      <td>0.000002</td>\n",
              "      <td>-8.964896e-08</td>\n",
              "      <td>-1.425001e-07</td>\n",
              "      <td>1.468149e-08</td>\n",
              "    </tr>\n",
              "    <tr>\n",
              "      <th>1</th>\n",
              "      <td>-3.335579e+08</td>\n",
              "      <td>-1.215134e+07</td>\n",
              "      <td>-7831.651890</td>\n",
              "      <td>-8.553192</td>\n",
              "      <td>-3.240076</td>\n",
              "      <td>-0.205322</td>\n",
              "      <td>-0.111486</td>\n",
              "      <td>-1.426775e-02</td>\n",
              "      <td>-1.714026e-02</td>\n",
              "      <td>-1.100600e-03</td>\n",
              "    </tr>\n",
              "    <tr>\n",
              "      <th>2</th>\n",
              "      <td>-3.337170e+08</td>\n",
              "      <td>-1.211426e+07</td>\n",
              "      <td>-7286.393409</td>\n",
              "      <td>79.235475</td>\n",
              "      <td>-12.873966</td>\n",
              "      <td>-0.025077</td>\n",
              "      <td>-0.001646</td>\n",
              "      <td>3.495874e-03</td>\n",
              "      <td>-9.804303e-04</td>\n",
              "      <td>-2.403943e-03</td>\n",
              "    </tr>\n",
              "    <tr>\n",
              "      <th>3</th>\n",
              "      <td>2.396934e+08</td>\n",
              "      <td>1.930975e+08</td>\n",
              "      <td>-148.174633</td>\n",
              "      <td>-0.016406</td>\n",
              "      <td>-0.006452</td>\n",
              "      <td>-0.000009</td>\n",
              "      <td>0.000007</td>\n",
              "      <td>-4.765587e-07</td>\n",
              "      <td>1.412897e-07</td>\n",
              "      <td>5.335175e-07</td>\n",
              "    </tr>\n",
              "    <tr>\n",
              "      <th>4</th>\n",
              "      <td>-3.076813e+08</td>\n",
              "      <td>-1.190394e+07</td>\n",
              "      <td>101016.603240</td>\n",
              "      <td>-0.448012</td>\n",
              "      <td>-0.166917</td>\n",
              "      <td>-0.005923</td>\n",
              "      <td>0.000304</td>\n",
              "      <td>2.674378e-05</td>\n",
              "      <td>-1.415299e-04</td>\n",
              "      <td>-3.152784e-08</td>\n",
              "    </tr>\n",
              "    <tr>\n",
              "      <th>5</th>\n",
              "      <td>-3.334097e+08</td>\n",
              "      <td>-1.211281e+07</td>\n",
              "      <td>-7275.472688</td>\n",
              "      <td>15.284629</td>\n",
              "      <td>47.522049</td>\n",
              "      <td>0.000462</td>\n",
              "      <td>0.001468</td>\n",
              "      <td>-3.726727e-03</td>\n",
              "      <td>-1.040109e-03</td>\n",
              "      <td>8.005211e-04</td>\n",
              "    </tr>\n",
              "    <tr>\n",
              "      <th>6</th>\n",
              "      <td>-3.335343e+08</td>\n",
              "      <td>-1.215072e+07</td>\n",
              "      <td>-7717.665493</td>\n",
              "      <td>-7.308705</td>\n",
              "      <td>-3.461266</td>\n",
              "      <td>0.031656</td>\n",
              "      <td>-0.157599</td>\n",
              "      <td>-1.310408e-01</td>\n",
              "      <td>1.254981e-01</td>\n",
              "      <td>1.970936e-02</td>\n",
              "    </tr>\n",
              "    <tr>\n",
              "      <th>7</th>\n",
              "      <td>-3.335510e+08</td>\n",
              "      <td>-1.215119e+07</td>\n",
              "      <td>-7803.511740</td>\n",
              "      <td>-8.380671</td>\n",
              "      <td>-2.706231</td>\n",
              "      <td>-0.254041</td>\n",
              "      <td>-0.159296</td>\n",
              "      <td>1.453432e-01</td>\n",
              "      <td>3.174055e-02</td>\n",
              "      <td>9.596177e-02</td>\n",
              "    </tr>\n",
              "    <tr>\n",
              "      <th>8</th>\n",
              "      <td>-3.335402e+08</td>\n",
              "      <td>-1.215208e+07</td>\n",
              "      <td>-7779.714018</td>\n",
              "      <td>-9.852498</td>\n",
              "      <td>-2.817445</td>\n",
              "      <td>-0.220181</td>\n",
              "      <td>-0.131435</td>\n",
              "      <td>3.189964e-02</td>\n",
              "      <td>3.835344e-02</td>\n",
              "      <td>-7.582712e-02</td>\n",
              "    </tr>\n",
              "    <tr>\n",
              "      <th>9</th>\n",
              "      <td>-3.334809e+08</td>\n",
              "      <td>-1.214993e+07</td>\n",
              "      <td>-7530.582684</td>\n",
              "      <td>-7.745673</td>\n",
              "      <td>-3.176226</td>\n",
              "      <td>2.137752</td>\n",
              "      <td>0.035476</td>\n",
              "      <td>1.926105e-02</td>\n",
              "      <td>-1.076320e-02</td>\n",
              "      <td>-2.643066e-03</td>\n",
              "    </tr>\n",
              "    <tr>\n",
              "      <th>10</th>\n",
              "      <td>-3.335836e+08</td>\n",
              "      <td>-1.215349e+07</td>\n",
              "      <td>-7851.078373</td>\n",
              "      <td>-8.228479</td>\n",
              "      <td>-3.147141</td>\n",
              "      <td>-0.294700</td>\n",
              "      <td>0.564976</td>\n",
              "      <td>9.010114e-03</td>\n",
              "      <td>3.681649e-02</td>\n",
              "      <td>6.850159e-03</td>\n",
              "    </tr>\n",
              "    <tr>\n",
              "      <th>11</th>\n",
              "      <td>-3.335749e+08</td>\n",
              "      <td>-1.215241e+07</td>\n",
              "      <td>-7867.515481</td>\n",
              "      <td>-9.193476</td>\n",
              "      <td>-3.138450</td>\n",
              "      <td>-0.266047</td>\n",
              "      <td>0.212252</td>\n",
              "      <td>1.441088e-02</td>\n",
              "      <td>-1.759677e-04</td>\n",
              "      <td>-1.270263e-02</td>\n",
              "    </tr>\n",
              "    <tr>\n",
              "      <th>12</th>\n",
              "      <td>-3.335626e+08</td>\n",
              "      <td>-1.215038e+07</td>\n",
              "      <td>-7845.327081</td>\n",
              "      <td>-8.768475</td>\n",
              "      <td>-2.611952</td>\n",
              "      <td>-0.261729</td>\n",
              "      <td>-0.054115</td>\n",
              "      <td>2.618436e-02</td>\n",
              "      <td>-4.450661e-02</td>\n",
              "      <td>-4.835664e-02</td>\n",
              "    </tr>\n",
              "    <tr>\n",
              "      <th>13</th>\n",
              "      <td>-3.335641e+08</td>\n",
              "      <td>-1.215157e+07</td>\n",
              "      <td>-7848.602894</td>\n",
              "      <td>-8.896812</td>\n",
              "      <td>-3.121869</td>\n",
              "      <td>-0.228018</td>\n",
              "      <td>-0.102212</td>\n",
              "      <td>8.106536e-03</td>\n",
              "      <td>-2.805509e-02</td>\n",
              "      <td>-2.085080e-02</td>\n",
              "    </tr>\n",
              "    <tr>\n",
              "      <th>14</th>\n",
              "      <td>-3.335641e+08</td>\n",
              "      <td>-1.215157e+07</td>\n",
              "      <td>-7848.602894</td>\n",
              "      <td>-8.896812</td>\n",
              "      <td>-3.121869</td>\n",
              "      <td>-0.228018</td>\n",
              "      <td>-0.102212</td>\n",
              "      <td>8.106536e-03</td>\n",
              "      <td>-2.805509e-02</td>\n",
              "      <td>-2.085080e-02</td>\n",
              "    </tr>\n",
              "    <tr>\n",
              "      <th>15</th>\n",
              "      <td>-3.335738e+08</td>\n",
              "      <td>-1.215283e+07</td>\n",
              "      <td>-7848.566525</td>\n",
              "      <td>-8.237583</td>\n",
              "      <td>-3.931995</td>\n",
              "      <td>-0.180801</td>\n",
              "      <td>0.005517</td>\n",
              "      <td>-1.168091e-01</td>\n",
              "      <td>-1.015503e-01</td>\n",
              "      <td>6.141329e-02</td>\n",
              "    </tr>\n",
              "  </tbody>\n",
              "</table>\n",
              "</div>\n",
              "      <button class=\"colab-df-convert\" onclick=\"convertToInteractive('df-74ee87dd-97e2-4ad9-bdd6-c6dc51d66e2e')\"\n",
              "              title=\"Convert this dataframe to an interactive table.\"\n",
              "              style=\"display:none;\">\n",
              "        \n",
              "  <svg xmlns=\"http://www.w3.org/2000/svg\" height=\"24px\"viewBox=\"0 0 24 24\"\n",
              "       width=\"24px\">\n",
              "    <path d=\"M0 0h24v24H0V0z\" fill=\"none\"/>\n",
              "    <path d=\"M18.56 5.44l.94 2.06.94-2.06 2.06-.94-2.06-.94-.94-2.06-.94 2.06-2.06.94zm-11 1L8.5 8.5l.94-2.06 2.06-.94-2.06-.94L8.5 2.5l-.94 2.06-2.06.94zm10 10l.94 2.06.94-2.06 2.06-.94-2.06-.94-.94-2.06-.94 2.06-2.06.94z\"/><path d=\"M17.41 7.96l-1.37-1.37c-.4-.4-.92-.59-1.43-.59-.52 0-1.04.2-1.43.59L10.3 9.45l-7.72 7.72c-.78.78-.78 2.05 0 2.83L4 21.41c.39.39.9.59 1.41.59.51 0 1.02-.2 1.41-.59l7.78-7.78 2.81-2.81c.8-.78.8-2.07 0-2.86zM5.41 20L4 18.59l7.72-7.72 1.47 1.35L5.41 20z\"/>\n",
              "  </svg>\n",
              "      </button>\n",
              "      \n",
              "  <style>\n",
              "    .colab-df-container {\n",
              "      display:flex;\n",
              "      flex-wrap:wrap;\n",
              "      gap: 12px;\n",
              "    }\n",
              "\n",
              "    .colab-df-convert {\n",
              "      background-color: #E8F0FE;\n",
              "      border: none;\n",
              "      border-radius: 50%;\n",
              "      cursor: pointer;\n",
              "      display: none;\n",
              "      fill: #1967D2;\n",
              "      height: 32px;\n",
              "      padding: 0 0 0 0;\n",
              "      width: 32px;\n",
              "    }\n",
              "\n",
              "    .colab-df-convert:hover {\n",
              "      background-color: #E2EBFA;\n",
              "      box-shadow: 0px 1px 2px rgba(60, 64, 67, 0.3), 0px 1px 3px 1px rgba(60, 64, 67, 0.15);\n",
              "      fill: #174EA6;\n",
              "    }\n",
              "\n",
              "    [theme=dark] .colab-df-convert {\n",
              "      background-color: #3B4455;\n",
              "      fill: #D2E3FC;\n",
              "    }\n",
              "\n",
              "    [theme=dark] .colab-df-convert:hover {\n",
              "      background-color: #434B5C;\n",
              "      box-shadow: 0px 1px 3px 1px rgba(0, 0, 0, 0.15);\n",
              "      filter: drop-shadow(0px 1px 2px rgba(0, 0, 0, 0.3));\n",
              "      fill: #FFFFFF;\n",
              "    }\n",
              "  </style>\n",
              "\n",
              "      <script>\n",
              "        const buttonEl =\n",
              "          document.querySelector('#df-74ee87dd-97e2-4ad9-bdd6-c6dc51d66e2e button.colab-df-convert');\n",
              "        buttonEl.style.display =\n",
              "          google.colab.kernel.accessAllowed ? 'block' : 'none';\n",
              "\n",
              "        async function convertToInteractive(key) {\n",
              "          const element = document.querySelector('#df-74ee87dd-97e2-4ad9-bdd6-c6dc51d66e2e');\n",
              "          const dataTable =\n",
              "            await google.colab.kernel.invokeFunction('convertToInteractive',\n",
              "                                                     [key], {});\n",
              "          if (!dataTable) return;\n",
              "\n",
              "          const docLinkHtml = 'Like what you see? Visit the ' +\n",
              "            '<a target=\"_blank\" href=https://colab.research.google.com/notebooks/data_table.ipynb>data table notebook</a>'\n",
              "            + ' to learn more about interactive tables.';\n",
              "          element.innerHTML = '';\n",
              "          dataTable['output_type'] = 'display_data';\n",
              "          await google.colab.output.renderOutput(dataTable, element);\n",
              "          const docLink = document.createElement('div');\n",
              "          docLink.innerHTML = docLinkHtml;\n",
              "          element.appendChild(docLink);\n",
              "        }\n",
              "      </script>\n",
              "    </div>\n",
              "  </div>\n",
              "  "
            ]
          },
          "metadata": {},
          "execution_count": 39
        }
      ]
    },
    {
      "cell_type": "code",
      "source": [
        "x_values, eigen_valores = PCA_manual(df_datos_limpios, 10, covariance_matrix=cov_MCD_encogida)"
      ],
      "metadata": {
        "id": "d-msjoRqJ8fw"
      },
      "execution_count": null,
      "outputs": []
    },
    {
      "cell_type": "code",
      "source": [
        "x_values"
      ],
      "metadata": {
        "colab": {
          "base_uri": "https://localhost:8080/"
        },
        "id": "EZTROVSGKpJ1",
        "outputId": "69af7db3-6adb-4226-ad87-ad2066788df1"
      },
      "execution_count": null,
      "outputs": [
        {
          "output_type": "execute_result",
          "data": {
            "text/plain": [
              "array([[ 7.70367159e+04,  2.48857071e+04, -4.52328146e+02, ...,\n",
              "        -7.90037084e-01, -5.82019043e-01,  4.34144303e-01],\n",
              "       [ 3.21001548e+04, -8.45824050e+03,  3.79129200e+02, ...,\n",
              "         8.55161237e-01,  1.60961861e-01,  1.34964333e-01],\n",
              "       [ 1.05494542e+05, -1.46777259e+04,  7.74160104e+02, ...,\n",
              "        -1.54793758e+00,  3.75489902e-01, -4.97313143e-01],\n",
              "       ...,\n",
              "       [ 1.86484638e+04, -1.20027874e+04, -5.44765883e+02, ...,\n",
              "         4.83855820e-01,  6.30879851e-01,  3.71383513e-01],\n",
              "       [ 8.84724690e+04, -7.17124765e+03, -4.39645450e+01, ...,\n",
              "        -3.48495254e-01, -1.51032978e-01,  3.92905643e-01],\n",
              "       [ 1.00962669e+05,  3.61001307e+03,  7.48800241e+02, ...,\n",
              "        -6.62591894e-01,  1.31677347e+00, -2.64045193e-01]])"
            ]
          },
          "metadata": {},
          "execution_count": 41
        }
      ]
    },
    {
      "cell_type": "markdown",
      "source": [
        "- Se van a seleccionar las 2 primeras componentes para graficar la informacion"
      ],
      "metadata": {
        "id": "BINkUDnTZjeg"
      }
    },
    {
      "cell_type": "code",
      "source": [
        "dos_componentes = x_values[:,:2]"
      ],
      "metadata": {
        "id": "5eGrItY7K_xC"
      },
      "execution_count": null,
      "outputs": []
    },
    {
      "cell_type": "code",
      "source": [
        "import seaborn as sns"
      ],
      "metadata": {
        "id": "9UfsIWebaMSr"
      },
      "execution_count": null,
      "outputs": []
    },
    {
      "cell_type": "code",
      "source": [
        "sns.set(rc={'figure.figsize':(11.7,8.27)})"
      ],
      "metadata": {
        "id": "pQH8sfTecc87"
      },
      "execution_count": null,
      "outputs": []
    },
    {
      "cell_type": "code",
      "source": [
        "sns.scatterplot(x_values[:,0],x_values[:,1])"
      ],
      "metadata": {
        "colab": {
          "base_uri": "https://localhost:8080/",
          "height": 572
        },
        "id": "_IzcPTmyaQAc",
        "outputId": "e5d2102f-c654-4646-f114-3c574aa53bef"
      },
      "execution_count": null,
      "outputs": [
        {
          "output_type": "stream",
          "name": "stderr",
          "text": [
            "/usr/local/lib/python3.7/dist-packages/seaborn/_decorators.py:43: FutureWarning: Pass the following variables as keyword args: x, y. From version 0.12, the only valid positional argument will be `data`, and passing other arguments without an explicit keyword will result in an error or misinterpretation.\n",
            "  FutureWarning\n"
          ]
        },
        {
          "output_type": "execute_result",
          "data": {
            "text/plain": [
              "<matplotlib.axes._subplots.AxesSubplot at 0x7fe15c59f190>"
            ]
          },
          "metadata": {},
          "execution_count": 45
        },
        {
          "output_type": "display_data",
          "data": {
            "text/plain": [
              "<Figure size 842.4x595.44 with 1 Axes>"
            ],
            "image/png": "[encoded data removed]"
          },
          "metadata": {}
        }
      ]
    },
    {
      "cell_type": "code",
      "source": [
        "from sklearn.cluster import AffinityPropagation"
      ],
      "metadata": {
        "id": "2nRQAbfNbfvp"
      },
      "execution_count": null,
      "outputs": []
    },
    {
      "cell_type": "code",
      "source": [
        "df_x_values = pd.DataFrame(x_values)"
      ],
      "metadata": {
        "id": "VVKibCRXdsR_"
      },
      "execution_count": null,
      "outputs": []
    },
    {
      "cell_type": "code",
      "source": [
        "clf = AffinityPropagation(random_state=5,damping=0.6,convergence_iter=5,max_iter=1000,affinity='euclidean',verbose=True)"
      ],
      "metadata": {
        "id": "DxfXRv1meXal"
      },
      "execution_count": null,
      "outputs": []
    },
    {
      "cell_type": "code",
      "source": [
        "clf.fit(df_x_values)"
      ],
      "metadata": {
        "colab": {
          "base_uri": "https://localhost:8080/"
        },
        "id": "zZ0j9oc5fTWu",
        "outputId": "9ba39908-8428-44da-8974-8991b90b8324"
      },
      "execution_count": null,
      "outputs": [
        {
          "output_type": "stream",
          "name": "stdout",
          "text": [
            "Converged after 84 iterations.\n"
          ]
        },
        {
          "output_type": "execute_result",
          "data": {
            "text/plain": [
              "AffinityPropagation(convergence_iter=5, damping=0.6, max_iter=1000,\n",
              "                    random_state=5, verbose=True)"
            ]
          },
          "metadata": {},
          "execution_count": 49
        }
      ]
    },
    {
      "cell_type": "code",
      "source": [
        "df_x_values[\"etiqueta\"] = clf.labels_"
      ],
      "metadata": {
        "id": "iMaHSlfmfms7"
      },
      "execution_count": null,
      "outputs": []
    },
    {
      "cell_type": "code",
      "source": [
        "sns.scatterplot(df_x_values.iloc[:,0],df_x_values.iloc[:,1], hue=df_x_values[\"etiqueta\"])"
      ],
      "metadata": {
        "colab": {
          "base_uri": "https://localhost:8080/",
          "height": 589
        },
        "id": "KWo88N9wgLBe",
        "outputId": "99c752c4-711b-4e0c-fc16-2df82d123840"
      },
      "execution_count": null,
      "outputs": [
        {
          "output_type": "stream",
          "name": "stderr",
          "text": [
            "/usr/local/lib/python3.7/dist-packages/seaborn/_decorators.py:43: FutureWarning: Pass the following variables as keyword args: x, y. From version 0.12, the only valid positional argument will be `data`, and passing other arguments without an explicit keyword will result in an error or misinterpretation.\n",
            "  FutureWarning\n"
          ]
        },
        {
          "output_type": "execute_result",
          "data": {
            "text/plain": [
              "<matplotlib.axes._subplots.AxesSubplot at 0x7fe15b288cd0>"
            ]
          },
          "metadata": {},
          "execution_count": 51
        },
        {
          "output_type": "display_data",
          "data": {
            "text/plain": [
              "<Figure size 842.4x595.44 with 1 Axes>"
            ],
            "image/png": "[encoded data removed]"
          },
          "metadata": {}
        }
      ]
    },
    {
      "cell_type": "code",
      "source": [
        "df_x_values_no_etiqueta = df_x_values.drop(axis=1,columns=[\"etiqueta\"])"
      ],
      "metadata": {
        "id": "nEzjvZh-jbhR"
      },
      "execution_count": null,
      "outputs": []
    },
    {
      "cell_type": "code",
      "source": [
        "clf = AffinityPropagation(random_state=5,damping=0.9,convergence_iter=5,max_iter=1000,affinity='euclidean',verbose=True)"
      ],
      "metadata": {
        "id": "1mvTETubgbQR"
      },
      "execution_count": null,
      "outputs": []
    },
    {
      "cell_type": "code",
      "source": [
        "clf.fit(df_x_values_no_etiqueta)"
      ],
      "metadata": {
        "colab": {
          "base_uri": "https://localhost:8080/"
        },
        "id": "Bup7D6ImhwnP",
        "outputId": "cb2bffbc-9c60-453a-de42-5de0524bb242"
      },
      "execution_count": null,
      "outputs": [
        {
          "output_type": "stream",
          "name": "stdout",
          "text": [
            "Converged after 5 iterations.\n"
          ]
        },
        {
          "output_type": "execute_result",
          "data": {
            "text/plain": [
              "AffinityPropagation(convergence_iter=5, damping=0.9, max_iter=1000,\n",
              "                    random_state=5, verbose=True)"
            ]
          },
          "metadata": {},
          "execution_count": 54
        }
      ]
    },
    {
      "cell_type": "code",
      "source": [
        "df_x_values[\"etiqueta\"] = clf.labels_"
      ],
      "metadata": {
        "id": "uociZw6thzsE"
      },
      "execution_count": null,
      "outputs": []
    },
    {
      "cell_type": "code",
      "source": [
        "sns.scatterplot(df_x_values.iloc[:,0],df_x_values.iloc[:,1], hue=df_x_values[\"etiqueta\"])"
      ],
      "metadata": {
        "colab": {
          "base_uri": "https://localhost:8080/",
          "height": 589
        },
        "id": "IdAYFNuxh_Ly",
        "outputId": "00347b73-624e-4e80-efa1-8c86cd13746c"
      },
      "execution_count": null,
      "outputs": [
        {
          "output_type": "stream",
          "name": "stderr",
          "text": [
            "/usr/local/lib/python3.7/dist-packages/seaborn/_decorators.py:43: FutureWarning: Pass the following variables as keyword args: x, y. From version 0.12, the only valid positional argument will be `data`, and passing other arguments without an explicit keyword will result in an error or misinterpretation.\n",
            "  FutureWarning\n"
          ]
        },
        {
          "output_type": "execute_result",
          "data": {
            "text/plain": [
              "<matplotlib.axes._subplots.AxesSubplot at 0x7fe15b288d10>"
            ]
          },
          "metadata": {},
          "execution_count": 56
        },
        {
          "output_type": "display_data",
          "data": {
            "text/plain": [
              "<Figure size 842.4x595.44 with 1 Axes>"
            ],
            "image/png": "[encoded data removed]"
          },
          "metadata": {}
        }
      ]
    },
    {
      "cell_type": "code",
      "source": [
        "from sklearn.cluster import AgglomerativeClustering"
      ],
      "metadata": {
        "id": "DQUdEqysiCai"
      },
      "execution_count": null,
      "outputs": []
    },
    {
      "cell_type": "code",
      "source": [
        "clf = AgglomerativeClustering(n_clusters=5,affinity='euclidean',compute_full_tree='auto',linkage='ward').fit(df_x_values_no_etiqueta)"
      ],
      "metadata": {
        "id": "8C-RAAUdip0n"
      },
      "execution_count": null,
      "outputs": []
    },
    {
      "cell_type": "code",
      "source": [
        "df_x_values[\"etiqueta\"] = clf.labels_"
      ],
      "metadata": {
        "id": "5xfgI-lakae-"
      },
      "execution_count": null,
      "outputs": []
    },
    {
      "cell_type": "code",
      "source": [
        "sns.scatterplot(df_x_values.iloc[:,0],df_x_values.iloc[:,1], hue=df_x_values[\"etiqueta\"])"
      ],
      "metadata": {
        "colab": {
          "base_uri": "https://localhost:8080/",
          "height": 589
        },
        "id": "ux9RJL8JkfB8",
        "outputId": "0365e8e2-6b65-4613-9846-06e4891f6ab2"
      },
      "execution_count": null,
      "outputs": [
        {
          "output_type": "stream",
          "name": "stderr",
          "text": [
            "/usr/local/lib/python3.7/dist-packages/seaborn/_decorators.py:43: FutureWarning: Pass the following variables as keyword args: x, y. From version 0.12, the only valid positional argument will be `data`, and passing other arguments without an explicit keyword will result in an error or misinterpretation.\n",
            "  FutureWarning\n"
          ]
        },
        {
          "output_type": "execute_result",
          "data": {
            "text/plain": [
              "<matplotlib.axes._subplots.AxesSubplot at 0x7fe159950d50>"
            ]
          },
          "metadata": {},
          "execution_count": 60
        },
        {
          "output_type": "display_data",
          "data": {
            "text/plain": [
              "<Figure size 842.4x595.44 with 1 Axes>"
            ],
            "image/png": "[encoded data removed]"
          },
          "metadata": {}
        }
      ]
    },
    {
      "cell_type": "code",
      "source": [
        "from sklearn.cluster import KMeans"
      ],
      "metadata": {
        "id": "q1zLDz_okh0V"
      },
      "execution_count": null,
      "outputs": []
    },
    {
      "cell_type": "code",
      "source": [
        "clf = KMeans(n_clusters=5,init='k-means++',n_init=50,max_iter=500,verbose=1,random_state=5,algorithm='elkan').fit(df_x_values_no_etiqueta)"
      ],
      "metadata": {
        "id": "OyIHbVBIltuE",
        "colab": {
          "base_uri": "https://localhost:8080/"
        },
        "outputId": "bedafbce-66f1-445b-cd64-65d999dfb532"
      },
      "execution_count": null,
      "outputs": [
        {
          "output_type": "stream",
          "name": "stdout",
          "text": [
            "Initialization complete\n",
            "Iteration 0, inertia 4261815078443.0293\n",
            "Iteration 1, inertia 3262895020133.606\n",
            "Iteration 2, inertia 3211920905385.0376\n",
            "Iteration 3, inertia 3183046701044.8877\n",
            "Iteration 4, inertia 3166764736342.5215\n",
            "Iteration 5, inertia 3159197072331.949\n",
            "Iteration 6, inertia 3156571278880.6978\n",
            "Iteration 7, inertia 3155070257813.923\n",
            "Iteration 8, inertia 3153274311861.948\n",
            "Iteration 9, inertia 3144242805145.714\n",
            "Iteration 10, inertia 3126465611556.5024\n",
            "Iteration 11, inertia 3099306512653.203\n",
            "Iteration 12, inertia 3062607667160.4443\n",
            "Iteration 13, inertia 2997054024458.384\n",
            "Iteration 14, inertia 2918837208605.548\n",
            "Iteration 15, inertia 2861136779499.1504\n",
            "Iteration 16, inertia 2836273173308.9297\n",
            "Iteration 17, inertia 2821780327081.8867\n",
            "Iteration 18, inertia 2815215908567.417\n",
            "Iteration 19, inertia 2805603482202.578\n",
            "Iteration 20, inertia 2798511447682.413\n",
            "Iteration 21, inertia 2790349137469.945\n",
            "Iteration 22, inertia 2783658176724.664\n",
            "Iteration 23, inertia 2779229152496.9644\n",
            "Iteration 24, inertia 2775126612793.1006\n",
            "Iteration 25, inertia 2772042887380.753\n",
            "Iteration 26, inertia 2771005422026.677\n",
            "Iteration 27, inertia 2770806075840.785\n",
            "Iteration 28, inertia 2770567116801.006\n",
            "Converged at iteration 28: center shift 28208.268795031225 within tolerance 109112.56923525628.\n",
            "Initialization complete\n",
            "Iteration 0, inertia 3023664210908.1895\n",
            "Iteration 1, inertia 2847037753491.01\n",
            "Iteration 2, inertia 2825903112219.6484\n",
            "Iteration 3, inertia 2820893667910.0703\n",
            "Iteration 4, inertia 2817539316322.2886\n",
            "Iteration 5, inertia 2814162616975.5947\n",
            "Iteration 6, inertia 2808699974374.237\n",
            "Iteration 7, inertia 2801236680410.741\n",
            "Iteration 8, inertia 2795103716170.064\n",
            "Iteration 9, inertia 2791093544162.0283\n",
            "Iteration 10, inertia 2786805908649.164\n",
            "Iteration 11, inertia 2781690820342.6113\n",
            "Iteration 12, inertia 2775179629972.205\n",
            "Iteration 13, inertia 2770775169461.1533\n",
            "Iteration 14, inertia 2769594863670.654\n",
            "Iteration 15, inertia 2769271454261.4844\n",
            "Iteration 16, inertia 2769167780438.828\n",
            "Converged at iteration 16: center shift 37657.51221526619 within tolerance 109112.56923525628.\n",
            "Initialization complete\n",
            "Iteration 0, inertia 3094753567625.7134\n",
            "Iteration 1, inertia 2810817851510.23\n",
            "Iteration 2, inertia 2790436551013.416\n",
            "Iteration 3, inertia 2779663982696.1777\n",
            "Iteration 4, inertia 2775164435220.4053\n",
            "Iteration 5, inertia 2771781401015.1064\n",
            "Iteration 6, inertia 2771005422026.677\n",
            "Iteration 7, inertia 2770806075840.785\n",
            "Iteration 8, inertia 2770567116801.006\n",
            "Converged at iteration 8: center shift 28208.268795031225 within tolerance 109112.56923525628.\n",
            "Initialization complete\n",
            "Iteration 0, inertia 3414916096330.674\n",
            "Iteration 1, inertia 3055735714956.792\n",
            "Iteration 2, inertia 2975164950021.543\n",
            "Iteration 3, inertia 2894646180094.996\n",
            "Iteration 4, inertia 2852067178447.928\n",
            "Iteration 5, inertia 2829102709645.114\n",
            "Iteration 6, inertia 2822801378693.6665\n",
            "Iteration 7, inertia 2818509186271.951\n",
            "Iteration 8, inertia 2814763469661.1943\n",
            "Iteration 9, inertia 2810117930384.4746\n",
            "Iteration 10, inertia 2801363128606.1465\n",
            "Iteration 11, inertia 2794738303935.835\n",
            "Iteration 12, inertia 2790838383440.373\n",
            "Iteration 13, inertia 2786597150375.372\n",
            "Iteration 14, inertia 2781220262567.5073\n",
            "Iteration 15, inertia 2774411578707.135\n",
            "Iteration 16, inertia 2770548834214.7705\n",
            "Iteration 17, inertia 2769503918276.1943\n",
            "Iteration 18, inertia 2769271454261.4844\n",
            "Iteration 19, inertia 2769167780438.828\n",
            "Converged at iteration 19: center shift 37657.51221526619 within tolerance 109112.56923525628.\n",
            "Initialization complete\n",
            "Iteration 0, inertia 4601063032950.074\n",
            "Iteration 1, inertia 3386516061312.945\n",
            "Iteration 2, inertia 3286443214698.6924\n",
            "Iteration 3, inertia 3237546650081.299\n",
            "Iteration 4, inertia 3198648682939.8345\n",
            "Iteration 5, inertia 3179202539985.958\n",
            "Iteration 6, inertia 3166647223416.3438\n",
            "Iteration 7, inertia 3160335458594.756\n",
            "Iteration 8, inertia 3151841402314.788\n",
            "Iteration 9, inertia 3130466316659.3975\n",
            "Iteration 10, inertia 3087930750179.7256\n",
            "Iteration 11, inertia 3035787504428.4404\n",
            "Iteration 12, inertia 2966783435603.8447\n",
            "Iteration 13, inertia 2891262570325.8667\n",
            "Iteration 14, inertia 2851805581153.1904\n",
            "Iteration 15, inertia 2829398673271.859\n",
            "Iteration 16, inertia 2819930724205.6396\n",
            "Iteration 17, inertia 2813401963073.545\n",
            "Iteration 18, inertia 2803662522502.14\n",
            "Iteration 19, inertia 2796265501411.1875\n",
            "Iteration 20, inertia 2787593263640.0156\n",
            "Iteration 21, inertia 2781913047597.6836\n",
            "Iteration 22, inertia 2778180268955.8867\n",
            "Iteration 23, inertia 2774084906321.794\n",
            "Iteration 24, inertia 2771542276293.332\n",
            "Iteration 25, inertia 2771005422026.677\n",
            "Iteration 26, inertia 2770806075840.785\n",
            "Iteration 27, inertia 2770567116801.006\n",
            "Converged at iteration 27: center shift 28208.268795031225 within tolerance 109112.56923525628.\n",
            "Initialization complete\n",
            "Iteration 0, inertia 3949757287568.7275\n",
            "Iteration 1, inertia 3214403410805.285\n",
            "Iteration 2, inertia 3122687122752.466\n",
            "Iteration 3, inertia 3028746654375.634\n",
            "Iteration 4, inertia 2931778541170.006\n",
            "Iteration 5, inertia 2858361676162.102\n",
            "Iteration 6, inertia 2822717184260.4604\n",
            "Iteration 7, inertia 2811327531688.145\n",
            "Iteration 8, inertia 2800464156316.7417\n",
            "Iteration 9, inertia 2792021851327.2705\n",
            "Iteration 10, inertia 2784751080390.8447\n",
            "Iteration 11, inertia 2780457821403.959\n",
            "Iteration 12, inertia 2776617340034.1475\n",
            "Iteration 13, inertia 2772949937011.3174\n",
            "Iteration 14, inertia 2771793475344.0586\n",
            "Iteration 15, inertia 2771437899289.536\n",
            "Iteration 16, inertia 2771097701538.626\n",
            "Iteration 17, inertia 2770994587919.462\n",
            "Iteration 18, inertia 2770720699562.798\n",
            "Iteration 19, inertia 2770643389868.4883\n",
            "Iteration 20, inertia 2770600505829.95\n",
            "Converged at iteration 20: center shift 20421.615183247977 within tolerance 109112.56923525628.\n",
            "Initialization complete\n",
            "Iteration 0, inertia 4004801195185.9277\n",
            "Iteration 1, inertia 2958447128324.3374\n",
            "Iteration 2, inertia 2831474442087.8936\n",
            "Iteration 3, inertia 2799645405147.464\n",
            "Iteration 4, inertia 2783294067134.1533\n",
            "Iteration 5, inertia 2777362515948.316\n",
            "Iteration 6, inertia 2774567557959.8076\n",
            "Iteration 7, inertia 2773618598315.0645\n",
            "Iteration 8, inertia 2773202159516.496\n",
            "Iteration 9, inertia 2771059502080.3574\n",
            "Iteration 10, inertia 2769409765235.3667\n",
            "Iteration 11, inertia 2768728210781.672\n",
            "Converged at iteration 11: strict convergence.\n",
            "Initialization complete\n",
            "Iteration 0, inertia 4115760068793.992\n",
            "Iteration 1, inertia 3243000847773.0557\n",
            "Iteration 2, inertia 3123167702837.4087\n",
            "Iteration 3, inertia 3082026994884.562\n",
            "Iteration 4, inertia 3034803415253.0293\n",
            "Iteration 5, inertia 2989015648708.034\n",
            "Iteration 6, inertia 2936756695604.171\n",
            "Iteration 7, inertia 2893034640462.3154\n",
            "Iteration 8, inertia 2865587728523.133\n",
            "Iteration 9, inertia 2843852587582.376\n",
            "Iteration 10, inertia 2835680126974.7197\n",
            "Iteration 11, inertia 2832092650304.0786\n",
            "Iteration 12, inertia 2830683014686.3936\n",
            "Iteration 13, inertia 2827327142196.9487\n",
            "Iteration 14, inertia 2824124372403.783\n",
            "Iteration 15, inertia 2821657247599.797\n",
            "Iteration 16, inertia 2817396344616.7217\n",
            "Iteration 17, inertia 2812225224768.163\n",
            "Iteration 18, inertia 2805562902454.7695\n",
            "Iteration 19, inertia 2801880726694.456\n",
            "Iteration 20, inertia 2796512072758.511\n",
            "Iteration 21, inertia 2791533927916.869\n",
            "Iteration 22, inertia 2786862230174.2783\n",
            "Iteration 23, inertia 2781741529465.005\n",
            "Iteration 24, inertia 2775262516723.704\n",
            "Iteration 25, inertia 2770844084921.164\n",
            "Iteration 26, inertia 2769673660415.8633\n",
            "Iteration 27, inertia 2769271454261.4844\n",
            "Iteration 28, inertia 2769167780438.828\n",
            "Converged at iteration 28: center shift 37657.51221526619 within tolerance 109112.56923525628.\n",
            "Initialization complete\n",
            "Iteration 0, inertia 3669527923788.638\n",
            "Iteration 1, inertia 3251206092166.547\n",
            "Iteration 2, inertia 3217504120599.3516\n",
            "Iteration 3, inertia 3197079950313.2207\n",
            "Iteration 4, inertia 3166871785453.325\n",
            "Iteration 5, inertia 3131562869984.2944\n",
            "Iteration 6, inertia 3077471490792.381\n",
            "Iteration 7, inertia 2984849703514.051\n",
            "Iteration 8, inertia 2869539338692.53\n",
            "Iteration 9, inertia 2814815705728.0483\n",
            "Iteration 10, inertia 2790650845827.108\n",
            "Iteration 11, inertia 2780118132627.376\n",
            "Iteration 12, inertia 2772350216508.662\n",
            "Iteration 13, inertia 2770183321436.363\n",
            "Iteration 14, inertia 2769668626573.128\n",
            "Iteration 15, inertia 2768988787215.129\n",
            "Iteration 16, inertia 2768807429662.269\n",
            "Converged at iteration 16: center shift 19447.570379016455 within tolerance 109112.56923525628.\n",
            "Initialization complete\n",
            "Iteration 0, inertia 3419179286778.6523\n",
            "Iteration 1, inertia 3135862602835.9277\n",
            "Iteration 2, inertia 3027965930730.199\n",
            "Iteration 3, inertia 2965326395195.006\n",
            "Iteration 4, inertia 2922870001916.144\n",
            "Iteration 5, inertia 2892848254098.037\n",
            "Iteration 6, inertia 2866000400436.5864\n",
            "Iteration 7, inertia 2854205748337.3223\n",
            "Iteration 8, inertia 2835862449386.8135\n",
            "Iteration 9, inertia 2823540847141.781\n",
            "Iteration 10, inertia 2817547677191.1987\n",
            "Iteration 11, inertia 2809430304851.5854\n",
            "Iteration 12, inertia 2801165786693.834\n",
            "Iteration 13, inertia 2792513877994.256\n",
            "Iteration 14, inertia 2784437125514.4717\n",
            "Iteration 15, inertia 2779718981161.0117\n",
            "Iteration 16, inertia 2775569817743.951\n",
            "Iteration 17, inertia 2772143064828.144\n",
            "Iteration 18, inertia 2771005422026.677\n",
            "Iteration 19, inertia 2770806075840.785\n",
            "Iteration 20, inertia 2770567116801.006\n",
            "Converged at iteration 20: center shift 28208.268795031225 within tolerance 109112.56923525628.\n",
            "Initialization complete\n",
            "Iteration 0, inertia 4143514652910.1807\n",
            "Iteration 1, inertia 2900648863695.024\n",
            "Iteration 2, inertia 2828477926663.6484\n",
            "Iteration 3, inertia 2811879693130.7075\n",
            "Iteration 4, inertia 2799261284395.202\n",
            "Iteration 5, inertia 2790015205643.7773\n",
            "Iteration 6, inertia 2783277745974.9766\n",
            "Iteration 7, inertia 2779265462852.274\n",
            "Iteration 8, inertia 2775157632384.076\n",
            "Iteration 9, inertia 2772415909003.3213\n",
            "Iteration 10, inertia 2771716648830.173\n",
            "Iteration 11, inertia 2771437899289.536\n",
            "Iteration 12, inertia 2771097701538.626\n",
            "Iteration 13, inertia 2770994587919.462\n",
            "Iteration 14, inertia 2770720699562.798\n",
            "Iteration 15, inertia 2770643389868.4883\n",
            "Iteration 16, inertia 2770600505829.95\n",
            "Converged at iteration 16: center shift 20421.615183247977 within tolerance 109112.56923525628.\n",
            "Initialization complete\n",
            "Iteration 0, inertia 5733933039080.869\n",
            "Iteration 1, inertia 3636699674269.506\n",
            "Iteration 2, inertia 3403298217563.718\n",
            "Iteration 3, inertia 3335997163664.343\n",
            "Iteration 4, inertia 3322673108580.5957\n",
            "Iteration 5, inertia 3274807158314.543\n",
            "Iteration 6, inertia 3056349105719.7856\n",
            "Iteration 7, inertia 2863351886647.6064\n",
            "Iteration 8, inertia 2820080354661.9204\n",
            "Iteration 9, inertia 2808917407483.0044\n",
            "Iteration 10, inertia 2801133022247.873\n",
            "Iteration 11, inertia 2793023787173.3135\n",
            "Iteration 12, inertia 2785145515948.7065\n",
            "Iteration 13, inertia 2779604151074.338\n",
            "Iteration 14, inertia 2775415348517.299\n",
            "Iteration 15, inertia 2772143064828.144\n",
            "Iteration 16, inertia 2771005422026.677\n",
            "Iteration 17, inertia 2770806075840.785\n",
            "Iteration 18, inertia 2770567116801.006\n",
            "Converged at iteration 18: center shift 28208.268795031225 within tolerance 109112.56923525628.\n",
            "Initialization complete\n",
            "Iteration 0, inertia 3370312771693.298\n",
            "Iteration 1, inertia 2992129978986.4307\n",
            "Iteration 2, inertia 2891055779321.9233\n",
            "Iteration 3, inertia 2837365432726.4023\n",
            "Iteration 4, inertia 2825652684788.9033\n",
            "Iteration 5, inertia 2821665006495.498\n",
            "Iteration 6, inertia 2817733430393.79\n",
            "Iteration 7, inertia 2813631422412.6846\n",
            "Iteration 8, inertia 2806694392228.9785\n",
            "Iteration 9, inertia 2802017936496.7793\n",
            "Iteration 10, inertia 2796552342742.0864\n",
            "Iteration 11, inertia 2791389868634.389\n",
            "Iteration 12, inertia 2786862230174.2783\n",
            "Iteration 13, inertia 2781741529465.005\n",
            "Iteration 14, inertia 2775262516723.704\n",
            "Iteration 15, inertia 2770844084921.164\n",
            "Iteration 16, inertia 2769673660415.8633\n",
            "Iteration 17, inertia 2769271454261.4844\n",
            "Iteration 18, inertia 2769167780438.828\n",
            "Converged at iteration 18: center shift 37657.51221526619 within tolerance 109112.56923525628.\n",
            "Initialization complete\n",
            "Iteration 0, inertia 3688868564314.3154\n",
            "Iteration 1, inertia 2906475803022.321\n",
            "Iteration 2, inertia 2864439352623.6094\n",
            "Iteration 3, inertia 2842950203082.6157\n",
            "Iteration 4, inertia 2824082848192.1914\n",
            "Iteration 5, inertia 2816730283709.5693\n",
            "Iteration 6, inertia 2808747899099.628\n",
            "Iteration 7, inertia 2800325665669.616\n",
            "Iteration 8, inertia 2791157902492.0996\n",
            "Iteration 9, inertia 2783658176724.664\n",
            "Iteration 10, inertia 2779229152496.9644\n",
            "Iteration 11, inertia 2775126612793.1006\n",
            "Iteration 12, inertia 2772042887380.753\n",
            "Iteration 13, inertia 2771005422026.677\n",
            "Iteration 14, inertia 2770806075840.785\n",
            "Iteration 15, inertia 2770567116801.006\n",
            "Converged at iteration 15: center shift 28208.268795031225 within tolerance 109112.56923525628.\n",
            "Initialization complete\n",
            "Iteration 0, inertia 3335741118839.5864\n",
            "Iteration 1, inertia 3123315596003.093\n",
            "Iteration 2, inertia 3053360297318.2085\n",
            "Iteration 3, inertia 2980582628875.105\n",
            "Iteration 4, inertia 2907881641919.4873\n",
            "Iteration 5, inertia 2857105905507.3955\n",
            "Iteration 6, inertia 2830255589609.105\n",
            "Iteration 7, inertia 2823349373197.252\n",
            "Iteration 8, inertia 2818804699799.485\n",
            "Iteration 9, inertia 2815605568309.427\n",
            "Iteration 10, inertia 2811246047809.3945\n",
            "Iteration 11, inertia 2802589276362.88\n",
            "Iteration 12, inertia 2795680907499.6123\n",
            "Iteration 13, inertia 2791664473599.219\n",
            "Iteration 14, inertia 2786783105061.6987\n",
            "Iteration 15, inertia 2781638898650.092\n",
            "Iteration 16, inertia 2774824918036.9893\n",
            "Iteration 17, inertia 2770656814086.1763\n",
            "Iteration 18, inertia 2769503918276.1943\n",
            "Iteration 19, inertia 2769271454261.4844\n",
            "Iteration 20, inertia 2769167780438.828\n",
            "Converged at iteration 20: center shift 37657.51221526619 within tolerance 109112.56923525628.\n",
            "Initialization complete\n",
            "Iteration 0, inertia 3850974991095.0605\n",
            "Iteration 1, inertia 2937017245596.909\n",
            "Iteration 2, inertia 2878075074765.12\n",
            "Iteration 3, inertia 2850652662593.5547\n",
            "Iteration 4, inertia 2832231406849.203\n",
            "Iteration 5, inertia 2821847318203.7495\n",
            "Iteration 6, inertia 2811941143545.3145\n",
            "Iteration 7, inertia 2805956746415.961\n",
            "Iteration 8, inertia 2800868149011.0527\n",
            "Iteration 9, inertia 2794719019132.7188\n",
            "Iteration 10, inertia 2787924513585.9297\n",
            "Iteration 11, inertia 2779965609015.3525\n",
            "Iteration 12, inertia 2775869841882.332\n",
            "Iteration 13, inertia 2773601259811.163\n",
            "Iteration 14, inertia 2771258875879.7974\n",
            "Iteration 15, inertia 2769972028703.966\n",
            "Iteration 16, inertia 2769389255319.6445\n",
            "Iteration 17, inertia 2769191884315.588\n",
            "Converged at iteration 17: center shift 79491.51776495492 within tolerance 109112.56923525628.\n",
            "Initialization complete\n",
            "Iteration 0, inertia 3789398717553.0713\n",
            "Iteration 1, inertia 3100515699759.702\n",
            "Iteration 2, inertia 2993266815202.3335\n",
            "Iteration 3, inertia 2927749286572.9194\n",
            "Iteration 4, inertia 2887868066116.0073\n",
            "Iteration 5, inertia 2867537131159.55\n",
            "Iteration 6, inertia 2851097260823.426\n",
            "Iteration 7, inertia 2842592088678.658\n",
            "Iteration 8, inertia 2837145228835.6143\n",
            "Iteration 9, inertia 2833695579576.0205\n",
            "Iteration 10, inertia 2831962949153.731\n",
            "Iteration 11, inertia 2829827025257.8306\n",
            "Iteration 12, inertia 2825469553894.886\n",
            "Iteration 13, inertia 2823040337210.1016\n",
            "Iteration 14, inertia 2819911342855.165\n",
            "Iteration 15, inertia 2814289827279.9404\n",
            "Iteration 16, inertia 2807022813229.0864\n",
            "Iteration 17, inertia 2802874722789.228\n",
            "Iteration 18, inertia 2798668886656.8794\n",
            "Iteration 19, inertia 2792682866025.296\n",
            "Iteration 20, inertia 2787194649084.289\n",
            "Iteration 21, inertia 2782189733185.5815\n",
            "Iteration 22, inertia 2775262516723.704\n",
            "Iteration 23, inertia 2770844084921.164\n",
            "Iteration 24, inertia 2769673660415.8633\n",
            "Iteration 25, inertia 2769271454261.4844\n",
            "Iteration 26, inertia 2769167780438.828\n",
            "Converged at iteration 26: center shift 37657.51221526619 within tolerance 109112.56923525628.\n",
            "Initialization complete\n",
            "Iteration 0, inertia 3854514163099.3906\n",
            "Iteration 1, inertia 3176470846708.0977\n",
            "Iteration 2, inertia 2926024466294.131\n",
            "Iteration 3, inertia 2815106012195.52\n",
            "Iteration 4, inertia 2785240443779.2876\n",
            "Iteration 5, inertia 2773508007309.953\n",
            "Iteration 6, inertia 2770883843427.384\n",
            "Iteration 7, inertia 2770587710764.9385\n",
            "Iteration 8, inertia 2770550201805.0107\n",
            "Converged at iteration 8: strict convergence.\n",
            "Initialization complete\n",
            "Iteration 0, inertia 4868488861551.787\n",
            "Iteration 1, inertia 2932726399927.492\n",
            "Iteration 2, inertia 2830110667381.437\n",
            "Iteration 3, inertia 2802418103361.626\n",
            "Iteration 4, inertia 2786864888331.077\n",
            "Iteration 5, inertia 2777062848537.1396\n",
            "Iteration 6, inertia 2772131976958.662\n",
            "Iteration 7, inertia 2769227493407.338\n",
            "Iteration 8, inertia 2768633518073.2773\n",
            "Iteration 9, inertia 2768230183261.962\n",
            "Iteration 10, inertia 2768145420243.4717\n",
            "Converged at iteration 10: center shift 31296.966283963255 within tolerance 109112.56923525628.\n",
            "Initialization complete\n",
            "Iteration 0, inertia 3770732712262.2827\n",
            "Iteration 1, inertia 3255865748804.572\n",
            "Iteration 2, inertia 3223150041322.702\n",
            "Iteration 3, inertia 3208593058246.0996\n",
            "Iteration 4, inertia 3174763588442.92\n",
            "Iteration 5, inertia 3150863100403.7783\n",
            "Iteration 6, inertia 3144058435634.8213\n",
            "Iteration 7, inertia 3129639792094.89\n",
            "Iteration 8, inertia 3098070216560.1396\n",
            "Iteration 9, inertia 3008721018917.3496\n",
            "Iteration 10, inertia 2904297127327.499\n",
            "Iteration 11, inertia 2846774717815.3413\n",
            "Iteration 12, inertia 2809276185029.343\n",
            "Iteration 13, inertia 2795403398668.555\n",
            "Iteration 14, inertia 2786070539108.2324\n",
            "Iteration 15, inertia 2780942123170.3047\n",
            "Iteration 16, inertia 2777106726282.8926\n",
            "Iteration 17, inertia 2773319086496.3105\n",
            "Iteration 18, inertia 2771857853040.128\n",
            "Iteration 19, inertia 2771679141437.7373\n",
            "Iteration 20, inertia 2771437899289.536\n",
            "Iteration 21, inertia 2771097701538.626\n",
            "Iteration 22, inertia 2770994587919.462\n",
            "Iteration 23, inertia 2770720699562.798\n",
            "Iteration 24, inertia 2770643389868.4883\n",
            "Iteration 25, inertia 2770600505829.95\n",
            "Converged at iteration 25: center shift 20421.615183247977 within tolerance 109112.56923525628.\n",
            "Initialization complete\n",
            "Iteration 0, inertia 3401020780845.5654\n",
            "Iteration 1, inertia 2849578690012.3916\n",
            "Iteration 2, inertia 2826934629109.385\n",
            "Iteration 3, inertia 2819872109440.6875\n",
            "Iteration 4, inertia 2815388834321.323\n",
            "Iteration 5, inertia 2811161061129.1855\n",
            "Iteration 6, inertia 2804354503556.3867\n",
            "Iteration 7, inertia 2798749247631.6895\n",
            "Iteration 8, inertia 2793653987186.6396\n",
            "Iteration 9, inertia 2784002614188.1606\n",
            "Iteration 10, inertia 2777571884358.421\n",
            "Iteration 11, inertia 2774605650554.6177\n",
            "Iteration 12, inertia 2772049140224.5815\n",
            "Iteration 13, inertia 2770247469217.275\n",
            "Iteration 14, inertia 2769480262721.46\n",
            "Iteration 15, inertia 2769271454261.4844\n",
            "Iteration 16, inertia 2769167780438.828\n",
            "Converged at iteration 16: center shift 37657.51221526619 within tolerance 109112.56923525628.\n",
            "Initialization complete\n",
            "Iteration 0, inertia 3367043053658.821\n",
            "Iteration 1, inertia 2825847164036.3486\n",
            "Iteration 2, inertia 2802922207997.498\n",
            "Iteration 3, inertia 2792080922897.585\n",
            "Iteration 4, inertia 2784095772695.0884\n",
            "Iteration 5, inertia 2779393185661.403\n",
            "Iteration 6, inertia 2775415348517.299\n",
            "Iteration 7, inertia 2772143064828.144\n",
            "Iteration 8, inertia 2771005422026.677\n",
            "Iteration 9, inertia 2770806075840.785\n",
            "Iteration 10, inertia 2770567116801.006\n",
            "Converged at iteration 10: center shift 28208.268795031225 within tolerance 109112.56923525628.\n",
            "Initialization complete\n",
            "Iteration 0, inertia 4612743397653.548\n",
            "Iteration 1, inertia 3463006723228.5737\n",
            "Iteration 2, inertia 3307259733320.784\n",
            "Iteration 3, inertia 3069960248324.492\n",
            "Iteration 4, inertia 2915884367943.9697\n",
            "Iteration 5, inertia 2867663512705.6943\n",
            "Iteration 6, inertia 2846170537518.16\n",
            "Iteration 7, inertia 2827177246630.958\n",
            "Iteration 8, inertia 2819747408807.989\n",
            "Iteration 9, inertia 2812646632583.735\n",
            "Iteration 10, inertia 2804224462377.0234\n",
            "Iteration 11, inertia 2797702179285.62\n",
            "Iteration 12, inertia 2789299397176.0376\n",
            "Iteration 13, inertia 2782929339508.817\n",
            "Iteration 14, inertia 2778548520864.7524\n",
            "Iteration 15, inertia 2774990377058.4\n",
            "Iteration 16, inertia 2772042887380.753\n",
            "Iteration 17, inertia 2771005422026.677\n",
            "Iteration 18, inertia 2770806075840.785\n",
            "Iteration 19, inertia 2770567116801.006\n",
            "Converged at iteration 19: center shift 28208.268795031225 within tolerance 109112.56923525628.\n",
            "Initialization complete\n",
            "Iteration 0, inertia 3914034482677.079\n",
            "Iteration 1, inertia 2821349242923.5166\n",
            "Iteration 2, inertia 2788188860812.922\n",
            "Iteration 3, inertia 2777241512891.6816\n",
            "Iteration 4, inertia 2772422517196.8633\n",
            "Iteration 5, inertia 2769362267052.6807\n",
            "Iteration 6, inertia 2768455179661.4536\n",
            "Iteration 7, inertia 2768247385366.1133\n",
            "Converged at iteration 7: center shift 63565.28293013583 within tolerance 109112.56923525628.\n",
            "Initialization complete\n",
            "Iteration 0, inertia 4052950314558.4185\n",
            "Iteration 1, inertia 3290512923361.708\n",
            "Iteration 2, inertia 3073093410873.2314\n",
            "Iteration 3, inertia 2990329968809.5566\n",
            "Iteration 4, inertia 2946985024916.7983\n",
            "Iteration 5, inertia 2908019005490.38\n",
            "Iteration 6, inertia 2875505276557.825\n",
            "Iteration 7, inertia 2859168624333.3433\n",
            "Iteration 8, inertia 2845832376413.247\n",
            "Iteration 9, inertia 2838095858332.416\n",
            "Iteration 10, inertia 2834664933195.0957\n",
            "Iteration 11, inertia 2832753529870.122\n",
            "Iteration 12, inertia 2831226507236.799\n",
            "Iteration 13, inertia 2828103495210.3896\n",
            "Iteration 14, inertia 2824478497494.5986\n",
            "Iteration 15, inertia 2822127340962.5264\n",
            "Iteration 16, inertia 2817697245686.3887\n",
            "Iteration 17, inertia 2812225224768.163\n",
            "Iteration 18, inertia 2805562902454.7695\n",
            "Iteration 19, inertia 2801880726694.456\n",
            "Iteration 20, inertia 2796512072758.511\n",
            "Iteration 21, inertia 2791533927916.869\n",
            "Iteration 22, inertia 2786862230174.2783\n",
            "Iteration 23, inertia 2781741529465.005\n",
            "Iteration 24, inertia 2775262516723.704\n",
            "Iteration 25, inertia 2770844084921.164\n",
            "Iteration 26, inertia 2769673660415.8633\n",
            "Iteration 27, inertia 2769271454261.4844\n",
            "Iteration 28, inertia 2769167780438.828\n",
            "Converged at iteration 28: center shift 37657.51221526619 within tolerance 109112.56923525628.\n",
            "Initialization complete\n",
            "Iteration 0, inertia 3995462420500.365\n",
            "Iteration 1, inertia 2988404076128.1934\n",
            "Iteration 2, inertia 2905796377541.4414\n",
            "Iteration 3, inertia 2869221337888.9287\n",
            "Iteration 4, inertia 2850730721309.699\n",
            "Iteration 5, inertia 2839024782760.19\n",
            "Iteration 6, inertia 2834270451506.5806\n",
            "Iteration 7, inertia 2832113690847.1953\n",
            "Iteration 8, inertia 2830747702201.8174\n",
            "Iteration 9, inertia 2827402600677.6074\n",
            "Iteration 10, inertia 2824194647736.7275\n",
            "Iteration 11, inertia 2821998695541.298\n",
            "Iteration 12, inertia 2817580204173.215\n",
            "Iteration 13, inertia 2812225224768.163\n",
            "Iteration 14, inertia 2805562902454.7695\n",
            "Iteration 15, inertia 2801880726694.456\n",
            "Iteration 16, inertia 2796512072758.511\n",
            "Iteration 17, inertia 2791533927916.869\n",
            "Iteration 18, inertia 2786862230174.2783\n",
            "Iteration 19, inertia 2781741529465.005\n",
            "Iteration 20, inertia 2775262516723.704\n",
            "Iteration 21, inertia 2770844084921.164\n",
            "Iteration 22, inertia 2769673660415.8633\n",
            "Iteration 23, inertia 2769271454261.4844\n",
            "Iteration 24, inertia 2769167780438.828\n",
            "Converged at iteration 24: center shift 37657.51221526619 within tolerance 109112.56923525628.\n",
            "Initialization complete\n",
            "Iteration 0, inertia 4972221365701.503\n",
            "Iteration 1, inertia 3584062365655.0073\n",
            "Iteration 2, inertia 3382693657364.124\n",
            "Iteration 3, inertia 3305863621566.2305\n",
            "Iteration 4, inertia 3255203735123.4062\n",
            "Iteration 5, inertia 3199784893345.523\n",
            "Iteration 6, inertia 3157817644926.7407\n",
            "Iteration 7, inertia 3121469953147.5327\n",
            "Iteration 8, inertia 3083734505307.9385\n",
            "Iteration 9, inertia 3049935415080.7637\n",
            "Iteration 10, inertia 3011618363659.9097\n",
            "Iteration 11, inertia 2961630194710.5645\n",
            "Iteration 12, inertia 2919028968482.5635\n",
            "Iteration 13, inertia 2883818699968.9883\n",
            "Iteration 14, inertia 2860235082997.5557\n",
            "Iteration 15, inertia 2847419581207.2056\n",
            "Iteration 16, inertia 2838332083019.002\n",
            "Iteration 17, inertia 2834545298168.367\n",
            "Iteration 18, inertia 2832536101737.99\n",
            "Iteration 19, inertia 2830882968961.1895\n",
            "Iteration 20, inertia 2827569978547.278\n",
            "Iteration 21, inertia 2824194647736.7275\n",
            "Iteration 22, inertia 2821998695541.298\n",
            "Iteration 23, inertia 2817580204173.215\n",
            "Iteration 24, inertia 2812225224768.163\n",
            "Iteration 25, inertia 2805562902454.7695\n",
            "Iteration 26, inertia 2801880726694.456\n",
            "Iteration 27, inertia 2796512072758.511\n",
            "Iteration 28, inertia 2791533927916.869\n",
            "Iteration 29, inertia 2786862230174.2783\n",
            "Iteration 30, inertia 2781741529465.005\n",
            "Iteration 31, inertia 2775262516723.704\n",
            "Iteration 32, inertia 2770844084921.164\n",
            "Iteration 33, inertia 2769673660415.8633\n",
            "Iteration 34, inertia 2769271454261.4844\n",
            "Iteration 35, inertia 2769167780438.828\n",
            "Converged at iteration 35: center shift 37657.51221526619 within tolerance 109112.56923525628.\n",
            "Initialization complete\n",
            "Iteration 0, inertia 3763462747231.896\n",
            "Iteration 1, inertia 3425436307487.549\n",
            "Iteration 2, inertia 3291600379744.073\n",
            "Iteration 3, inertia 3220955815409.5005\n",
            "Iteration 4, inertia 3176466593250.1104\n",
            "Iteration 5, inertia 3102673558910.203\n",
            "Iteration 6, inertia 3018017272546.4473\n",
            "Iteration 7, inertia 2950932902842.5195\n",
            "Iteration 8, inertia 2904284785722.967\n",
            "Iteration 9, inertia 2872991597805.111\n",
            "Iteration 10, inertia 2853877853470.7725\n",
            "Iteration 11, inertia 2838272902564.092\n",
            "Iteration 12, inertia 2824319304802.948\n",
            "Iteration 13, inertia 2817978451408.759\n",
            "Iteration 14, inertia 2810035925073.0\n",
            "Iteration 15, inertia 2801348601702.924\n",
            "Iteration 16, inertia 2792682520615.951\n",
            "Iteration 17, inertia 2785530111894.8335\n",
            "Iteration 18, inertia 2779927807247.3955\n",
            "Iteration 19, inertia 2775895529503.007\n",
            "Iteration 20, inertia 2772391230264.208\n",
            "Iteration 21, inertia 2771065835169.3076\n",
            "Iteration 22, inertia 2770905281615.6094\n",
            "Iteration 23, inertia 2770649923348.4478\n",
            "Iteration 24, inertia 2770554992958.5254\n",
            "Converged at iteration 24: center shift 7989.988361867192 within tolerance 109112.56923525628.\n",
            "Initialization complete\n",
            "Iteration 0, inertia 5645753462917.086\n",
            "Iteration 1, inertia 3296717122849.953\n",
            "Iteration 2, inertia 3094993712426.968\n",
            "Iteration 3, inertia 2986744875071.6655\n",
            "Iteration 4, inertia 2922538493979.386\n",
            "Iteration 5, inertia 2893093643053.097\n",
            "Iteration 6, inertia 2867961344142.086\n",
            "Iteration 7, inertia 2851012809455.5137\n",
            "Iteration 8, inertia 2835974140560.047\n",
            "Iteration 9, inertia 2823399027014.288\n",
            "Iteration 10, inertia 2817762371788.073\n",
            "Iteration 11, inertia 2809622065978.046\n",
            "Iteration 12, inertia 2801348601702.924\n",
            "Iteration 13, inertia 2792682520615.951\n",
            "Iteration 14, inertia 2785530111894.8335\n",
            "Iteration 15, inertia 2779927807247.3955\n",
            "Iteration 16, inertia 2775895529503.007\n",
            "Iteration 17, inertia 2772391230264.208\n",
            "Iteration 18, inertia 2771065835169.3076\n",
            "Iteration 19, inertia 2770905281615.6094\n",
            "Iteration 20, inertia 2770649923348.4478\n",
            "Iteration 21, inertia 2770554992958.5254\n",
            "Converged at iteration 21: center shift 7989.988361867192 within tolerance 109112.56923525628.\n",
            "Initialization complete\n",
            "Iteration 0, inertia 3911015884184.27\n",
            "Iteration 1, inertia 2985806837820.426\n",
            "Iteration 2, inertia 2852948426417.322\n",
            "Iteration 3, inertia 2815392677643.902\n",
            "Iteration 4, inertia 2801096939548.55\n",
            "Iteration 5, inertia 2790812535617.241\n",
            "Iteration 6, inertia 2786994591975.86\n",
            "Iteration 7, inertia 2778946078217.6426\n",
            "Iteration 8, inertia 2771473383818.9375\n",
            "Iteration 9, inertia 2769259087378.255\n",
            "Iteration 10, inertia 2769167780438.828\n",
            "Converged at iteration 10: center shift 37657.51221526619 within tolerance 109112.56923525628.\n",
            "Initialization complete\n",
            "Iteration 0, inertia 4092371306418.9785\n",
            "Iteration 1, inertia 2939069227975.76\n",
            "Iteration 2, inertia 2868879327760.0757\n",
            "Iteration 3, inertia 2852446432977.3496\n",
            "Iteration 4, inertia 2842213820976.506\n",
            "Iteration 5, inertia 2836413067163.93\n",
            "Iteration 6, inertia 2833180500871.0884\n",
            "Iteration 7, inertia 2831604635410.923\n",
            "Iteration 8, inertia 2829487327481.9277\n",
            "Iteration 9, inertia 2825228839843.1846\n",
            "Iteration 10, inertia 2823040337210.1016\n",
            "Iteration 11, inertia 2819911342855.165\n",
            "Iteration 12, inertia 2814289827279.9404\n",
            "Iteration 13, inertia 2807022813229.0864\n",
            "Iteration 14, inertia 2802874722789.228\n",
            "Iteration 15, inertia 2798668886656.8794\n",
            "Iteration 16, inertia 2792682866025.296\n",
            "Iteration 17, inertia 2787194649084.289\n",
            "Iteration 18, inertia 2782189733185.5815\n",
            "Iteration 19, inertia 2775262516723.704\n",
            "Iteration 20, inertia 2770844084921.164\n",
            "Iteration 21, inertia 2769673660415.8633\n",
            "Iteration 22, inertia 2769271454261.4844\n",
            "Iteration 23, inertia 2769167780438.828\n",
            "Converged at iteration 23: center shift 37657.51221526619 within tolerance 109112.56923525628.\n",
            "Initialization complete\n",
            "Iteration 0, inertia 5120437151830.135\n",
            "Iteration 1, inertia 3353168000286.118\n",
            "Iteration 2, inertia 3115899285042.9365\n",
            "Iteration 3, inertia 2921707994629.982\n",
            "Iteration 4, inertia 2829554019200.9253\n",
            "Iteration 5, inertia 2794330760062.3438\n",
            "Iteration 6, inertia 2782347123029.706\n",
            "Iteration 7, inertia 2777262781917.0737\n",
            "Iteration 8, inertia 2773649057036.569\n",
            "Iteration 9, inertia 2771857853040.128\n",
            "Iteration 10, inertia 2771679141437.7373\n",
            "Iteration 11, inertia 2771437899289.536\n",
            "Iteration 12, inertia 2771097701538.626\n",
            "Iteration 13, inertia 2770994587919.462\n",
            "Iteration 14, inertia 2770720699562.798\n",
            "Iteration 15, inertia 2770643389868.4883\n",
            "Iteration 16, inertia 2770600505829.95\n",
            "Converged at iteration 16: center shift 20421.615183247977 within tolerance 109112.56923525628.\n",
            "Initialization complete\n",
            "Iteration 0, inertia 3761303507758.259\n",
            "Iteration 1, inertia 3278940780495.305\n",
            "Iteration 2, inertia 3147417941690.3643\n",
            "Iteration 3, inertia 3091495531394.9746\n",
            "Iteration 4, inertia 3048740617611.6396\n",
            "Iteration 5, inertia 3006406469739.842\n",
            "Iteration 6, inertia 2959116046442.5503\n",
            "Iteration 7, inertia 2905769017458.666\n",
            "Iteration 8, inertia 2870824757924.993\n",
            "Iteration 9, inertia 2850328035086.928\n",
            "Iteration 10, inertia 2838529325926.934\n",
            "Iteration 11, inertia 2833421413649.58\n",
            "Iteration 12, inertia 2831362299573.5405\n",
            "Iteration 13, inertia 2829005147063.2944\n",
            "Iteration 14, inertia 2824859806820.966\n",
            "Iteration 15, inertia 2822927946770.6816\n",
            "Iteration 16, inertia 2819718605100.1104\n",
            "Iteration 17, inertia 2813754936172.8096\n",
            "Iteration 18, inertia 2806608719238.0537\n",
            "Iteration 19, inertia 2802416639067.382\n",
            "Iteration 20, inertia 2797808070542.88\n",
            "Iteration 21, inertia 2792120785953.7695\n",
            "Iteration 22, inertia 2786862230174.2783\n",
            "Iteration 23, inertia 2781741529465.005\n",
            "Iteration 24, inertia 2775262516723.704\n",
            "Iteration 25, inertia 2770844084921.164\n",
            "Iteration 26, inertia 2769673660415.8633\n",
            "Iteration 27, inertia 2769271454261.4844\n",
            "Iteration 28, inertia 2769167780438.828\n",
            "Converged at iteration 28: center shift 37657.51221526619 within tolerance 109112.56923525628.\n",
            "Initialization complete\n",
            "Iteration 0, inertia 3509183663307.657\n",
            "Iteration 1, inertia 2812249139500.4873\n",
            "Iteration 2, inertia 2793005720990.127\n",
            "Iteration 3, inertia 2785017836888.4927\n",
            "Iteration 4, inertia 2780131176796.876\n",
            "Iteration 5, inertia 2776233715134.4194\n",
            "Iteration 6, inertia 2772949937011.3174\n",
            "Iteration 7, inertia 2771793475344.0586\n",
            "Iteration 8, inertia 2771437899289.536\n",
            "Iteration 9, inertia 2771097701538.626\n",
            "Iteration 10, inertia 2770994587919.462\n",
            "Iteration 11, inertia 2770720699562.798\n",
            "Iteration 12, inertia 2770643389868.4883\n",
            "Iteration 13, inertia 2770600505829.95\n",
            "Converged at iteration 13: center shift 20421.615183247977 within tolerance 109112.56923525628.\n",
            "Initialization complete\n",
            "Iteration 0, inertia 3583210294338.537\n",
            "Iteration 1, inertia 2864977115541.164\n",
            "Iteration 2, inertia 2784638416449.6055\n",
            "Iteration 3, inertia 2771967286223.9043\n",
            "Iteration 4, inertia 2769225702238.8887\n",
            "Iteration 5, inertia 2768808570790.569\n",
            "Iteration 6, inertia 2768650770516.1016\n",
            "Iteration 7, inertia 2768342306715.1973\n",
            "Iteration 8, inertia 2768231052783.1826\n",
            "Iteration 9, inertia 2768186231941.746\n",
            "Converged at iteration 9: center shift 31292.64122304564 within tolerance 109112.56923525628.\n",
            "Initialization complete\n",
            "Iteration 0, inertia 4423229889147.908\n",
            "Iteration 1, inertia 3112689280133.8613\n",
            "Iteration 2, inertia 2901496786614.761\n",
            "Iteration 3, inertia 2816370069388.706\n",
            "Iteration 4, inertia 2791473020137.0425\n",
            "Iteration 5, inertia 2783310637074.7334\n",
            "Iteration 6, inertia 2778851228067.886\n",
            "Iteration 7, inertia 2774384662628.6978\n",
            "Iteration 8, inertia 2772079042265.2246\n",
            "Iteration 9, inertia 2771679141437.7373\n",
            "Iteration 10, inertia 2771437899289.536\n",
            "Iteration 11, inertia 2771097701538.626\n",
            "Iteration 12, inertia 2770994587919.462\n",
            "Iteration 13, inertia 2770720699562.798\n",
            "Iteration 14, inertia 2770643389868.4883\n",
            "Iteration 15, inertia 2770600505829.95\n",
            "Converged at iteration 15: center shift 20421.615183247977 within tolerance 109112.56923525628.\n",
            "Initialization complete\n",
            "Iteration 0, inertia 3258185658240.6504\n",
            "Iteration 1, inertia 2807958337018.05\n",
            "Iteration 2, inertia 2779409388694.675\n",
            "Iteration 3, inertia 2770054425107.0527\n",
            "Iteration 4, inertia 2768831726291.3164\n",
            "Iteration 5, inertia 2768597948013.428\n",
            "Converged at iteration 5: center shift 8600.074736782824 within tolerance 109112.56923525628.\n",
            "Initialization complete\n",
            "Iteration 0, inertia 4127016702550.0957\n",
            "Iteration 1, inertia 3200949313018.9375\n",
            "Iteration 2, inertia 3164577017754.625\n",
            "Iteration 3, inertia 3160836823008.708\n",
            "Iteration 4, inertia 3159085341414.2095\n",
            "Iteration 5, inertia 3155572480640.0454\n",
            "Iteration 6, inertia 3152632893900.546\n",
            "Iteration 7, inertia 3152323715570.216\n",
            "Iteration 8, inertia 3152215262701.389\n",
            "Iteration 9, inertia 3151941876335.12\n",
            "Iteration 10, inertia 3151575941747.91\n",
            "Iteration 11, inertia 3150864658984.2227\n",
            "Iteration 12, inertia 3150253758565.703\n",
            "Iteration 13, inertia 3148323018013.5234\n",
            "Iteration 14, inertia 3141485299842.293\n",
            "Iteration 15, inertia 3129256393679.293\n",
            "Iteration 16, inertia 3104305481916.1436\n",
            "Iteration 17, inertia 3051661109008.42\n",
            "Iteration 18, inertia 2955272602255.1406\n",
            "Iteration 19, inertia 2868262215934.7686\n",
            "Iteration 20, inertia 2827633538201.6255\n",
            "Iteration 21, inertia 2815977998397.4297\n",
            "Iteration 22, inertia 2803901758882.541\n",
            "Iteration 23, inertia 2793924742220.7314\n",
            "Iteration 24, inertia 2785750798742.7485\n",
            "Iteration 25, inertia 2780457821403.959\n",
            "Iteration 26, inertia 2776617340034.1475\n",
            "Iteration 27, inertia 2772949937011.3174\n",
            "Iteration 28, inertia 2771793475344.0586\n",
            "Iteration 29, inertia 2771437899289.536\n",
            "Iteration 30, inertia 2771097701538.626\n",
            "Iteration 31, inertia 2770994587919.462\n",
            "Iteration 32, inertia 2770720699562.798\n",
            "Iteration 33, inertia 2770643389868.4883\n",
            "Iteration 34, inertia 2770600505829.95\n",
            "Converged at iteration 34: center shift 20421.615183247977 within tolerance 109112.56923525628.\n",
            "Initialization complete\n",
            "Iteration 0, inertia 4358273659929.9575\n",
            "Iteration 1, inertia 3403175645337.533\n",
            "Iteration 2, inertia 3130685782145.615\n",
            "Iteration 3, inertia 3026197204411.566\n",
            "Iteration 4, inertia 2932358120934.492\n",
            "Iteration 5, inertia 2867760523873.86\n",
            "Iteration 6, inertia 2828305573114.92\n",
            "Iteration 7, inertia 2820206199843.549\n",
            "Iteration 8, inertia 2815965024740.1714\n",
            "Iteration 9, inertia 2811282269065.5796\n",
            "Iteration 10, inertia 2805038344867.093\n",
            "Iteration 11, inertia 2794969966784.205\n",
            "Iteration 12, inertia 2791501884184.706\n",
            "Iteration 13, inertia 2786783105061.6987\n",
            "Iteration 14, inertia 2781638898650.092\n",
            "Iteration 15, inertia 2774824918036.9893\n",
            "Iteration 16, inertia 2770656814086.1763\n",
            "Iteration 17, inertia 2769503918276.1943\n",
            "Iteration 18, inertia 2769271454261.4844\n",
            "Iteration 19, inertia 2769167780438.828\n",
            "Converged at iteration 19: center shift 37657.51221526619 within tolerance 109112.56923525628.\n",
            "Initialization complete\n",
            "Iteration 0, inertia 3896962592824.965\n",
            "Iteration 1, inertia 2924801347567.299\n",
            "Iteration 2, inertia 2854179315607.6816\n",
            "Iteration 3, inertia 2838070354362.974\n",
            "Iteration 4, inertia 2828401035964.348\n",
            "Iteration 5, inertia 2819348152961.552\n",
            "Iteration 6, inertia 2811435989460.747\n",
            "Iteration 7, inertia 2805501490056.919\n",
            "Iteration 8, inertia 2798305580642.623\n",
            "Iteration 9, inertia 2791356754595.833\n",
            "Iteration 10, inertia 2783946856707.073\n",
            "Iteration 11, inertia 2777200251157.4307\n",
            "Iteration 12, inertia 2773968301734.67\n",
            "Iteration 13, inertia 2771789545200.593\n",
            "Iteration 14, inertia 2770275278595.1523\n",
            "Iteration 15, inertia 2769636832152.755\n",
            "Iteration 16, inertia 2769271454261.4844\n",
            "Iteration 17, inertia 2769167780438.828\n",
            "Converged at iteration 17: center shift 37657.51221526619 within tolerance 109112.56923525628.\n",
            "Initialization complete\n",
            "Iteration 0, inertia 4106617186299.8833\n",
            "Iteration 1, inertia 3020693157976.3643\n",
            "Iteration 2, inertia 2940268456424.551\n",
            "Iteration 3, inertia 2908036254043.3467\n",
            "Iteration 4, inertia 2879524665615.462\n",
            "Iteration 5, inertia 2858650937716.04\n",
            "Iteration 6, inertia 2843732688848.4434\n",
            "Iteration 7, inertia 2828148696793.4414\n",
            "Iteration 8, inertia 2819909004526.411\n",
            "Iteration 9, inertia 2813746912000.1113\n",
            "Iteration 10, inertia 2804691843635.494\n",
            "Iteration 11, inertia 2798613497081.7188\n",
            "Iteration 12, inertia 2790455352597.14\n",
            "Iteration 13, inertia 2783658176724.664\n",
            "Iteration 14, inertia 2779229152496.9644\n",
            "Iteration 15, inertia 2775126612793.1006\n",
            "Iteration 16, inertia 2772042887380.753\n",
            "Iteration 17, inertia 2771005422026.677\n",
            "Iteration 18, inertia 2770806075840.785\n",
            "Iteration 19, inertia 2770567116801.006\n",
            "Converged at iteration 19: center shift 28208.268795031225 within tolerance 109112.56923525628.\n",
            "Initialization complete\n",
            "Iteration 0, inertia 4038647479638.115\n",
            "Iteration 1, inertia 2874871190175.6553\n",
            "Iteration 2, inertia 2788266150187.623\n",
            "Iteration 3, inertia 2773514641638.827\n",
            "Iteration 4, inertia 2768518746890.7354\n",
            "Iteration 5, inertia 2768162960217.49\n",
            "Iteration 6, inertia 2768112117869.9014\n",
            "Converged at iteration 6: strict convergence.\n",
            "Initialization complete\n",
            "Iteration 0, inertia 4214356624344.5312\n",
            "Iteration 1, inertia 3379692583761.6494\n",
            "Iteration 2, inertia 3359928978242.188\n",
            "Iteration 3, inertia 3355843816067.7646\n",
            "Iteration 4, inertia 3352860143036.6045\n",
            "Iteration 5, inertia 3347700964016.0933\n",
            "Iteration 6, inertia 3323253121583.793\n",
            "Iteration 7, inertia 3294014308040.3066\n",
            "Iteration 8, inertia 3251272923968.8794\n",
            "Iteration 9, inertia 3200226503091.903\n",
            "Iteration 10, inertia 3091226821711.803\n",
            "Iteration 11, inertia 2980797715549.0576\n",
            "Iteration 12, inertia 2895963836565.4346\n",
            "Iteration 13, inertia 2858852552098.4595\n",
            "Iteration 14, inertia 2836216100810.3525\n",
            "Iteration 15, inertia 2823333932444.0146\n",
            "Iteration 16, inertia 2817769811198.451\n",
            "Iteration 17, inertia 2809622065978.046\n",
            "Iteration 18, inertia 2801348601702.924\n",
            "Iteration 19, inertia 2792682520615.951\n",
            "Iteration 20, inertia 2785530111894.8335\n",
            "Iteration 21, inertia 2779927807247.3955\n",
            "Iteration 22, inertia 2775895529503.007\n",
            "Iteration 23, inertia 2772391230264.208\n",
            "Iteration 24, inertia 2771065835169.3076\n",
            "Iteration 25, inertia 2770905281615.6094\n",
            "Iteration 26, inertia 2770649923348.4478\n",
            "Iteration 27, inertia 2770554992958.5254\n",
            "Converged at iteration 27: center shift 7989.988361867192 within tolerance 109112.56923525628.\n",
            "Initialization complete\n",
            "Iteration 0, inertia 3760138307496.3887\n",
            "Iteration 1, inertia 2949255165948.794\n",
            "Iteration 2, inertia 2842032024645.9893\n",
            "Iteration 3, inertia 2807680598920.1055\n",
            "Iteration 4, inertia 2784707864170.0244\n",
            "Iteration 5, inertia 2773895050761.4985\n",
            "Iteration 6, inertia 2770442355739.4717\n",
            "Iteration 7, inertia 2769308635180.4453\n",
            "Iteration 8, inertia 2768693187086.723\n",
            "Iteration 9, inertia 2768361037445.753\n",
            "Iteration 10, inertia 2768269840570.007\n",
            "Iteration 11, inertia 2768184983595.459\n",
            "Converged at iteration 11: center shift 63994.13665351583 within tolerance 109112.56923525628.\n",
            "Initialization complete\n",
            "Iteration 0, inertia 4254059816536.9717\n",
            "Iteration 1, inertia 3457526687440.91\n",
            "Iteration 2, inertia 3341349605603.172\n",
            "Iteration 3, inertia 3257754531969.3076\n",
            "Iteration 4, inertia 3207788797176.1123\n",
            "Iteration 5, inertia 3179971616630.213\n",
            "Iteration 6, inertia 3160213984421.409\n",
            "Iteration 7, inertia 3125422806304.0483\n",
            "Iteration 8, inertia 3068926372382.7725\n",
            "Iteration 9, inertia 3004892016637.183\n",
            "Iteration 10, inertia 2931963414252.465\n",
            "Iteration 11, inertia 2877296972052.2314\n",
            "Iteration 12, inertia 2847539267836.168\n",
            "Iteration 13, inertia 2825848416269.906\n",
            "Iteration 14, inertia 2818978856188.508\n",
            "Iteration 15, inertia 2810732786917.8447\n",
            "Iteration 16, inertia 2801348601702.924\n",
            "Iteration 17, inertia 2792682520615.951\n",
            "Iteration 18, inertia 2785530111894.8335\n",
            "Iteration 19, inertia 2779927807247.3955\n",
            "Iteration 20, inertia 2775895529503.007\n",
            "Iteration 21, inertia 2772391230264.208\n",
            "Iteration 22, inertia 2771065835169.3076\n",
            "Iteration 23, inertia 2770905281615.6094\n",
            "Iteration 24, inertia 2770649923348.4478\n",
            "Iteration 25, inertia 2770554992958.5254\n",
            "Converged at iteration 25: center shift 7989.988361867192 within tolerance 109112.56923525628.\n",
            "Initialization complete\n",
            "Iteration 0, inertia 4119003595050.118\n",
            "Iteration 1, inertia 2934641672503.114\n",
            "Iteration 2, inertia 2819302230874.793\n",
            "Iteration 3, inertia 2785487563056.132\n",
            "Iteration 4, inertia 2772896859259.753\n",
            "Iteration 5, inertia 2771358901719.37\n",
            "Iteration 6, inertia 2770754384548.077\n",
            "Iteration 7, inertia 2770643214111.816\n",
            "Converged at iteration 7: center shift 48570.866779941774 within tolerance 109112.56923525628.\n",
            "Initialization complete\n",
            "Iteration 0, inertia 4264040185669.8433\n",
            "Iteration 1, inertia 2904214761310.867\n",
            "Iteration 2, inertia 2839318871306.9424\n",
            "Iteration 3, inertia 2827706937965.9453\n",
            "Iteration 4, inertia 2817961433347.951\n",
            "Iteration 5, inertia 2809079706925.7524\n",
            "Iteration 6, inertia 2804200789598.511\n",
            "Iteration 7, inertia 2798947995930.8223\n",
            "Iteration 8, inertia 2792367316329.4697\n",
            "Iteration 9, inertia 2785197291283.424\n",
            "Iteration 10, inertia 2777871184972.87\n",
            "Iteration 11, inertia 2774698752672.8916\n",
            "Iteration 12, inertia 2772141393842.597\n",
            "Iteration 13, inertia 2770405959409.118\n",
            "Iteration 14, inertia 2769696177462.329\n",
            "Iteration 15, inertia 2769271454261.4844\n",
            "Iteration 16, inertia 2769167780438.828\n",
            "Converged at iteration 16: center shift 37657.51221526619 within tolerance 109112.56923525628.\n",
            "Initialization complete\n",
            "Iteration 0, inertia 3412211939500.4443\n",
            "Iteration 1, inertia 2914620675676.599\n",
            "Iteration 2, inertia 2846898597204.4517\n",
            "Iteration 3, inertia 2822021610058.9946\n",
            "Iteration 4, inertia 2805681892342.6553\n",
            "Iteration 5, inertia 2797696016753.199\n",
            "Iteration 6, inertia 2788816568417.667\n",
            "Iteration 7, inertia 2781481050666.504\n",
            "Iteration 8, inertia 2777261822107.9507\n",
            "Iteration 9, inertia 2773019804332.4697\n",
            "Iteration 10, inertia 2771147620366.969\n",
            "Iteration 11, inertia 2770905281615.6094\n",
            "Iteration 12, inertia 2770649923348.4478\n",
            "Iteration 13, inertia 2770554992958.5254\n",
            "Converged at iteration 13: center shift 7989.988361867192 within tolerance 109112.56923525628.\n",
            "Initialization complete\n",
            "Iteration 0, inertia 3892428689594.384\n",
            "Iteration 1, inertia 3137330410947.934\n",
            "Iteration 2, inertia 2895601558534.9614\n",
            "Iteration 3, inertia 2811167339104.2725\n",
            "Iteration 4, inertia 2777729079495.424\n",
            "Iteration 5, inertia 2772224097826.455\n",
            "Iteration 6, inertia 2771257524064.621\n",
            "Iteration 7, inertia 2770869135146.4043\n",
            "Iteration 8, inertia 2770737677580.7056\n",
            "Iteration 9, inertia 2770643214111.816\n",
            "Converged at iteration 9: center shift 48570.866779941774 within tolerance 109112.56923525628.\n",
            "Initialization complete\n",
            "Iteration 0, inertia 4129793499446.365\n",
            "Iteration 1, inertia 3050909585415.8613\n",
            "Iteration 2, inertia 2865819061715.954\n",
            "Iteration 3, inertia 2815405719935.6533\n",
            "Iteration 4, inertia 2791962204377.865\n",
            "Iteration 5, inertia 2779266734019.217\n",
            "Iteration 6, inertia 2775191169305.6533\n",
            "Iteration 7, inertia 2773710597415.7695\n",
            "Iteration 8, inertia 2771203468607.3174\n",
            "Iteration 9, inertia 2769571909296.8584\n",
            "Iteration 10, inertia 2768817708977.514\n",
            "Converged at iteration 10: center shift 62776.1948406894 within tolerance 109112.56923525628.\n"
          ]
        }
      ]
    },
    {
      "cell_type": "code",
      "source": [
        "df_x_values[\"etiqueta\"] = clf.labels_"
      ],
      "metadata": {
        "id": "GfPzC6qAl5IJ"
      },
      "execution_count": null,
      "outputs": []
    },
    {
      "cell_type": "code",
      "source": [
        "sns.scatterplot(df_x_values.iloc[:,0],df_x_values.iloc[:,1], hue=df_x_values[\"etiqueta\"])"
      ],
      "metadata": {
        "colab": {
          "base_uri": "https://localhost:8080/",
          "height": 589
        },
        "id": "jgLyeXMQm7k2",
        "outputId": "8ebde33a-ab44-4431-9b95-65fa7af55dc7"
      },
      "execution_count": null,
      "outputs": [
        {
          "output_type": "stream",
          "name": "stderr",
          "text": [
            "/usr/local/lib/python3.7/dist-packages/seaborn/_decorators.py:43: FutureWarning: Pass the following variables as keyword args: x, y. From version 0.12, the only valid positional argument will be `data`, and passing other arguments without an explicit keyword will result in an error or misinterpretation.\n",
            "  FutureWarning\n"
          ]
        },
        {
          "output_type": "execute_result",
          "data": {
            "text/plain": [
              "<matplotlib.axes._subplots.AxesSubplot at 0x7fe1598d3c90>"
            ]
          },
          "metadata": {},
          "execution_count": 64
        },
        {
          "output_type": "display_data",
          "data": {
            "text/plain": [
              "<Figure size 842.4x595.44 with 1 Axes>"
            ],
            "image/png": "[encoded data removed]"
          },
          "metadata": {}
        }
      ]
    },
    {
      "cell_type": "code",
      "source": [
        "from sklearn.cluster import DBSCAN"
      ],
      "metadata": {
        "id": "yUYgWORVnCG9"
      },
      "execution_count": null,
      "outputs": []
    },
    {
      "cell_type": "code",
      "source": [
        "clf = DBSCAN(eps=1, min_samples=2,metric='euclidean',algorithm='auto',n_jobs=-1).fit(df_x_values_no_etiqueta)"
      ],
      "metadata": {
        "id": "aD-Lm7SgoTAV"
      },
      "execution_count": null,
      "outputs": []
    },
    {
      "cell_type": "code",
      "source": [
        "df_x_values[\"etiqueta\"] = clf.labels_"
      ],
      "metadata": {
        "id": "IKbWw9MWratJ"
      },
      "execution_count": null,
      "outputs": []
    },
    {
      "cell_type": "code",
      "source": [
        "sns.scatterplot(df_x_values.iloc[:,0],df_x_values.iloc[:,1], hue=df_x_values[\"etiqueta\"])"
      ],
      "metadata": {
        "colab": {
          "base_uri": "https://localhost:8080/",
          "height": 589
        },
        "id": "unW88bx1rqeL",
        "outputId": "4016e630-2dcf-41da-f286-c491cbad1a00"
      },
      "execution_count": null,
      "outputs": [
        {
          "output_type": "stream",
          "name": "stderr",
          "text": [
            "/usr/local/lib/python3.7/dist-packages/seaborn/_decorators.py:43: FutureWarning: Pass the following variables as keyword args: x, y. From version 0.12, the only valid positional argument will be `data`, and passing other arguments without an explicit keyword will result in an error or misinterpretation.\n",
            "  FutureWarning\n"
          ]
        },
        {
          "output_type": "execute_result",
          "data": {
            "text/plain": [
              "<matplotlib.axes._subplots.AxesSubplot at 0x7fe15902da90>"
            ]
          },
          "metadata": {},
          "execution_count": 68
        },
        {
          "output_type": "display_data",
          "data": {
            "text/plain": [
              "<Figure size 842.4x595.44 with 1 Axes>"
            ],
            "image/png": "[encoded data removed]"
          },
          "metadata": {}
        }
      ]
    },
    {
      "cell_type": "code",
      "source": [
        ""
      ],
      "metadata": {
        "id": "syGDAb1Frsot"
      },
      "execution_count": null,
      "outputs": []
    }
  ]
}